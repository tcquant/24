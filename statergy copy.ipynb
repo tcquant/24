{
 "cells": [
  {
   "cell_type": "code",
   "execution_count": 3,
   "metadata": {
    "colab": {
     "base_uri": "https://localhost:8080/"
    },
    "execution": {
     "iopub.execute_input": "2023-04-14T15:12:43.496606Z",
     "iopub.status.busy": "2023-04-14T15:12:43.495910Z",
     "iopub.status.idle": "2023-04-14T15:12:43.529298Z",
     "shell.execute_reply": "2023-04-14T15:12:43.528258Z",
     "shell.execute_reply.started": "2023-04-14T15:12:43.496569Z"
    },
    "id": "OeQGLkBIlWRB",
    "outputId": "b1cf5953-e30d-486f-ed78-2d4c665199f5"
   },
   "outputs": [],
   "source": [
    "import psycopg2\n",
    "import pandas as pd\n",
    "import numpy as np\n",
    "import plotly.graph_objects as go\n",
    "import plotly.offline as plot\n",
    "import plotly.io as pio\n",
    "import plotly.express as px\n",
    "from plotly.subplots import make_subplots\n"
   ]
  },
  {
   "cell_type": "code",
   "execution_count": 4,
   "metadata": {},
   "outputs": [],
   "source": [
    "conn = psycopg2.connect(\n",
    "           dbname=\"qdap_test\",\n",
    "           user=\"amt\",\n",
    "           password=\"your_password\",\n",
    "           host=\"192.168.2.23\",\n",
    "           port=\"5432\"\n",
    "       )\n",
    "\n",
    "# Create a cursor object using the cursor() method\n",
    "cursor = conn.cursor()\n",
    "\n",
    "def fetch_options(cursor, symbol, expiry):\n",
    "    query = '''\n",
    "        SELECT * \n",
    "        FROM ohlcv_options_per_minute oopm\n",
    "        WHERE symbol = %s\n",
    "        AND expiry_type = 'I'\n",
    "        AND expiry = %s\n",
    "        ORDER BY date_timestamp;\n",
    "        '''\n",
    "    cursor.execute(query,(symbol,expiry))\n",
    "    rows = cursor.fetchall()\n",
    "    df = pd.DataFrame(rows, columns=[desc[0] for desc in cursor.description])\n",
    "    return df\n",
    "# Create a cursor object\n",
    "cursor = conn.cursor()\n",
    "\n",
    "def fetch_futures(cursor, symbol, x):\n",
    "    query = '''\n",
    "        SELECT *\n",
    "        FROM ohlcv_future_per_minute ofpm \n",
    "        WHERE ofpm.symbol = %s\n",
    "        AND ofpm.expiry_type = 'I'\n",
    "        AND DATE(ofpm.expiry) = %s\n",
    "        ORDER BY date_timestamp ASC\n",
    "    '''\n",
    "    # Execute the query with parameters as a tuple\n",
    "    cursor.execute(query, (symbol, x))\n",
    "    rows = cursor.fetchall()\n",
    "    df = pd.DataFrame(rows, columns=[desc[0] for desc in cursor.description])\n",
    "    return df\n",
    "\n",
    "# Define the fetch_expiries function\n",
    "def fetch_expiries(cursor, symbol):\n",
    "    query = f'''\n",
    "        SELECT DISTINCT ofpem.expiry \n",
    "        FROM ohlcv_future_per_minute ofpem \n",
    "        WHERE ofpem.symbol = '{symbol}'\n",
    "        AND ofpem.expiry_type = 'I'\n",
    "        GROUP BY ofpem.expiry \n",
    "    '''\n",
    "    cursor.execute(query)\n",
    "    rows = cursor.fetchall()\n",
    "    df = pd.DataFrame(rows, columns=[desc[0] for desc in cursor.description])\n",
    "    return df"
   ]
  },
  {
   "cell_type": "code",
   "execution_count": 5,
   "metadata": {},
   "outputs": [
    {
     "name": "stdout",
     "output_type": "stream",
     "text": [
      "0 = 2022-05-26 | 1 = 2022-06-30 | 2 = 2022-07-28 | 3 = 2022-08-25 | 4 = 2022-09-29 | 5 = 2022-10-27 | \n",
      "6 = 2022-11-24 | 7 = 2022-12-29 | 8 = 2023-01-25 | 9 = 2023-02-23 | 10 = 2023-03-29 | 11 = 2023-04-27 | \n",
      "12 = 2023-05-25 | 13 = 2023-06-28 | 14 = 2023-06-29 | 15 = 2023-07-27 | 16 = 2023-08-31 | 17 = 2023-09-28 | \n",
      "18 = 2023-10-26 | 19 = 2023-11-30 | 20 = 2023-12-28 | 21 = 2024-01-25 | 22 = 2024-02-29 | 23 = 2024-03-27 | \n",
      "24 = 2024-04-24 | 25 = 2024-05-29 | 26 = 2024-06-26 | 27 = 2024-07-31 | "
     ]
    }
   ],
   "source": [
    "symbol = 'BANKNIFTY'  # Replace with your symbol\n",
    "expiry_future = fetch_expiries(cursor, symbol)\n",
    "\n",
    "# Convert the 'expiry' column to datetime and then to date\n",
    "expiry_future['expiry'] = pd.to_datetime(expiry_future['expiry']).dt.date\n",
    "\n",
    "# Print the expiry dates with their indices\n",
    "for i, row in expiry_future.iterrows():\n",
    "    print(i, row.iloc[0], sep=' = ', end=' | ')\n",
    "    if (i + 1) % 6 == 0:\n",
    "        print()"
   ]
  },
  {
   "cell_type": "code",
   "execution_count": 11,
   "metadata": {},
   "outputs": [],
   "source": [
    "index = 20\n",
    "\n",
    "expiry_date = expiry_future.iloc[index]['expiry']\n",
    "# Fetch the futures data for the selected expiry date\n",
    "futures = fetch_futures(cursor, symbol, expiry_date)\n",
    "# Convert the 'date_timestamp' column to datetime if it exists\n",
    "futures = futures.drop(columns=['id'])\n",
    "futures = futures.drop_duplicates()\n"
   ]
  },
  {
   "cell_type": "code",
   "execution_count": 14,
   "metadata": {},
   "outputs": [],
   "source": [
    "def fill_missings(futures):\n",
    "    # Generate the full range of timestamps for each day\n",
    "    start_time = '09:15:00'\n",
    "    end_time = '15:30:00'\n",
    "\n",
    "    all_timestamps = pd.date_range(start=start_time, end=end_time, freq='min').time\n",
    "\n",
    "    # Generate a DataFrame with all timestamps for each day in the data\n",
    "    all_dates = futures['date_timestamp'].dt.date.unique()\n",
    "    all_date_times = [pd.Timestamp.combine(date, time) for date in all_dates for time in all_timestamps]\n",
    "    all_date_times_df = pd.DataFrame(all_date_times, columns=['date_timestamp'])\n",
    "\n",
    "\n",
    "    # Merge with the original DataFrame to include all timestamps\n",
    "    futures_full = pd.merge(all_date_times_df, futures, on='date_timestamp', how='left')\n",
    "\n",
    "    # Forward and backword fill missing values\n",
    "    futures_full = futures_full.ffill().bfill()\n",
    "\n",
    "    # Sort by date_timestamp to maintain order\n",
    "    futures_full = futures_full.sort_values('date_timestamp').reset_index(drop=True)\n",
    "\n"
   ]
  },
  {
   "cell_type": "code",
   "execution_count": 15,
   "metadata": {},
   "outputs": [],
   "source": [
    "def genrate_signals(futures , long_window = 26, short_window = 9):\n",
    "    futures['Short_EMA'] = futures['close'].ewm(span=short_window, adjust=False).mean()\n",
    "    futures['Long_EMA'] = futures['close'].ewm(span=long_window, adjust=False).mean()\n",
    "\n",
    "    futures['Signal'] = 0 \n",
    "\n",
    "    for i in range(1, len(futures)):\n",
    "        if futures['Short_EMA'].iloc[i] > futures['Long_EMA'].iloc[i] and futures['Short_EMA'].iloc[i-1] <= futures['Long_EMA'].iloc[i-1]:\n",
    "            futures.at[futures.index[i], 'Signal'] = 1  # Buy signal\n",
    "        elif futures['Short_EMA'].iloc[i] < futures['Long_EMA'].iloc[i] and futures['Short_EMA'].iloc[i-1] >= futures['Long_EMA'].iloc[i-1]:\n",
    "            futures.at[futures.index[i], 'Signal'] = -1  # Sell signal"
   ]
  },
  {
   "cell_type": "code",
   "execution_count": 16,
   "metadata": {},
   "outputs": [],
   "source": [
    "def plot_signals(futures):\n",
    "    \n",
    "    fig = make_subplots(rows=1, cols=1)\n",
    "\n",
    "    # Candlestick chart\n",
    "    candlestick = go.Candlestick(\n",
    "        x=futures.index,\n",
    "        open=futures['open'],\n",
    "        high=futures['high'],\n",
    "        low=futures['low'],\n",
    "        close=futures['close'],\n",
    "        name='Candlesticks'\n",
    "    )\n",
    "    fig.add_trace(candlestick)\n",
    "\n",
    "    # Short EMA\n",
    "    short_ema = go.Scatter(x=futures.index, y=futures['Short_EMA'], mode='lines', name='Short EMA')\n",
    "    fig.add_trace(short_ema)\n",
    "\n",
    "    # Long EMA\n",
    "    long_ema = go.Scatter(x=futures.index, y=futures['Long_EMA'], mode='lines', name='Long EMA')\n",
    "    fig.add_trace(long_ema)\n",
    "\n",
    "    # Buy signals\n",
    "    buy_signals = go.Scatter(\n",
    "        x=futures[futures['Signal'] == 1].index,\n",
    "        y=futures['Short_EMA'][futures['Signal'] == 1],\n",
    "        mode='markers',\n",
    "        marker=dict(symbol='triangle-up', color='yellow', size=12),\n",
    "        name='Buy Signal'\n",
    "    )\n",
    "    fig.add_trace(buy_signals)\n",
    "\n",
    "    # Sell signals\n",
    "    sell_signals = go.Scatter(\n",
    "        x=futures[futures['Signal'] == -1].index,\n",
    "        y=futures['Short_EMA'][futures['Signal'] == -1],\n",
    "        mode='markers',\n",
    "        marker=dict(symbol='triangle-down', color='black', size=12),\n",
    "        name='Sell Signal'\n",
    "    )\n",
    "    fig.add_trace(sell_signals)\n",
    "\n",
    "    fig.update_layout(\n",
    "        title=f'{symbol} EMA Crossover Strategy',\n",
    "        yaxis_title='Price',\n",
    "        xaxis_title='Date',\n",
    "        xaxis_rangeslider_visible=False,\n",
    "        width=2000,\n",
    "        height=1000\n",
    "    )\n",
    "\n",
    "    return fig"
   ]
  },
  {
   "cell_type": "code",
   "execution_count": null,
   "metadata": {},
   "outputs": [],
   "source": [
    "import plotly.graph_objs as go\n",
    "from plotly.subplots import make_subplots\n",
    "import plotly.offline as pyo\n",
    "\n",
    "# Assuming 'futures' is already defined as your DataFrame\n",
    "# Ensure 'date_timestamp' is in datetime format\n",
    "futures['date_timestamp'] = pd.to_datetime(futures['date_timestamp'])\n",
    "\n",
    "fig = make_subplots(rows=1, cols=1)\n",
    "\n",
    "# Candlestick chart\n",
    "candlestick = go.Candlestick(\n",
    "    x=futures['date_timestamp'],\n",
    "    open=futures['open'],\n",
    "    high=futures['high'],\n",
    "    low=futures['low'],\n",
    "    close=futures['close'],\n",
    "    name='Candlesticks'\n",
    ")\n",
    "fig.add_trace(candlestick)\n",
    "\n",
    "# Short EMA\n",
    "short_ema = go.Scatter(x=futures['date_timestamp'], y=futures['Short_EMA'], mode='lines', name='Short EMA')\n",
    "fig.add_trace(short_ema)\n",
    "\n",
    "# Long EMA\n",
    "long_ema = go.Scatter(x=futures['date_timestamp'], y=futures['Long_EMA'], mode='lines', name='Long EMA')\n",
    "fig.add_trace(long_ema)\n",
    "\n",
    "# Buy signals\n",
    "buy_signals = go.Scatter(\n",
    "    x=futures[futures['Signal'] == 1]['date_timestamp'],\n",
    "    y=futures['Short_EMA'][futures['Signal'] == 1],\n",
    "    mode='markers',\n",
    "    marker=dict(symbol='triangle-up', color='yellow', size=12),\n",
    "    name='Buy Signal'\n",
    ")\n",
    "fig.add_trace(buy_signals)\n",
    "\n",
    "# Sell signals\n",
    "sell_signals = go.Scatter(\n",
    "    x=futures[futures['Signal'] == -1]['date_timestamp'],\n",
    "    y=futures['Short_EMA'][futures['Signal'] == -1],\n",
    "    mode='markers',\n",
    "    marker=dict(symbol='triangle-down', color='black', size=12),\n",
    "    name='Sell Signal'\n",
    ")\n",
    "fig.add_trace(sell_signals)\n",
    "\n",
    "fig.update_layout(\n",
    "    title=f'{symbol} EMA Crossover Strategy',\n",
    "    yaxis_title='Price',\n",
    "    xaxis_title='Date',\n",
    "    xaxis_rangeslider_visible=False,\n",
    "    width=2000,\n",
    "    height=1000\n",
    ")\n",
    "\n",
    "pyo.plot(fig)"
   ]
  },
  {
   "cell_type": "code",
   "execution_count": 159,
   "metadata": {},
   "outputs": [],
   "source": [
    "\n",
    "options = fetch_options(cursor, symbol=symbol, expiry=str(expiry_date))\n",
    "\n"
   ]
  },
  {
   "cell_type": "code",
   "execution_count": 160,
   "metadata": {},
   "outputs": [
    {
     "name": "stdout",
     "output_type": "stream",
     "text": [
      "314782 431655\n",
      "912000 431655\n"
     ]
    }
   ],
   "source": []
  },
  {
   "cell_type": "code",
   "execution_count": null,
   "metadata": {},
   "outputs": [],
   "source": [
    "def fetch_options_data(options):\n",
    "\n",
    "    options.drop(columns=['id'],inplace = True)\n",
    "    options.drop_duplicates(inplace=True)\n",
    "\n",
    "    options['date_timestamp'] = pd.to_datetime(options['date_timestamp'])\n",
    "    copt = options[options['opt_type']=='CE'].copy()\n",
    "    popt = options[options['opt_type']=='PE'].copy()\n",
    "\n",
    "    copt.drop_duplicates(inplace = True)\n",
    "\n",
    "    popt.drop_duplicates(inplace = True)\n",
    "\n",
    "    strike_values = options['strike'].unique()\n",
    "    all_timestamps = options['date_timestamp'].unique()\n",
    "\n",
    "    d2c = [[j, i]  for j in all_timestamps for i in strike_values]\n",
    "\n",
    "    d2c_df = pd.DataFrame(d2c , columns = ['date_timestamp' , 'strike'])\n",
    "\n",
    "    ce = pd.merge(d2c_df , copt,on=['date_timestamp','strike'] , how='left')\n",
    "    pe = pd.merge(d2c_df , popt,on=['date_timestamp','strike'] , how='left')\n",
    "\n",
    "    return ce.ffill().bfill() , pe.ffill().bfill() \n",
    "\n"
   ]
  },
  {
   "cell_type": "code",
   "execution_count": 164,
   "metadata": {},
   "outputs": [],
   "source": [
    "def lower_bound(arr, target):\n",
    "    low , high = 0, len(arr)\n",
    "    while low < high:\n",
    "        mid = low + (high -low)//2\n",
    "        if arr['strike'].iloc[mid] < target:\n",
    "            low = mid + 1\n",
    "        else:\n",
    "            high = mid\n",
    "    return low\n"
   ]
  },
  {
   "cell_type": "code",
   "execution_count": 165,
   "metadata": {},
   "outputs": [],
   "source": [
    "def generate_trades(ce,pe):\n",
    "\n",
    "    # Define the structures\n",
    "    put = {'pos': 0, 'signal_time': None, 'long_ema': None, 'short_ema': None, 'entry_time': None, 'strike': None,\n",
    "            'entry_price': None, 'exit_time': None, 'exit_price': None , 'pnl': 0 ,'type':None, 'pnl_sum':0 , 'price':None}\n",
    "    call = {'pos': 0, 'signal_time': None, 'long_ema': None, 'short_ema': None, 'entry_time': None, 'strike': None,\n",
    "            'entry_price': None, 'exit_time': None, 'exit_price': None , 'pnl': 0 ,'type':None, 'pnl_sum':0 , 'price':None}\n",
    "\n",
    "    # Initialize trades list\n",
    "    trades = []\n",
    "\n",
    "    for i in range(len(futures) - 1):\n",
    "        row = futures.iloc[i]\n",
    "        signal = row['Signal']\n",
    "        price_selector = 1\n",
    "        price = futures.iloc[i + 1]['close'] if price_selector == 1 else futures.iloc[i + 1]['open']\n",
    "        dt = futures.iloc[i + 1]['date_timestamp']\n",
    "\n",
    "        if signal == 1:\n",
    "            if call['pos'] == 0:\n",
    "                strikes = ce[ce['date_timestamp'] == dt][['date_timestamp', 'open', 'strike']]\n",
    "                if not strikes.empty:\n",
    "                    strikes.sort_values(by='strike', inplace=True)\n",
    "                    var = price\n",
    "                    strikes.reset_index(drop=True, inplace=True)\n",
    "                    index = lower_bound(strikes, var)\n",
    "                    if index >= len(strikes):\n",
    "                        index -= 1\n",
    "                    if index > 0:\n",
    "                        index -= 1\n",
    "                    buy_val = strikes['open'].iloc[index]\n",
    "                    call.update({'pos': 1, 'price': row['close'], 'signal_time': row['date_timestamp'], 'long_ema': row['Long_EMA'],\n",
    "                                'short_ema': row['Short_EMA'], 'strike': strikes['strike'].iloc[index],\n",
    "                                'entry_time': dt, 'entry_price': buy_val})\n",
    "                else:\n",
    "                    print(f'No strikes on call option at {i} and {dt}')\n",
    "            if put['pos'] == 1:\n",
    "                strikes = pe[(pe['date_timestamp'] == dt) & (pe['strike'] == put['strike'])]\n",
    "                if not strikes.empty:\n",
    "                    var = strikes['open'].iloc[0]\n",
    "                    put.update({'pos': 0, 'exit_time': dt, 'exit_price': var, 'pnl': var - put['entry_price'], 'type': 'PE'})\n",
    "                    trades.append(put.copy())\n",
    "                else:\n",
    "                    print(f'No closing on put option at {i}, {dt}, {put[\"strike\"]}')\n",
    "\n",
    "        elif signal == -1:\n",
    "            if put['pos'] == 0:\n",
    "                strikes = pe[pe['date_timestamp'] == dt][['date_timestamp', 'open', 'strike']]\n",
    "                if not strikes.empty:\n",
    "                    strikes.sort_values(by='strike', inplace=True)\n",
    "                    var = price\n",
    "                    strikes.reset_index(drop=True, inplace=True)\n",
    "                    index = lower_bound(strikes, var)\n",
    "                    if index >= len(strikes):\n",
    "                        index -= 1\n",
    "                    if index < len(strikes):\n",
    "                        index += 1\n",
    "                    sell_val = strikes['open'].iloc[index]\n",
    "                    put.update({'pos': 1, 'price': row['close'], 'signal_time': row['date_timestamp'], 'long_ema': row['Long_EMA'],\n",
    "                                'short_ema': row['Short_EMA'], 'strike': strikes['strike'].iloc[index],\n",
    "                                'entry_time': dt, 'entry_price': sell_val})\n",
    "                else:\n",
    "                    print(f'No strikes on put option at {i} and {dt}')\n",
    "            if call['pos'] == 1:\n",
    "                strikes = ce[(ce['date_timestamp'] == dt) & (ce['strike'] == call['strike'])]\n",
    "                if not strikes.empty:\n",
    "                    var = strikes['open'].iloc[0]\n",
    "                    call.update({'pos': 0, 'exit_time': dt, 'exit_price': var, 'pnl': var - call['entry_price'], 'type': 'CE'})\n",
    "                    trades.append(call.copy())\n",
    "                else:\n",
    "                    print(f'No closing on call option at {i}, {dt}, {call[\"strike\"]}')\n",
    "\n",
    "    # Final closing for any open positions at the end of the dataset\n",
    "    if call['pos'] == 1:\n",
    "        call_short = ce[(ce['date_timestamp'] == futures.iloc[-1]['date_timestamp']) & (ce['strike'] == call['strike'])]\n",
    "        if not call_short.empty:\n",
    "            var = call_short.iloc[0]['close']\n",
    "            call.update({'pos': 0, 'exit_time': futures.iloc[-1]['date_timestamp'], 'exit_price': var, 'pnl': var - call['entry_price']})\n",
    "            trades.append(call.copy())\n",
    "        else:\n",
    "            print('No closing on call option')\n",
    "\n",
    "    if put['pos'] == 1:\n",
    "        put_short = pe[(pe['date_timestamp'] == futures.iloc[-1]['date_timestamp']) & (pe['strike'] == put['strike'])]\n",
    "        if not put_short.empty:\n",
    "            var = put_short.iloc[0]['close']\n",
    "            put.update({'pos': 0, 'exit_time': futures.iloc[-1]['date_timestamp'], 'exit_price': var, 'pnl': var - put['entry_price']})\n",
    "            trades.append(put.copy())\n",
    "        else:\n",
    "            print('No closing on put option')"
   ]
  },
  {
   "cell_type": "code",
   "execution_count": 166,
   "metadata": {},
   "outputs": [
    {
     "name": "stdout",
     "output_type": "stream",
     "text": [
      "0 0\n"
     ]
    }
   ],
   "source": [
    "print(put['pos'],call['pos'])"
   ]
  },
  {
   "cell_type": "code",
   "execution_count": 167,
   "metadata": {},
   "outputs": [],
   "source": [
    "for i in range(1,len(trades)):\n",
    "    trades[i]['pnl_sum'] = trades[i-1]['pnl_sum'] + trades[i]['pnl']"
   ]
  },
  {
   "cell_type": "code",
   "execution_count": 168,
   "metadata": {},
   "outputs": [
    {
     "data": {
      "application/vnd.plotly.v1+json": {
       "config": {
        "plotlyServerURL": "https://plot.ly"
       },
       "data": [
        {
         "mode": "lines+markers",
         "name": "PnL",
         "type": "scatter",
         "x": [
          0,
          1,
          2,
          3,
          4,
          5,
          6,
          7,
          8,
          9,
          10,
          11,
          12,
          13,
          14,
          15,
          16,
          17,
          18,
          19,
          20,
          21,
          22,
          23,
          24,
          25,
          26,
          27,
          28,
          29,
          30,
          31,
          32,
          33,
          34,
          35,
          36,
          37,
          38,
          39,
          40,
          41,
          42,
          43,
          44,
          45,
          46,
          47,
          48,
          49,
          50,
          51,
          52,
          53,
          54,
          55,
          56,
          57,
          58,
          59,
          60,
          61,
          62,
          63,
          64,
          65,
          66,
          67,
          68,
          69,
          70,
          71,
          72,
          73,
          74,
          75,
          76,
          77,
          78,
          79,
          80,
          81,
          82,
          83,
          84,
          85,
          86,
          87,
          88,
          89,
          90,
          91,
          92,
          93,
          94,
          95,
          96,
          97,
          98,
          99,
          100,
          101,
          102,
          103,
          104,
          105,
          106,
          107,
          108,
          109,
          110,
          111,
          112,
          113,
          114,
          115,
          116,
          117,
          118,
          119,
          120,
          121,
          122,
          123,
          124,
          125,
          126,
          127,
          128,
          129,
          130,
          131,
          132,
          133,
          134,
          135,
          136,
          137,
          138,
          139,
          140,
          141,
          142,
          143,
          144,
          145,
          146,
          147,
          148,
          149,
          150,
          151,
          152,
          153,
          154,
          155,
          156,
          157,
          158,
          159,
          160,
          161,
          162,
          163,
          164,
          165,
          166,
          167,
          168,
          169,
          170,
          171,
          172,
          173,
          174,
          175,
          176,
          177,
          178,
          179,
          180,
          181,
          182,
          183,
          184,
          185,
          186,
          187,
          188,
          189,
          190,
          191,
          192,
          193,
          194,
          195,
          196,
          197,
          198,
          199,
          200,
          201,
          202,
          203,
          204,
          205,
          206,
          207,
          208,
          209,
          210,
          211,
          212,
          213,
          214,
          215,
          216,
          217,
          218,
          219,
          220,
          221,
          222,
          223,
          224,
          225,
          226,
          227,
          228,
          229,
          230,
          231,
          232,
          233,
          234,
          235,
          236,
          237,
          238,
          239,
          240,
          241,
          242,
          243,
          244,
          245,
          246,
          247,
          248,
          249,
          250,
          251,
          252,
          253,
          254,
          255,
          256,
          257,
          258,
          259,
          260,
          261,
          262,
          263,
          264,
          265,
          266,
          267,
          268,
          269,
          270,
          271,
          272,
          273,
          274,
          275,
          276,
          277,
          278,
          279,
          280,
          281,
          282,
          283
         ],
         "y": [
          -500,
          17450,
          64605,
          -1770,
          -66090,
          1490,
          -375,
          0,
          65015,
          22630,
          66895,
          -26385,
          -67465,
          -25460,
          295,
          -2450,
          -1735,
          51740,
          -1770,
          17675,
          -2705,
          -1965,
          -15,
          69075,
          -5485,
          -2325,
          -1225,
          -6205,
          1720,
          -3645,
          -3705,
          4180,
          -1160,
          -2990,
          -3390,
          -640,
          -8675,
          -8995,
          10630,
          2510,
          -1765,
          -640,
          -1230,
          -625,
          2720,
          505,
          -60,
          -1035,
          -1760,
          -1190,
          5530,
          -5260,
          -3940,
          -2720,
          -2565,
          9335,
          -1575,
          60,
          -2060,
          -1250,
          -1690,
          -1325,
          -985,
          -570,
          -200,
          975,
          -1305,
          -4355,
          -61975,
          -425,
          -340,
          -1520,
          -4205,
          4360,
          -815,
          25,
          -4885,
          -3925,
          -1585,
          -1235,
          5980,
          -1425,
          -955,
          -470,
          35,
          -230,
          -965,
          20625,
          -5750,
          -2120,
          -2360,
          110,
          495,
          -2120,
          -105,
          -985,
          -800,
          -1115,
          -1595,
          -795,
          -805,
          -1355,
          35,
          -130,
          -5690,
          -1110,
          -6455,
          -1185,
          -6845,
          -40,
          -2160,
          -3875,
          -2505,
          -1670,
          4805,
          840,
          250,
          -1285,
          -10480,
          -970,
          1790,
          -630,
          595,
          -2555,
          -1990,
          -3080,
          2570,
          -1225,
          -1325,
          -1740,
          -1060,
          830,
          -1975,
          -780,
          -430,
          -615,
          -25865,
          5460,
          -3855,
          -560,
          1905,
          42380,
          -320,
          -1240,
          -705,
          -1405,
          -295,
          -1995,
          -1705,
          -1385,
          -18740,
          -505,
          -1250,
          3600,
          555,
          -1815,
          345,
          -485,
          665,
          -915,
          -1325,
          -2450,
          3960,
          -860,
          -315,
          105,
          -1475,
          18515,
          9495,
          -1225,
          105,
          960,
          -2375,
          -3060,
          -2325,
          -1345,
          435,
          -1110,
          305,
          -905,
          485,
          -15,
          7385,
          -1600,
          -630,
          325,
          -1050,
          11480,
          -1245,
          2760,
          -1300,
          -1475,
          -5500,
          -2325,
          1325,
          -2610,
          -90,
          -655,
          -1340,
          -605,
          -1435,
          50,
          73865,
          -3755,
          -2185,
          -4210,
          -4295,
          945,
          -6220,
          4935,
          -2460,
          -2965,
          -1960,
          -2310,
          -2645,
          -1195,
          -3335,
          8435,
          -2145,
          -1970,
          -3610,
          -4265,
          2655,
          32980,
          -2855,
          -8130,
          -1515,
          11650,
          -950,
          -755,
          1695,
          -3975,
          900,
          -4415,
          10430,
          -5495,
          -6650,
          -5260,
          -3505,
          8395,
          -2670,
          -2290,
          -1080,
          -850,
          -1450,
          -1415,
          -2185,
          195,
          -245,
          0,
          -2405,
          290,
          -1990,
          13890,
          -1265,
          345,
          -1285,
          -930,
          -2415,
          630,
          -45,
          -2255,
          -1330,
          -2860,
          -5985,
          27705,
          -235,
          -3755,
          -5215,
          2475,
          -2480,
          -820,
          -1775,
          105,
          -1180,
          -1515,
          -3430,
          -1685,
          -870,
          -2285,
          -4090,
          -5825,
          -2820,
          -3000
         ]
        }
       ],
       "layout": {
        "template": {
         "data": {
          "bar": [
           {
            "error_x": {
             "color": "#2a3f5f"
            },
            "error_y": {
             "color": "#2a3f5f"
            },
            "marker": {
             "line": {
              "color": "#E5ECF6",
              "width": 0.5
             },
             "pattern": {
              "fillmode": "overlay",
              "size": 10,
              "solidity": 0.2
             }
            },
            "type": "bar"
           }
          ],
          "barpolar": [
           {
            "marker": {
             "line": {
              "color": "#E5ECF6",
              "width": 0.5
             },
             "pattern": {
              "fillmode": "overlay",
              "size": 10,
              "solidity": 0.2
             }
            },
            "type": "barpolar"
           }
          ],
          "carpet": [
           {
            "aaxis": {
             "endlinecolor": "#2a3f5f",
             "gridcolor": "white",
             "linecolor": "white",
             "minorgridcolor": "white",
             "startlinecolor": "#2a3f5f"
            },
            "baxis": {
             "endlinecolor": "#2a3f5f",
             "gridcolor": "white",
             "linecolor": "white",
             "minorgridcolor": "white",
             "startlinecolor": "#2a3f5f"
            },
            "type": "carpet"
           }
          ],
          "choropleth": [
           {
            "colorbar": {
             "outlinewidth": 0,
             "ticks": ""
            },
            "type": "choropleth"
           }
          ],
          "contour": [
           {
            "colorbar": {
             "outlinewidth": 0,
             "ticks": ""
            },
            "colorscale": [
             [
              0,
              "#0d0887"
             ],
             [
              0.1111111111111111,
              "#46039f"
             ],
             [
              0.2222222222222222,
              "#7201a8"
             ],
             [
              0.3333333333333333,
              "#9c179e"
             ],
             [
              0.4444444444444444,
              "#bd3786"
             ],
             [
              0.5555555555555556,
              "#d8576b"
             ],
             [
              0.6666666666666666,
              "#ed7953"
             ],
             [
              0.7777777777777778,
              "#fb9f3a"
             ],
             [
              0.8888888888888888,
              "#fdca26"
             ],
             [
              1,
              "#f0f921"
             ]
            ],
            "type": "contour"
           }
          ],
          "contourcarpet": [
           {
            "colorbar": {
             "outlinewidth": 0,
             "ticks": ""
            },
            "type": "contourcarpet"
           }
          ],
          "heatmap": [
           {
            "colorbar": {
             "outlinewidth": 0,
             "ticks": ""
            },
            "colorscale": [
             [
              0,
              "#0d0887"
             ],
             [
              0.1111111111111111,
              "#46039f"
             ],
             [
              0.2222222222222222,
              "#7201a8"
             ],
             [
              0.3333333333333333,
              "#9c179e"
             ],
             [
              0.4444444444444444,
              "#bd3786"
             ],
             [
              0.5555555555555556,
              "#d8576b"
             ],
             [
              0.6666666666666666,
              "#ed7953"
             ],
             [
              0.7777777777777778,
              "#fb9f3a"
             ],
             [
              0.8888888888888888,
              "#fdca26"
             ],
             [
              1,
              "#f0f921"
             ]
            ],
            "type": "heatmap"
           }
          ],
          "heatmapgl": [
           {
            "colorbar": {
             "outlinewidth": 0,
             "ticks": ""
            },
            "colorscale": [
             [
              0,
              "#0d0887"
             ],
             [
              0.1111111111111111,
              "#46039f"
             ],
             [
              0.2222222222222222,
              "#7201a8"
             ],
             [
              0.3333333333333333,
              "#9c179e"
             ],
             [
              0.4444444444444444,
              "#bd3786"
             ],
             [
              0.5555555555555556,
              "#d8576b"
             ],
             [
              0.6666666666666666,
              "#ed7953"
             ],
             [
              0.7777777777777778,
              "#fb9f3a"
             ],
             [
              0.8888888888888888,
              "#fdca26"
             ],
             [
              1,
              "#f0f921"
             ]
            ],
            "type": "heatmapgl"
           }
          ],
          "histogram": [
           {
            "marker": {
             "pattern": {
              "fillmode": "overlay",
              "size": 10,
              "solidity": 0.2
             }
            },
            "type": "histogram"
           }
          ],
          "histogram2d": [
           {
            "colorbar": {
             "outlinewidth": 0,
             "ticks": ""
            },
            "colorscale": [
             [
              0,
              "#0d0887"
             ],
             [
              0.1111111111111111,
              "#46039f"
             ],
             [
              0.2222222222222222,
              "#7201a8"
             ],
             [
              0.3333333333333333,
              "#9c179e"
             ],
             [
              0.4444444444444444,
              "#bd3786"
             ],
             [
              0.5555555555555556,
              "#d8576b"
             ],
             [
              0.6666666666666666,
              "#ed7953"
             ],
             [
              0.7777777777777778,
              "#fb9f3a"
             ],
             [
              0.8888888888888888,
              "#fdca26"
             ],
             [
              1,
              "#f0f921"
             ]
            ],
            "type": "histogram2d"
           }
          ],
          "histogram2dcontour": [
           {
            "colorbar": {
             "outlinewidth": 0,
             "ticks": ""
            },
            "colorscale": [
             [
              0,
              "#0d0887"
             ],
             [
              0.1111111111111111,
              "#46039f"
             ],
             [
              0.2222222222222222,
              "#7201a8"
             ],
             [
              0.3333333333333333,
              "#9c179e"
             ],
             [
              0.4444444444444444,
              "#bd3786"
             ],
             [
              0.5555555555555556,
              "#d8576b"
             ],
             [
              0.6666666666666666,
              "#ed7953"
             ],
             [
              0.7777777777777778,
              "#fb9f3a"
             ],
             [
              0.8888888888888888,
              "#fdca26"
             ],
             [
              1,
              "#f0f921"
             ]
            ],
            "type": "histogram2dcontour"
           }
          ],
          "mesh3d": [
           {
            "colorbar": {
             "outlinewidth": 0,
             "ticks": ""
            },
            "type": "mesh3d"
           }
          ],
          "parcoords": [
           {
            "line": {
             "colorbar": {
              "outlinewidth": 0,
              "ticks": ""
             }
            },
            "type": "parcoords"
           }
          ],
          "pie": [
           {
            "automargin": true,
            "type": "pie"
           }
          ],
          "scatter": [
           {
            "fillpattern": {
             "fillmode": "overlay",
             "size": 10,
             "solidity": 0.2
            },
            "type": "scatter"
           }
          ],
          "scatter3d": [
           {
            "line": {
             "colorbar": {
              "outlinewidth": 0,
              "ticks": ""
             }
            },
            "marker": {
             "colorbar": {
              "outlinewidth": 0,
              "ticks": ""
             }
            },
            "type": "scatter3d"
           }
          ],
          "scattercarpet": [
           {
            "marker": {
             "colorbar": {
              "outlinewidth": 0,
              "ticks": ""
             }
            },
            "type": "scattercarpet"
           }
          ],
          "scattergeo": [
           {
            "marker": {
             "colorbar": {
              "outlinewidth": 0,
              "ticks": ""
             }
            },
            "type": "scattergeo"
           }
          ],
          "scattergl": [
           {
            "marker": {
             "colorbar": {
              "outlinewidth": 0,
              "ticks": ""
             }
            },
            "type": "scattergl"
           }
          ],
          "scattermapbox": [
           {
            "marker": {
             "colorbar": {
              "outlinewidth": 0,
              "ticks": ""
             }
            },
            "type": "scattermapbox"
           }
          ],
          "scatterpolar": [
           {
            "marker": {
             "colorbar": {
              "outlinewidth": 0,
              "ticks": ""
             }
            },
            "type": "scatterpolar"
           }
          ],
          "scatterpolargl": [
           {
            "marker": {
             "colorbar": {
              "outlinewidth": 0,
              "ticks": ""
             }
            },
            "type": "scatterpolargl"
           }
          ],
          "scatterternary": [
           {
            "marker": {
             "colorbar": {
              "outlinewidth": 0,
              "ticks": ""
             }
            },
            "type": "scatterternary"
           }
          ],
          "surface": [
           {
            "colorbar": {
             "outlinewidth": 0,
             "ticks": ""
            },
            "colorscale": [
             [
              0,
              "#0d0887"
             ],
             [
              0.1111111111111111,
              "#46039f"
             ],
             [
              0.2222222222222222,
              "#7201a8"
             ],
             [
              0.3333333333333333,
              "#9c179e"
             ],
             [
              0.4444444444444444,
              "#bd3786"
             ],
             [
              0.5555555555555556,
              "#d8576b"
             ],
             [
              0.6666666666666666,
              "#ed7953"
             ],
             [
              0.7777777777777778,
              "#fb9f3a"
             ],
             [
              0.8888888888888888,
              "#fdca26"
             ],
             [
              1,
              "#f0f921"
             ]
            ],
            "type": "surface"
           }
          ],
          "table": [
           {
            "cells": {
             "fill": {
              "color": "#EBF0F8"
             },
             "line": {
              "color": "white"
             }
            },
            "header": {
             "fill": {
              "color": "#C8D4E3"
             },
             "line": {
              "color": "white"
             }
            },
            "type": "table"
           }
          ]
         },
         "layout": {
          "annotationdefaults": {
           "arrowcolor": "#2a3f5f",
           "arrowhead": 0,
           "arrowwidth": 1
          },
          "autotypenumbers": "strict",
          "coloraxis": {
           "colorbar": {
            "outlinewidth": 0,
            "ticks": ""
           }
          },
          "colorscale": {
           "diverging": [
            [
             0,
             "#8e0152"
            ],
            [
             0.1,
             "#c51b7d"
            ],
            [
             0.2,
             "#de77ae"
            ],
            [
             0.3,
             "#f1b6da"
            ],
            [
             0.4,
             "#fde0ef"
            ],
            [
             0.5,
             "#f7f7f7"
            ],
            [
             0.6,
             "#e6f5d0"
            ],
            [
             0.7,
             "#b8e186"
            ],
            [
             0.8,
             "#7fbc41"
            ],
            [
             0.9,
             "#4d9221"
            ],
            [
             1,
             "#276419"
            ]
           ],
           "sequential": [
            [
             0,
             "#0d0887"
            ],
            [
             0.1111111111111111,
             "#46039f"
            ],
            [
             0.2222222222222222,
             "#7201a8"
            ],
            [
             0.3333333333333333,
             "#9c179e"
            ],
            [
             0.4444444444444444,
             "#bd3786"
            ],
            [
             0.5555555555555556,
             "#d8576b"
            ],
            [
             0.6666666666666666,
             "#ed7953"
            ],
            [
             0.7777777777777778,
             "#fb9f3a"
            ],
            [
             0.8888888888888888,
             "#fdca26"
            ],
            [
             1,
             "#f0f921"
            ]
           ],
           "sequentialminus": [
            [
             0,
             "#0d0887"
            ],
            [
             0.1111111111111111,
             "#46039f"
            ],
            [
             0.2222222222222222,
             "#7201a8"
            ],
            [
             0.3333333333333333,
             "#9c179e"
            ],
            [
             0.4444444444444444,
             "#bd3786"
            ],
            [
             0.5555555555555556,
             "#d8576b"
            ],
            [
             0.6666666666666666,
             "#ed7953"
            ],
            [
             0.7777777777777778,
             "#fb9f3a"
            ],
            [
             0.8888888888888888,
             "#fdca26"
            ],
            [
             1,
             "#f0f921"
            ]
           ]
          },
          "colorway": [
           "#636efa",
           "#EF553B",
           "#00cc96",
           "#ab63fa",
           "#FFA15A",
           "#19d3f3",
           "#FF6692",
           "#B6E880",
           "#FF97FF",
           "#FECB52"
          ],
          "font": {
           "color": "#2a3f5f"
          },
          "geo": {
           "bgcolor": "white",
           "lakecolor": "white",
           "landcolor": "#E5ECF6",
           "showlakes": true,
           "showland": true,
           "subunitcolor": "white"
          },
          "hoverlabel": {
           "align": "left"
          },
          "hovermode": "closest",
          "mapbox": {
           "style": "light"
          },
          "paper_bgcolor": "white",
          "plot_bgcolor": "#E5ECF6",
          "polar": {
           "angularaxis": {
            "gridcolor": "white",
            "linecolor": "white",
            "ticks": ""
           },
           "bgcolor": "#E5ECF6",
           "radialaxis": {
            "gridcolor": "white",
            "linecolor": "white",
            "ticks": ""
           }
          },
          "scene": {
           "xaxis": {
            "backgroundcolor": "#E5ECF6",
            "gridcolor": "white",
            "gridwidth": 2,
            "linecolor": "white",
            "showbackground": true,
            "ticks": "",
            "zerolinecolor": "white"
           },
           "yaxis": {
            "backgroundcolor": "#E5ECF6",
            "gridcolor": "white",
            "gridwidth": 2,
            "linecolor": "white",
            "showbackground": true,
            "ticks": "",
            "zerolinecolor": "white"
           },
           "zaxis": {
            "backgroundcolor": "#E5ECF6",
            "gridcolor": "white",
            "gridwidth": 2,
            "linecolor": "white",
            "showbackground": true,
            "ticks": "",
            "zerolinecolor": "white"
           }
          },
          "shapedefaults": {
           "line": {
            "color": "#2a3f5f"
           }
          },
          "ternary": {
           "aaxis": {
            "gridcolor": "white",
            "linecolor": "white",
            "ticks": ""
           },
           "baxis": {
            "gridcolor": "white",
            "linecolor": "white",
            "ticks": ""
           },
           "bgcolor": "#E5ECF6",
           "caxis": {
            "gridcolor": "white",
            "linecolor": "white",
            "ticks": ""
           }
          },
          "title": {
           "x": 0.05
          },
          "xaxis": {
           "automargin": true,
           "gridcolor": "white",
           "linecolor": "white",
           "ticks": "",
           "title": {
            "standoff": 15
           },
           "zerolinecolor": "white",
           "zerolinewidth": 2
          },
          "yaxis": {
           "automargin": true,
           "gridcolor": "white",
           "linecolor": "white",
           "ticks": "",
           "title": {
            "standoff": 15
           },
           "zerolinecolor": "white",
           "zerolinewidth": 2
          }
         }
        }
       }
      }
     },
     "metadata": {},
     "output_type": "display_data"
    }
   ],
   "source": [
    "fig = go.Figure()\n",
    "\n",
    "fig.add_trace(go.Scatter(\n",
    "    x=[i for i in range(len(trades))],\n",
    "    y=[i['pnl'] for i in trades],\n",
    "    mode='lines+markers',\n",
    "    name='PnL'\n",
    "))\n",
    "\n",
    "fig.show()"
   ]
  },
  {
   "cell_type": "code",
   "execution_count": 169,
   "metadata": {},
   "outputs": [
    {
     "data": {
      "application/vnd.plotly.v1+json": {
       "config": {
        "plotlyServerURL": "https://plot.ly"
       },
       "data": [
        {
         "mode": "lines+markers",
         "name": "PnL",
         "type": "scatter",
         "x": [
          0,
          1,
          2,
          3,
          4,
          5,
          6,
          7,
          8,
          9,
          10,
          11,
          12,
          13,
          14,
          15,
          16,
          17,
          18,
          19,
          20,
          21,
          22,
          23,
          24,
          25,
          26,
          27,
          28,
          29,
          30,
          31,
          32,
          33,
          34,
          35,
          36,
          37,
          38,
          39,
          40,
          41,
          42,
          43,
          44,
          45,
          46,
          47,
          48,
          49,
          50,
          51,
          52,
          53,
          54,
          55,
          56,
          57,
          58,
          59,
          60,
          61,
          62,
          63,
          64,
          65,
          66,
          67,
          68,
          69,
          70,
          71,
          72,
          73,
          74,
          75,
          76,
          77,
          78,
          79,
          80,
          81,
          82,
          83,
          84,
          85,
          86,
          87,
          88,
          89,
          90,
          91,
          92,
          93,
          94,
          95,
          96,
          97,
          98,
          99,
          100,
          101,
          102,
          103,
          104,
          105,
          106,
          107,
          108,
          109,
          110,
          111,
          112,
          113,
          114,
          115,
          116,
          117,
          118,
          119,
          120,
          121,
          122,
          123,
          124,
          125,
          126,
          127,
          128,
          129,
          130,
          131,
          132,
          133,
          134,
          135,
          136,
          137,
          138,
          139,
          140,
          141,
          142,
          143,
          144,
          145,
          146,
          147,
          148,
          149,
          150,
          151,
          152,
          153,
          154,
          155,
          156,
          157,
          158,
          159,
          160,
          161,
          162,
          163,
          164,
          165,
          166,
          167,
          168,
          169,
          170,
          171,
          172,
          173,
          174,
          175,
          176,
          177,
          178,
          179,
          180,
          181,
          182,
          183,
          184,
          185,
          186,
          187,
          188,
          189,
          190,
          191,
          192,
          193,
          194,
          195,
          196,
          197,
          198,
          199,
          200,
          201,
          202,
          203,
          204,
          205,
          206,
          207,
          208,
          209,
          210,
          211,
          212,
          213,
          214,
          215,
          216,
          217,
          218,
          219,
          220,
          221,
          222,
          223,
          224,
          225,
          226,
          227,
          228,
          229,
          230,
          231,
          232,
          233,
          234,
          235,
          236,
          237,
          238,
          239,
          240,
          241,
          242,
          243,
          244,
          245,
          246,
          247,
          248,
          249,
          250,
          251,
          252,
          253,
          254,
          255,
          256,
          257,
          258,
          259,
          260,
          261,
          262,
          263,
          264,
          265,
          266,
          267,
          268,
          269,
          270,
          271,
          272,
          273,
          274,
          275,
          276,
          277,
          278,
          279,
          280,
          281,
          282,
          283
         ],
         "y": [
          0,
          17450,
          82055,
          80285,
          14195,
          15685,
          15310,
          15310,
          80325,
          102955,
          169850,
          143465,
          76000,
          50540,
          50835,
          48385,
          46650,
          98390,
          96620,
          114295,
          111590,
          109625,
          109610,
          178685,
          173200,
          170875,
          169650,
          163445,
          165165,
          161520,
          157815,
          161995,
          160835,
          157845,
          154455,
          153815,
          145140,
          136145,
          146775,
          149285,
          147520,
          146880,
          145650,
          145025,
          147745,
          148250,
          148190,
          147155,
          145395,
          144205,
          149735,
          144475,
          140535,
          137815,
          135250,
          144585,
          143010,
          143070,
          141010,
          139760,
          138070,
          136745,
          135760,
          135190,
          134990,
          135965,
          134660,
          130305,
          68330,
          67905,
          67565,
          66045,
          61840,
          66200,
          65385,
          65410,
          60525,
          56600,
          55015,
          53780,
          59760,
          58335,
          57380,
          56910,
          56945,
          56715,
          55750,
          76375,
          70625,
          68505,
          66145,
          66255,
          66750,
          64630,
          64525,
          63540,
          62740,
          61625,
          60030,
          59235,
          58430,
          57075,
          57110,
          56980,
          51290,
          50180,
          43725,
          42540,
          35695,
          35655,
          33495,
          29620,
          27115,
          25445,
          30250,
          31090,
          31340,
          30055,
          19575,
          18605,
          20395,
          19765,
          20360,
          17805,
          15815,
          12735,
          15305,
          14080,
          12755,
          11015,
          9955,
          10785,
          8810,
          8030,
          7600,
          6985,
          -18880,
          -13420,
          -17275,
          -17835,
          -15930,
          26450,
          26130,
          24890,
          24185,
          22780,
          22485,
          20490,
          18785,
          17400,
          -1340,
          -1845,
          -3095,
          505,
          1060,
          -755,
          -410,
          -895,
          -230,
          -1145,
          -2470,
          -4920,
          -960,
          -1820,
          -2135,
          -2030,
          -3505,
          15010,
          24505,
          23280,
          23385,
          24345,
          21970,
          18910,
          16585,
          15240,
          15675,
          14565,
          14870,
          13965,
          14450,
          14435,
          21820,
          20220,
          19590,
          19915,
          18865,
          30345,
          29100,
          31860,
          30560,
          29085,
          23585,
          21260,
          22585,
          19975,
          19885,
          19230,
          17890,
          17285,
          15850,
          15900,
          89765,
          86010,
          83825,
          79615,
          75320,
          76265,
          70045,
          74980,
          72520,
          69555,
          67595,
          65285,
          62640,
          61445,
          58110,
          66545,
          64400,
          62430,
          58820,
          54555,
          57210,
          90190,
          87335,
          79205,
          77690,
          89340,
          88390,
          87635,
          89330,
          85355,
          86255,
          81840,
          92270,
          86775,
          80125,
          74865,
          71360,
          79755,
          77085,
          74795,
          73715,
          72865,
          71415,
          70000,
          67815,
          68010,
          67765,
          67765,
          65360,
          65650,
          63660,
          77550,
          76285,
          76630,
          75345,
          74415,
          72000,
          72630,
          72585,
          70330,
          69000,
          66140,
          60155,
          87860,
          87625,
          83870,
          78655,
          81130,
          78650,
          77830,
          76055,
          76160,
          74980,
          73465,
          70035,
          68350,
          67480,
          65195,
          61105,
          55280,
          52460,
          49460
         ]
        }
       ],
       "layout": {
        "template": {
         "data": {
          "bar": [
           {
            "error_x": {
             "color": "#2a3f5f"
            },
            "error_y": {
             "color": "#2a3f5f"
            },
            "marker": {
             "line": {
              "color": "#E5ECF6",
              "width": 0.5
             },
             "pattern": {
              "fillmode": "overlay",
              "size": 10,
              "solidity": 0.2
             }
            },
            "type": "bar"
           }
          ],
          "barpolar": [
           {
            "marker": {
             "line": {
              "color": "#E5ECF6",
              "width": 0.5
             },
             "pattern": {
              "fillmode": "overlay",
              "size": 10,
              "solidity": 0.2
             }
            },
            "type": "barpolar"
           }
          ],
          "carpet": [
           {
            "aaxis": {
             "endlinecolor": "#2a3f5f",
             "gridcolor": "white",
             "linecolor": "white",
             "minorgridcolor": "white",
             "startlinecolor": "#2a3f5f"
            },
            "baxis": {
             "endlinecolor": "#2a3f5f",
             "gridcolor": "white",
             "linecolor": "white",
             "minorgridcolor": "white",
             "startlinecolor": "#2a3f5f"
            },
            "type": "carpet"
           }
          ],
          "choropleth": [
           {
            "colorbar": {
             "outlinewidth": 0,
             "ticks": ""
            },
            "type": "choropleth"
           }
          ],
          "contour": [
           {
            "colorbar": {
             "outlinewidth": 0,
             "ticks": ""
            },
            "colorscale": [
             [
              0,
              "#0d0887"
             ],
             [
              0.1111111111111111,
              "#46039f"
             ],
             [
              0.2222222222222222,
              "#7201a8"
             ],
             [
              0.3333333333333333,
              "#9c179e"
             ],
             [
              0.4444444444444444,
              "#bd3786"
             ],
             [
              0.5555555555555556,
              "#d8576b"
             ],
             [
              0.6666666666666666,
              "#ed7953"
             ],
             [
              0.7777777777777778,
              "#fb9f3a"
             ],
             [
              0.8888888888888888,
              "#fdca26"
             ],
             [
              1,
              "#f0f921"
             ]
            ],
            "type": "contour"
           }
          ],
          "contourcarpet": [
           {
            "colorbar": {
             "outlinewidth": 0,
             "ticks": ""
            },
            "type": "contourcarpet"
           }
          ],
          "heatmap": [
           {
            "colorbar": {
             "outlinewidth": 0,
             "ticks": ""
            },
            "colorscale": [
             [
              0,
              "#0d0887"
             ],
             [
              0.1111111111111111,
              "#46039f"
             ],
             [
              0.2222222222222222,
              "#7201a8"
             ],
             [
              0.3333333333333333,
              "#9c179e"
             ],
             [
              0.4444444444444444,
              "#bd3786"
             ],
             [
              0.5555555555555556,
              "#d8576b"
             ],
             [
              0.6666666666666666,
              "#ed7953"
             ],
             [
              0.7777777777777778,
              "#fb9f3a"
             ],
             [
              0.8888888888888888,
              "#fdca26"
             ],
             [
              1,
              "#f0f921"
             ]
            ],
            "type": "heatmap"
           }
          ],
          "heatmapgl": [
           {
            "colorbar": {
             "outlinewidth": 0,
             "ticks": ""
            },
            "colorscale": [
             [
              0,
              "#0d0887"
             ],
             [
              0.1111111111111111,
              "#46039f"
             ],
             [
              0.2222222222222222,
              "#7201a8"
             ],
             [
              0.3333333333333333,
              "#9c179e"
             ],
             [
              0.4444444444444444,
              "#bd3786"
             ],
             [
              0.5555555555555556,
              "#d8576b"
             ],
             [
              0.6666666666666666,
              "#ed7953"
             ],
             [
              0.7777777777777778,
              "#fb9f3a"
             ],
             [
              0.8888888888888888,
              "#fdca26"
             ],
             [
              1,
              "#f0f921"
             ]
            ],
            "type": "heatmapgl"
           }
          ],
          "histogram": [
           {
            "marker": {
             "pattern": {
              "fillmode": "overlay",
              "size": 10,
              "solidity": 0.2
             }
            },
            "type": "histogram"
           }
          ],
          "histogram2d": [
           {
            "colorbar": {
             "outlinewidth": 0,
             "ticks": ""
            },
            "colorscale": [
             [
              0,
              "#0d0887"
             ],
             [
              0.1111111111111111,
              "#46039f"
             ],
             [
              0.2222222222222222,
              "#7201a8"
             ],
             [
              0.3333333333333333,
              "#9c179e"
             ],
             [
              0.4444444444444444,
              "#bd3786"
             ],
             [
              0.5555555555555556,
              "#d8576b"
             ],
             [
              0.6666666666666666,
              "#ed7953"
             ],
             [
              0.7777777777777778,
              "#fb9f3a"
             ],
             [
              0.8888888888888888,
              "#fdca26"
             ],
             [
              1,
              "#f0f921"
             ]
            ],
            "type": "histogram2d"
           }
          ],
          "histogram2dcontour": [
           {
            "colorbar": {
             "outlinewidth": 0,
             "ticks": ""
            },
            "colorscale": [
             [
              0,
              "#0d0887"
             ],
             [
              0.1111111111111111,
              "#46039f"
             ],
             [
              0.2222222222222222,
              "#7201a8"
             ],
             [
              0.3333333333333333,
              "#9c179e"
             ],
             [
              0.4444444444444444,
              "#bd3786"
             ],
             [
              0.5555555555555556,
              "#d8576b"
             ],
             [
              0.6666666666666666,
              "#ed7953"
             ],
             [
              0.7777777777777778,
              "#fb9f3a"
             ],
             [
              0.8888888888888888,
              "#fdca26"
             ],
             [
              1,
              "#f0f921"
             ]
            ],
            "type": "histogram2dcontour"
           }
          ],
          "mesh3d": [
           {
            "colorbar": {
             "outlinewidth": 0,
             "ticks": ""
            },
            "type": "mesh3d"
           }
          ],
          "parcoords": [
           {
            "line": {
             "colorbar": {
              "outlinewidth": 0,
              "ticks": ""
             }
            },
            "type": "parcoords"
           }
          ],
          "pie": [
           {
            "automargin": true,
            "type": "pie"
           }
          ],
          "scatter": [
           {
            "fillpattern": {
             "fillmode": "overlay",
             "size": 10,
             "solidity": 0.2
            },
            "type": "scatter"
           }
          ],
          "scatter3d": [
           {
            "line": {
             "colorbar": {
              "outlinewidth": 0,
              "ticks": ""
             }
            },
            "marker": {
             "colorbar": {
              "outlinewidth": 0,
              "ticks": ""
             }
            },
            "type": "scatter3d"
           }
          ],
          "scattercarpet": [
           {
            "marker": {
             "colorbar": {
              "outlinewidth": 0,
              "ticks": ""
             }
            },
            "type": "scattercarpet"
           }
          ],
          "scattergeo": [
           {
            "marker": {
             "colorbar": {
              "outlinewidth": 0,
              "ticks": ""
             }
            },
            "type": "scattergeo"
           }
          ],
          "scattergl": [
           {
            "marker": {
             "colorbar": {
              "outlinewidth": 0,
              "ticks": ""
             }
            },
            "type": "scattergl"
           }
          ],
          "scattermapbox": [
           {
            "marker": {
             "colorbar": {
              "outlinewidth": 0,
              "ticks": ""
             }
            },
            "type": "scattermapbox"
           }
          ],
          "scatterpolar": [
           {
            "marker": {
             "colorbar": {
              "outlinewidth": 0,
              "ticks": ""
             }
            },
            "type": "scatterpolar"
           }
          ],
          "scatterpolargl": [
           {
            "marker": {
             "colorbar": {
              "outlinewidth": 0,
              "ticks": ""
             }
            },
            "type": "scatterpolargl"
           }
          ],
          "scatterternary": [
           {
            "marker": {
             "colorbar": {
              "outlinewidth": 0,
              "ticks": ""
             }
            },
            "type": "scatterternary"
           }
          ],
          "surface": [
           {
            "colorbar": {
             "outlinewidth": 0,
             "ticks": ""
            },
            "colorscale": [
             [
              0,
              "#0d0887"
             ],
             [
              0.1111111111111111,
              "#46039f"
             ],
             [
              0.2222222222222222,
              "#7201a8"
             ],
             [
              0.3333333333333333,
              "#9c179e"
             ],
             [
              0.4444444444444444,
              "#bd3786"
             ],
             [
              0.5555555555555556,
              "#d8576b"
             ],
             [
              0.6666666666666666,
              "#ed7953"
             ],
             [
              0.7777777777777778,
              "#fb9f3a"
             ],
             [
              0.8888888888888888,
              "#fdca26"
             ],
             [
              1,
              "#f0f921"
             ]
            ],
            "type": "surface"
           }
          ],
          "table": [
           {
            "cells": {
             "fill": {
              "color": "#EBF0F8"
             },
             "line": {
              "color": "white"
             }
            },
            "header": {
             "fill": {
              "color": "#C8D4E3"
             },
             "line": {
              "color": "white"
             }
            },
            "type": "table"
           }
          ]
         },
         "layout": {
          "annotationdefaults": {
           "arrowcolor": "#2a3f5f",
           "arrowhead": 0,
           "arrowwidth": 1
          },
          "autotypenumbers": "strict",
          "coloraxis": {
           "colorbar": {
            "outlinewidth": 0,
            "ticks": ""
           }
          },
          "colorscale": {
           "diverging": [
            [
             0,
             "#8e0152"
            ],
            [
             0.1,
             "#c51b7d"
            ],
            [
             0.2,
             "#de77ae"
            ],
            [
             0.3,
             "#f1b6da"
            ],
            [
             0.4,
             "#fde0ef"
            ],
            [
             0.5,
             "#f7f7f7"
            ],
            [
             0.6,
             "#e6f5d0"
            ],
            [
             0.7,
             "#b8e186"
            ],
            [
             0.8,
             "#7fbc41"
            ],
            [
             0.9,
             "#4d9221"
            ],
            [
             1,
             "#276419"
            ]
           ],
           "sequential": [
            [
             0,
             "#0d0887"
            ],
            [
             0.1111111111111111,
             "#46039f"
            ],
            [
             0.2222222222222222,
             "#7201a8"
            ],
            [
             0.3333333333333333,
             "#9c179e"
            ],
            [
             0.4444444444444444,
             "#bd3786"
            ],
            [
             0.5555555555555556,
             "#d8576b"
            ],
            [
             0.6666666666666666,
             "#ed7953"
            ],
            [
             0.7777777777777778,
             "#fb9f3a"
            ],
            [
             0.8888888888888888,
             "#fdca26"
            ],
            [
             1,
             "#f0f921"
            ]
           ],
           "sequentialminus": [
            [
             0,
             "#0d0887"
            ],
            [
             0.1111111111111111,
             "#46039f"
            ],
            [
             0.2222222222222222,
             "#7201a8"
            ],
            [
             0.3333333333333333,
             "#9c179e"
            ],
            [
             0.4444444444444444,
             "#bd3786"
            ],
            [
             0.5555555555555556,
             "#d8576b"
            ],
            [
             0.6666666666666666,
             "#ed7953"
            ],
            [
             0.7777777777777778,
             "#fb9f3a"
            ],
            [
             0.8888888888888888,
             "#fdca26"
            ],
            [
             1,
             "#f0f921"
            ]
           ]
          },
          "colorway": [
           "#636efa",
           "#EF553B",
           "#00cc96",
           "#ab63fa",
           "#FFA15A",
           "#19d3f3",
           "#FF6692",
           "#B6E880",
           "#FF97FF",
           "#FECB52"
          ],
          "font": {
           "color": "#2a3f5f"
          },
          "geo": {
           "bgcolor": "white",
           "lakecolor": "white",
           "landcolor": "#E5ECF6",
           "showlakes": true,
           "showland": true,
           "subunitcolor": "white"
          },
          "hoverlabel": {
           "align": "left"
          },
          "hovermode": "closest",
          "mapbox": {
           "style": "light"
          },
          "paper_bgcolor": "white",
          "plot_bgcolor": "#E5ECF6",
          "polar": {
           "angularaxis": {
            "gridcolor": "white",
            "linecolor": "white",
            "ticks": ""
           },
           "bgcolor": "#E5ECF6",
           "radialaxis": {
            "gridcolor": "white",
            "linecolor": "white",
            "ticks": ""
           }
          },
          "scene": {
           "xaxis": {
            "backgroundcolor": "#E5ECF6",
            "gridcolor": "white",
            "gridwidth": 2,
            "linecolor": "white",
            "showbackground": true,
            "ticks": "",
            "zerolinecolor": "white"
           },
           "yaxis": {
            "backgroundcolor": "#E5ECF6",
            "gridcolor": "white",
            "gridwidth": 2,
            "linecolor": "white",
            "showbackground": true,
            "ticks": "",
            "zerolinecolor": "white"
           },
           "zaxis": {
            "backgroundcolor": "#E5ECF6",
            "gridcolor": "white",
            "gridwidth": 2,
            "linecolor": "white",
            "showbackground": true,
            "ticks": "",
            "zerolinecolor": "white"
           }
          },
          "shapedefaults": {
           "line": {
            "color": "#2a3f5f"
           }
          },
          "ternary": {
           "aaxis": {
            "gridcolor": "white",
            "linecolor": "white",
            "ticks": ""
           },
           "baxis": {
            "gridcolor": "white",
            "linecolor": "white",
            "ticks": ""
           },
           "bgcolor": "#E5ECF6",
           "caxis": {
            "gridcolor": "white",
            "linecolor": "white",
            "ticks": ""
           }
          },
          "title": {
           "x": 0.05
          },
          "xaxis": {
           "automargin": true,
           "gridcolor": "white",
           "linecolor": "white",
           "ticks": "",
           "title": {
            "standoff": 15
           },
           "zerolinecolor": "white",
           "zerolinewidth": 2
          },
          "yaxis": {
           "automargin": true,
           "gridcolor": "white",
           "linecolor": "white",
           "ticks": "",
           "title": {
            "standoff": 15
           },
           "zerolinecolor": "white",
           "zerolinewidth": 2
          }
         }
        }
       }
      }
     },
     "metadata": {},
     "output_type": "display_data"
    }
   ],
   "source": [
    "fig = go.Figure()\n",
    "\n",
    "fig.add_trace(go.Scatter(\n",
    "    x=[i for i in range(len(trades))],\n",
    "    y=[i['pnl_sum'] for i in trades],\n",
    "    mode='lines+markers',\n",
    "    name='PnL'\n",
    "))\n",
    "\n",
    "fig.show()"
   ]
  },
  {
   "cell_type": "code",
   "execution_count": 170,
   "metadata": {},
   "outputs": [],
   "source": [
    "def drawdown(arr):\n",
    "    max_val = -10000000000\n",
    "    max_index , i = 0 , 0\n",
    "    drawdown_val = -10000000000\n",
    "    while i < len(arr):\n",
    "        if arr[i]['pnl_sum'] > max_val:\n",
    "            max_val = arr[i]['pnl_sum']\n",
    "            while i < len(arr) and arr[i]['pnl_sum']<=max_val:\n",
    "                drawdown_val = max(drawdown_val, max_val - arr[i]['pnl_sum'])\n",
    "                i += 1\n",
    "\n",
    "    return drawdown_val\n"
   ]
  },
  {
   "cell_type": "code",
   "execution_count": 171,
   "metadata": {},
   "outputs": [
    {
     "name": "stdout",
     "output_type": "stream",
     "text": [
      "197565.0\n"
     ]
    }
   ],
   "source": [
    "drawdownval = drawdown(trades)\n",
    "print(drawdownval)"
   ]
  },
  {
   "cell_type": "code",
   "execution_count": 172,
   "metadata": {},
   "outputs": [
    {
     "name": "stdout",
     "output_type": "stream",
     "text": [
      " signal time 2023-12-01 09:16:00 | price 4482285 |  on date_time 2023-12-01 09:17:00 | strike 4500000 | type : PE|  buy price 67500.0  |   sold at 67000.0 on 2023-12-01 09:18:00 , short_ema 4482325.0 | long_ema 4482331.296296297 |  PnL = -500.0\n",
      " signal time 2023-12-01 09:17:00 | price 4483200 |  on date_time 2023-12-01 09:18:00 | strike 4480000 | type : CE|  buy price 62300.0  |   sold at 79750.0 on 2023-12-01 10:38:00 , short_ema 4482500.0 | long_ema 4482395.644718793 |  PnL = 17450.0\n",
      " signal time 2023-12-01 10:37:00 | price 4511600 |  on date_time 2023-12-01 10:38:00 | strike 4530000 | type : PE|  buy price 2955.0  |   sold at 67560.0 on 2023-12-01 10:39:00 , short_ema 4512317.106309336 | long_ema 4512325.156835257 |  PnL = 64605.0\n",
      " signal time 2023-12-01 10:38:00 | price 4512700 |  on date_time 2023-12-01 10:39:00 | strike 4510000 | type : CE|  buy price 62850.0  |   sold at 61080.0 on 2023-12-01 10:43:00 , short_ema 4512393.685047468 | long_ema 4512352.922995608 |  PnL = -1770.0\n",
      " signal time 2023-12-01 10:42:00 | price 4509315 |  on date_time 2023-12-01 10:43:00 | strike 4530000 | type : PE|  buy price 69005.0  |   sold at 2915.0 on 2023-12-01 11:05:00 , short_ema 4512246.845395444 | long_ema 4512367.13686968 |  PnL = -66090.0\n",
      " signal time 2023-12-01 11:04:00 | price 4513400 |  on date_time 2023-12-01 11:05:00 | strike 4510000 | type : CE|  buy price 62510.0  |   sold at 64000.0 on 2023-12-01 11:51:00 , short_ema 4511803.437386306 | long_ema 4511583.123854343 |  PnL = 1490.0\n",
      " signal time 2023-12-01 11:50:00 | price 4514520 |  on date_time 2023-12-01 11:51:00 | strike 4530000 | type : PE|  buy price 67835.0  |   sold at 67460.0 on 2023-12-01 12:01:00 , short_ema 4514830.823430164 | long_ema 4514851.690031422 |  PnL = -375.0\n",
      " signal time 2023-12-01 12:00:00 | price 4515860 |  on date_time 2023-12-01 12:01:00 | strike 4510000 | type : CE|  buy price 63675.0  |   sold at 63675.0 on 2023-12-01 12:03:00 , short_ema 4514833.805173669 | long_ema 4514773.344198125 |  PnL = 0.0\n",
      " signal time 2023-12-01 12:02:00 | price 4514000 |  on date_time 2023-12-01 12:03:00 | strike 4530000 | type : PE|  buy price 2885.0  |   sold at 67900.0 on 2023-12-01 12:39:00 , short_ema 4514696.0353111485 | long_ema 4514732.633914717 |  PnL = 65015.0\n",
      " signal time 2023-12-01 12:38:00 | price 4513000 |  on date_time 2023-12-01 12:39:00 | strike 4510000 | type : CE|  buy price 61880.0  |   sold at 84510.0 on 2023-12-01 12:51:00 , short_ema 4511594.985578576 | long_ema 4511476.098843753 |  PnL = 22630.0\n",
      " signal time 2023-12-01 12:50:00 | price 4511440 |  on date_time 2023-12-01 12:51:00 | strike 4530000 | type : PE|  buy price 2030.0  |   sold at 68925.0 on 2023-12-01 13:18:00 , short_ema 4511665.8922993615 | long_ema 4511699.47263321 |  PnL = 66895.0\n",
      " signal time 2023-12-01 13:17:00 | price 4511005 |  on date_time 2023-12-01 13:18:00 | strike 4510000 | type : CE|  buy price 84225.0  |   sold at 57840.0 on 2023-12-01 14:08:00 , short_ema 4509864.5399392 | long_ema 4509798.1205589175 |  PnL = -26385.0\n",
      " signal time 2023-12-01 14:07:00 | price 4506425 |  on date_time 2023-12-01 14:08:00 | strike 4530000 | type : PE|  buy price 70320.0  |   sold at 2855.0 on 2023-12-01 14:25:00 , short_ema 4513749.836806819 | long_ema 4514621.03685148 |  PnL = -67465.0\n",
      " signal time 2023-12-01 14:24:00 | price 4514565 |  on date_time 2023-12-01 14:25:00 | strike 4510000 | type : CE|  buy price 86490.0  |   sold at 61030.0 on 2023-12-01 14:27:00 , short_ema 4513089.298173968 | long_ema 4512919.749688576 |  PnL = -25460.0\n",
      " signal time 2023-12-01 14:26:00 | price 4511410 |  on date_time 2023-12-01 14:27:00 | strike 4530000 | type : PE|  buy price 68505.0  |   sold at 68800.0 on 2023-12-01 15:17:00 , short_ema 4512804.7508313395 | long_ema 4512841.541228203 |  PnL = 295.0\n",
      " signal time 2023-12-01 15:16:00 | price 4508480 |  on date_time 2023-12-01 15:17:00 | strike 4500000 | type : CE|  buy price 63400.0  |   sold at 60950.0 on 2023-12-01 15:25:00 , short_ema 4506801.003235448 | long_ema 4506600.693512888 |  PnL = -2450.0\n",
      " signal time 2023-12-01 15:24:00 | price 4505440 |  on date_time 2023-12-01 15:25:00 | strike 4520000 | type : PE|  buy price 64390.0  |   sold at 62655.0 on 2023-12-01 15:26:00 , short_ema 4506825.297326179 | long_ema 4506842.277503732 |  PnL = -1735.0\n",
      " signal time 2023-12-01 15:25:00 | price 4507715 |  on date_time 2023-12-01 15:26:00 | strike 4500000 | type : CE|  buy price 62620.0  |   sold at 114360.0 on 2023-12-04 10:36:00 , short_ema 4507003.237860944 | long_ema 4506906.923614566 |  PnL = 51740.0\n",
      " signal time 2023-12-04 10:35:00 | price 4592410 |  on date_time 2023-12-04 10:36:00 | strike 4610000 | type : PE|  buy price 65150.0  |   sold at 63380.0 on 2023-12-04 11:16:00 , short_ema 4593693.314424241 | long_ema 4593874.93968665 |  PnL = -1770.0\n",
      " signal time 2023-12-04 11:15:00 | price 4593605 |  on date_time 2023-12-04 11:16:00 | strike 4590000 | type : CE|  buy price 56280.0  |   sold at 73955.0 on 2023-12-04 13:49:00 , short_ema 4591281.727092922 | long_ema 4591002.806408364 |  PnL = 17675.0\n",
      " signal time 2023-12-04 13:48:00 | price 4618700 |  on date_time 2023-12-04 13:49:00 | strike 4640000 | type : PE|  buy price 68200.0  |   sold at 65495.0 on 2023-12-04 13:52:00 , short_ema 4623299.149369979 | long_ema 4624006.8838648 |  PnL = -2705.0\n",
      " signal time 2023-12-04 13:51:00 | price 4629000 |  on date_time 2023-12-04 13:52:00 | strike 4620000 | type : CE|  buy price 62865.0  |   sold at 60900.0 on 2023-12-04 13:55:00 , short_ema 4624385.16447743 | long_ema 4624249.901457476 |  PnL = -1965.0\n",
      " signal time 2023-12-04 13:54:00 | price 4623945 |  on date_time 2023-12-04 13:55:00 | strike 4640000 | type : PE|  buy price 66315.0  |   sold at 66300.0 on 2023-12-04 13:56:00 , short_ema 4624159.324212445 | long_ema 4624183.776369103 |  PnL = -15.0\n",
      " signal time 2023-12-04 13:55:00 | price 4625635 |  on date_time 2023-12-04 13:56:00 | strike 4620000 | type : CE|  buy price 61425.0  |   sold at 130500.0 on 2023-12-05 10:37:00 , short_ema 4624454.459369956 | long_ema 4624291.274415837 |  PnL = 69075.0\n",
      " signal time 2023-12-05 10:36:00 | price 4719440 |  on date_time 2023-12-05 10:37:00 | strike 4730000 | type : PE|  buy price 74705.0  |   sold at 69220.0 on 2023-12-05 10:42:00 , short_ema 4727354.568647702 | long_ema 4727411.871739754 |  PnL = -5485.0\n",
      " signal time 2023-12-05 10:41:00 | price 4731325 |  on date_time 2023-12-05 10:42:00 | strike 4720000 | type : CE|  buy price 76700.0  |   sold at 74375.0 on 2023-12-05 10:50:00 , short_ema 4727590.010654479 | long_ema 4727180.59088811 |  PnL = -2325.0\n",
      " signal time 2023-12-05 10:49:00 | price 4726510 |  on date_time 2023-12-05 10:50:00 | strike 4740000 | type : PE|  buy price 77850.0  |   sold at 76625.0 on 2023-12-05 10:59:00 , short_ema 4727233.074145926 | long_ema 4727253.527255231 |  PnL = -1225.0\n",
      " signal time 2023-12-05 10:58:00 | price 4729975 |  on date_time 2023-12-05 10:59:00 | strike 4720000 | type : CE|  buy price 76800.0  |   sold at 70595.0 on 2023-12-05 11:11:00 , short_ema 4726512.814573524 | long_ema 4726505.978276856 |  PnL = -6205.0\n",
      " signal time 2023-12-05 11:10:00 | price 4719900 |  on date_time 2023-12-05 11:11:00 | strike 4730000 | type : PE|  buy price 74900.0  |   sold at 76620.0 on 2023-12-05 11:59:00 , short_ema 4725752.612694377 | long_ema 4726668.064816141 |  PnL = 1720.0\n",
      " signal time 2023-12-05 11:58:00 | price 4701230 |  on date_time 2023-12-05 11:59:00 | strike 4700000 | type : CE|  buy price 67625.0  |   sold at 63980.0 on 2023-12-05 12:39:00 , short_ema 4695013.314384269 | long_ema 4694955.87168947 |  PnL = -3645.0\n",
      " signal time 2023-12-05 12:38:00 | price 4697800 |  on date_time 2023-12-05 12:39:00 | strike 4720000 | type : PE|  buy price 77080.0  |   sold at 73375.0 on 2023-12-05 12:49:00 , short_ema 4699966.45209339 | long_ema 4700269.398531707 |  PnL = -3705.0\n",
      " signal time 2023-12-05 12:48:00 | price 4701550 |  on date_time 2023-12-05 12:49:00 | strike 4700000 | type : CE|  buy price 66090.0  |   sold at 70270.0 on 2023-12-05 14:00:00 , short_ema 4700401.426200606 | long_ema 4700260.16576635 |  PnL = 4180.0\n",
      " signal time 2023-12-05 13:59:00 | price 4712970 |  on date_time 2023-12-05 14:00:00 | strike 4730000 | type : PE|  buy price 73020.0  |   sold at 71860.0 on 2023-12-05 14:32:00 , short_ema 4717203.333560912 | long_ema 4717869.339328688 |  PnL = -1160.0\n",
      " signal time 2023-12-05 14:31:00 | price 4714665 |  on date_time 2023-12-05 14:32:00 | strike 4710000 | type : CE|  buy price 66990.0  |   sold at 64000.0 on 2023-12-05 14:56:00 , short_ema 4711920.2980167605 | long_ema 4711611.0518336035 |  PnL = -2990.0\n",
      " signal time 2023-12-05 14:55:00 | price 4709305 |  on date_time 2023-12-05 14:56:00 | strike 4730000 | type : PE|  buy price 73100.0  |   sold at 69710.0 on 2023-12-05 15:06:00 , short_ema 4713544.769321227 | long_ema 4713938.545252717 |  PnL = -3390.0\n",
      " signal time 2023-12-05 15:05:00 | price 4717195 |  on date_time 2023-12-05 15:06:00 | strike 4720000 | type : CE|  buy price 62290.0  |   sold at 61650.0 on 2023-12-05 15:20:00 , short_ema 4714426.039723088 | long_ema 4714002.825115505 |  PnL = -640.0\n",
      " signal time 2023-12-05 15:19:00 | price 4714175 |  on date_time 2023-12-05 15:20:00 | strike 4730000 | type : PE|  buy price 71460.0  |   sold at 62785.0 on 2023-12-06 09:16:00 , short_ema 4715256.902410552 | long_ema 4715294.929766209 |  PnL = -8675.0\n",
      " signal time 2023-12-06 09:15:00 | price 4733770 |  on date_time 2023-12-06 09:16:00 | strike 4730000 | type : CE|  buy price 64995.0  |   sold at 56000.0 on 2023-12-06 09:28:00 , short_ema 4718402.087066382 | long_ema 4716278.404380676 |  PnL = -8995.0\n",
      " signal time 2023-12-06 09:27:00 | price 4711725 |  on date_time 2023-12-06 09:28:00 | strike 4730000 | type : PE|  buy price 73040.0  |   sold at 83670.0 on 2023-12-06 10:46:00 , short_ema 4718173.107105663 | long_ema 4718917.52287419 |  PnL = 10630.0\n",
      " signal time 2023-12-06 10:45:00 | price 4693045 |  on date_time 2023-12-06 10:46:00 | strike 4690000 | type : CE|  buy price 64240.0  |   sold at 66750.0 on 2023-12-06 11:18:00 , short_ema 4691159.315643564 | long_ema 4690862.608599202 |  PnL = 2510.0\n",
      " signal time 2023-12-06 11:17:00 | price 4698050 |  on date_time 2023-12-06 11:18:00 | strike 4710000 | type : PE|  buy price 69640.0  |   sold at 67875.0 on 2023-12-06 11:26:00 , short_ema 4698980.726083275 | long_ema 4699042.557438974 |  PnL = -1765.0\n",
      " signal time 2023-12-06 11:25:00 | price 4701000 |  on date_time 2023-12-06 11:26:00 | strike 4700000 | type : CE|  buy price 62900.0  |   sold at 62260.0 on 2023-12-06 11:47:00 , short_ema 4698815.44223896 | long_ema 4698629.879513977 |  PnL = -640.0\n",
      " signal time 2023-12-06 11:46:00 | price 4698975 |  on date_time 2023-12-06 11:47:00 | strike 4710000 | type : PE|  buy price 68400.0  |   sold at 67170.0 on 2023-12-06 12:01:00 , short_ema 4699874.513559869 | long_ema 4699989.800155469 |  PnL = -1230.0\n",
      " signal time 2023-12-06 12:00:00 | price 4700260 |  on date_time 2023-12-06 12:01:00 | strike 4700000 | type : CE|  buy price 61730.0  |   sold at 61105.0 on 2023-12-06 12:26:00 , short_ema 4699307.802153656 | long_ema 4699246.106747094 |  PnL = -625.0\n",
      " signal time 2023-12-06 12:25:00 | price 4700025 |  on date_time 2023-12-06 12:26:00 | strike 4710000 | type : PE|  buy price 67755.0  |   sold at 70475.0 on 2023-12-06 13:35:00 , short_ema 4701297.193549393 | long_ema 4701490.804849081 |  PnL = 2720.0\n",
      " signal time 2023-12-06 13:34:00 | price 4693855 |  on date_time 2023-12-06 13:35:00 | strike 4690000 | type : CE|  buy price 62860.0  |   sold at 63365.0 on 2023-12-06 14:15:00 , short_ema 4691674.072156584 | long_ema 4691420.432478242 |  PnL = 505.0\n",
      " signal time 2023-12-06 14:14:00 | price 4695585 |  on date_time 2023-12-06 14:15:00 | strike 4710000 | type : PE|  buy price 68060.0  |   sold at 68000.0 on 2023-12-06 14:22:00 , short_ema 4696983.667015696 | long_ema 4697002.452900443 |  PnL = -60.0\n",
      " signal time 2023-12-06 14:21:00 | price 4698070 |  on date_time 2023-12-06 14:22:00 | strike 4690000 | type : CE|  buy price 64245.0  |   sold at 63210.0 on 2023-12-06 14:25:00 , short_ema 4697115.5710769305 | long_ema 4696974.375240931 |  PnL = -1035.0\n",
      " signal time 2023-12-06 14:24:00 | price 4695500 |  on date_time 2023-12-06 14:25:00 | strike 4710000 | type : PE|  buy price 69000.0  |   sold at 67240.0 on 2023-12-06 14:36:00 , short_ema 4696756.292391388 | long_ema 4696868.52172634 |  PnL = -1760.0\n",
      " signal time 2023-12-06 14:35:00 | price 4697625 |  on date_time 2023-12-06 14:36:00 | strike 4690000 | type : CE|  buy price 64600.0  |   sold at 63410.0 on 2023-12-06 15:01:00 , short_ema 4696215.025900491 | long_ema 4696160.979488919 |  PnL = -1190.0\n",
      " signal time 2023-12-06 15:00:00 | price 4696080 |  on date_time 2023-12-06 15:01:00 | strike 4710000 | type : PE|  buy price 68305.0  |   sold at 73835.0 on 2023-12-07 09:40:00 , short_ema 4698885.855288406 | long_ema 4699313.950564891 |  PnL = 5530.0\n",
      " signal time 2023-12-07 09:39:00 | price 4683455 |  on date_time 2023-12-07 09:40:00 | strike 4670000 | type : CE|  buy price 65180.0  |   sold at 59920.0 on 2023-12-07 09:46:00 , short_ema 4676389.018372873 | long_ema 4676246.481847966 |  PnL = -5260.0\n",
      " signal time 2023-12-07 09:45:00 | price 4674650 |  on date_time 2023-12-07 09:46:00 | strike 4690000 | type : PE|  buy price 67440.0  |   sold at 63500.0 on 2023-12-07 09:54:00 , short_ema 4676329.978192339 | long_ema 4676415.780602954 |  PnL = -3940.0\n",
      " signal time 2023-12-07 09:53:00 | price 4680000 |  on date_time 2023-12-07 09:54:00 | strike 4680000 | type : CE|  buy price 57695.0  |   sold at 54975.0 on 2023-12-07 10:04:00 , short_ema 4676627.353474082 | long_ema 4676339.401355807 |  PnL = -2720.0\n",
      " signal time 2023-12-07 10:03:00 | price 4675105 |  on date_time 2023-12-07 10:04:00 | strike 4690000 | type : PE|  buy price 66245.0  |   sold at 63680.0 on 2023-12-07 10:23:00 , short_ema 4676691.819616404 | long_ema 4676916.805410156 |  PnL = -2565.0\n",
      " signal time 2023-12-07 10:22:00 | price 4678315 |  on date_time 2023-12-07 10:23:00 | strike 4670000 | type : CE|  buy price 61100.0  |   sold at 70435.0 on 2023-12-07 11:30:00 , short_ema 4675932.82659008 | long_ema 4675686.798315406 |  PnL = 9335.0\n",
      " signal time 2023-12-07 11:29:00 | price 4694765 |  on date_time 2023-12-07 11:30:00 | strike 4710000 | type : PE|  buy price 66335.0  |   sold at 64760.0 on 2023-12-07 11:47:00 , short_ema 4700447.888195683 | long_ema 4700779.456411832 |  PnL = -1575.0\n",
      " signal time 2023-12-07 11:46:00 | price 4699800 |  on date_time 2023-12-07 11:47:00 | strike 4690000 | type : CE|  buy price 61875.0  |   sold at 61935.0 on 2023-12-07 11:48:00 , short_ema 4699050.995303266 | long_ema 4699033.141775695 |  PnL = 60.0\n",
      " signal time 2023-12-07 11:47:00 | price 4698120 |  on date_time 2023-12-07 11:48:00 | strike 4710000 | type : PE|  buy price 65415.0  |   sold at 63355.0 on 2023-12-07 11:52:00 , short_ema 4698864.796242613 | long_ema 4698965.5016441615 |  PnL = -2060.0\n",
      " signal time 2023-12-07 11:51:00 | price 4702000 |  on date_time 2023-12-07 11:52:00 | strike 4700000 | type : CE|  buy price 59660.0  |   sold at 58410.0 on 2023-12-07 12:21:00 , short_ema 4699286.156540975 | long_ema 4699066.15612975 |  PnL = -1250.0\n",
      " signal time 2023-12-07 12:20:00 | price 4700495 |  on date_time 2023-12-07 12:21:00 | strike 4720000 | type : PE|  buy price 69840.0  |   sold at 68150.0 on 2023-12-07 12:39:00 , short_ema 4701150.003419859 | long_ema 4701180.268065075 |  PnL = -1690.0\n",
      " signal time 2023-12-07 12:38:00 | price 4703000 |  on date_time 2023-12-07 12:39:00 | strike 4700000 | type : CE|  buy price 59600.0  |   sold at 58275.0 on 2023-12-07 13:06:00 , short_ema 4700569.348212982 | long_ema 4700444.637471889 |  PnL = -1325.0\n",
      " signal time 2023-12-07 13:05:00 | price 4699205 |  on date_time 2023-12-07 13:06:00 | strike 4720000 | type : PE|  buy price 69365.0  |   sold at 68380.0 on 2023-12-07 13:13:00 , short_ema 4702020.053993328 | long_ema 4702134.778118431 |  PnL = -985.0\n",
      " signal time 2023-12-07 13:12:00 | price 4702700 |  on date_time 2023-12-07 13:13:00 | strike 4700000 | type : CE|  buy price 59640.0  |   sold at 59070.0 on 2023-12-07 13:21:00 , short_ema 4702166.373435222 | long_ema 4702128.490816779 |  PnL = -570.0\n",
      " signal time 2023-12-07 13:20:00 | price 4701705 |  on date_time 2023-12-07 13:21:00 | strike 4720000 | type : PE|  buy price 68360.0  |   sold at 68160.0 on 2023-12-07 13:22:00 , short_ema 4702145.104472194 | long_ema 4702192.482291561 |  PnL = -200.0\n",
      " signal time 2023-12-07 13:21:00 | price 4703355 |  on date_time 2023-12-07 13:22:00 | strike 4700000 | type : CE|  buy price 59375.0  |   sold at 60350.0 on 2023-12-07 13:52:00 , short_ema 4702387.083577756 | long_ema 4702278.594714409 |  PnL = 975.0\n",
      " signal time 2023-12-07 13:51:00 | price 4704015 |  on date_time 2023-12-07 13:52:00 | strike 4720000 | type : PE|  buy price 67335.0  |   sold at 66030.0 on 2023-12-07 14:03:00 , short_ema 4705362.406841074 | long_ema 4705413.663914338 |  PnL = -1305.0\n",
      " signal time 2023-12-07 14:02:00 | price 4705695 |  on date_time 2023-12-07 14:03:00 | strike 4700000 | type : CE|  buy price 61030.0  |   sold at 56675.0 on 2023-12-07 14:13:00 , short_ema 4705145.414071873 | long_ema 4705071.319779765 |  PnL = -4355.0\n",
      " signal time 2023-12-07 14:12:00 | price 4697120 |  on date_time 2023-12-07 14:13:00 | strike 4710000 | type : PE|  buy price 64740.0  |   sold at 2765.0 on 2023-12-07 14:29:00 , short_ema 4703990.823895638 | long_ema 4705010.156351977 |  PnL = -61975.0\n",
      " signal time 2023-12-07 14:28:00 | price 4705000 |  on date_time 2023-12-07 14:29:00 | strike 4700000 | type : CE|  buy price 60310.0  |   sold at 59885.0 on 2023-12-07 14:48:00 , short_ema 4703403.643648503 | long_ema 4703313.611931151 |  PnL = -425.0\n",
      " signal time 2023-12-07 14:47:00 | price 4702860 |  on date_time 2023-12-07 14:48:00 | strike 4720000 | type : PE|  buy price 67500.0  |   sold at 67160.0 on 2023-12-07 15:20:00 , short_ema 4704963.518284295 | long_ema 4705157.002275538 |  PnL = -340.0\n",
      " signal time 2023-12-07 15:19:00 | price 4703600 |  on date_time 2023-12-07 15:20:00 | strike 4700000 | type : CE|  buy price 59945.0  |   sold at 58425.0 on 2023-12-08 09:21:00 , short_ema 4702782.969502484 | long_ema 4702661.759242937 |  PnL = -1520.0\n",
      " signal time 2023-12-08 09:20:00 | price 4701265 |  on date_time 2023-12-08 09:21:00 | strike 4720000 | type : PE|  buy price 68300.0  |   sold at 64095.0 on 2023-12-08 09:25:00 , short_ema 4705045.123331014 | long_ema 4705134.50427551 |  PnL = -4205.0\n",
      " signal time 2023-12-08 09:24:00 | price 4709000 |  on date_time 2023-12-08 09:25:00 | strike 4710000 | type : CE|  buy price 56925.0  |   sold at 61285.0 on 2023-12-08 10:24:00 , short_ema 4704968.946516383 | long_ema 4704952.787294585 |  PnL = 4360.0\n",
      " signal time 2023-12-08 10:23:00 | price 4717020 |  on date_time 2023-12-08 10:24:00 | strike 4730000 | type : PE|  buy price 63175.0  |   sold at 62360.0 on 2023-12-08 10:25:00 , short_ema 4718908.56582983 | long_ema 4718922.067853537 |  PnL = -815.0\n",
      " signal time 2023-12-08 10:24:00 | price 4719130 |  on date_time 2023-12-08 10:25:00 | strike 4710000 | type : CE|  buy price 61385.0  |   sold at 61410.0 on 2023-12-08 10:26:00 , short_ema 4718952.852663864 | long_ema 4718937.470234757 |  PnL = 25.0\n",
      " signal time 2023-12-08 10:25:00 | price 4718820 |  on date_time 2023-12-08 10:26:00 | strike 4730000 | type : PE|  buy price 62490.0  |   sold at 57605.0 on 2023-12-08 10:30:00 , short_ema 4718926.282131092 | long_ema 4718928.768735887 |  PnL = -4885.0\n",
      " signal time 2023-12-08 10:29:00 | price 4728020 |  on date_time 2023-12-08 10:30:00 | strike 4720000 | type : CE|  buy price 60695.0  |   sold at 56770.0 on 2023-12-08 10:58:00 , short_ema 4720452.845160896 | long_ema 4719437.383185444 |  PnL = -3925.0\n",
      " signal time 2023-12-08 10:57:00 | price 4721275 |  on date_time 2023-12-08 10:58:00 | strike 4740000 | type : PE|  buy price 65685.0  |   sold at 64100.0 on 2023-12-08 11:17:00 , short_ema 4723321.883601502 | long_ema 4723551.682753055 |  PnL = -1585.0\n",
      " signal time 2023-12-08 11:16:00 | price 4725465 |  on date_time 2023-12-08 11:17:00 | strike 4720000 | type : CE|  buy price 58080.0  |   sold at 56845.0 on 2023-12-08 11:46:00 , short_ema 4718195.549594831 | long_ema 4717253.967649426 |  PnL = -1235.0\n",
      " signal time 2023-12-08 11:45:00 | price 4721875 |  on date_time 2023-12-08 11:46:00 | strike 4740000 | type : PE|  buy price 59925.0  |   sold at 65905.0 on 2023-12-08 13:19:00 , short_ema 4722336.254854169 | long_ema 4722338.476461749 |  PnL = 5980.0\n",
      " signal time 2023-12-08 13:18:00 | price 4711900 |  on date_time 2023-12-08 13:19:00 | strike 4700000 | type : CE|  buy price 60575.0  |   sold at 59150.0 on 2023-12-08 13:44:00 , short_ema 4707885.336742453 | long_ema 4707346.396909287 |  PnL = -1425.0\n",
      " signal time 2023-12-08 13:43:00 | price 4708000 |  on date_time 2023-12-08 13:44:00 | strike 4720000 | type : PE|  buy price 61000.0  |   sold at 60045.0 on 2023-12-08 13:54:00 , short_ema 4709687.3001497425 | long_ema 4709769.752317455 |  PnL = -955.0\n",
      " signal time 2023-12-08 13:53:00 | price 4710500 |  on date_time 2023-12-08 13:54:00 | strike 4700000 | type : CE|  buy price 59985.0  |   sold at 59515.0 on 2023-12-08 13:56:00 , short_ema 4709030.421518523 | long_ema 4708935.553276695 |  PnL = -470.0\n",
      " signal time 2023-12-08 13:55:00 | price 4708600 |  on date_time 2023-12-08 13:56:00 | strike 4720000 | type : PE|  buy price 60265.0  |   sold at 60300.0 on 2023-12-08 13:57:00 , short_ema 4708876.269771855 | long_ema 4708888.025785919 |  PnL = 35.0\n",
      " signal time 2023-12-08 13:56:00 | price 4709000 |  on date_time 2023-12-08 13:57:00 | strike 4700000 | type : CE|  buy price 59565.0  |   sold at 59335.0 on 2023-12-08 13:58:00 , short_ema 4708901.015817484 | long_ema 4708896.320172147 |  PnL = -230.0\n",
      " signal time 2023-12-08 13:57:00 | price 4707655 |  on date_time 2023-12-08 13:58:00 | strike 4720000 | type : PE|  buy price 60780.0  |   sold at 59815.0 on 2023-12-08 14:01:00 , short_ema 4708651.812653987 | long_ema 4708804.370529765 |  PnL = -965.0\n",
      " signal time 2023-12-08 14:00:00 | price 4710260 |  on date_time 2023-12-08 14:01:00 | strike 4710000 | type : CE|  buy price 54655.0  |   sold at 75280.0 on 2023-12-11 09:29:00 , short_ema 4709065.408078842 | long_ema 4708939.3064841535 |  PnL = 20625.0\n",
      " signal time 2023-12-11 09:28:00 | price 4746000 |  on date_time 2023-12-11 09:29:00 | strike 4760000 | type : PE|  buy price 62985.0  |   sold at 57235.0 on 2023-12-11 09:39:00 , short_ema 4753790.708943317 | long_ema 4754490.111975639 |  PnL = -5750.0\n",
      " signal time 2023-12-11 09:38:00 | price 4755465 |  on date_time 2023-12-11 09:39:00 | strike 4750000 | type : CE|  buy price 57350.0  |   sold at 55230.0 on 2023-12-11 09:46:00 , short_ema 4752406.244121186 | long_ema 4752304.274329838 |  PnL = -2120.0\n",
      " signal time 2023-12-11 09:45:00 | price 4751080 |  on date_time 2023-12-11 09:46:00 | strike 4770000 | type : PE|  buy price 65360.0  |   sold at 63000.0 on 2023-12-11 09:49:00 , short_ema 4752607.907119123 | long_ema 4752695.791040628 |  PnL = -2360.0\n",
      " signal time 2023-12-11 09:48:00 | price 4753860 |  on date_time 2023-12-11 09:49:00 | strike 4750000 | type : CE|  buy price 57075.0  |   sold at 57185.0 on 2023-12-11 10:41:00 , short_ema 4752841.168444991 | long_ema 4752757.728243144 |  PnL = 110.0\n",
      " signal time 2023-12-11 10:40:00 | price 4755135 |  on date_time 2023-12-11 10:41:00 | strike 4770000 | type : PE|  buy price 63400.0  |   sold at 63895.0 on 2023-12-11 11:17:00 , short_ema 4766251.394207785 | long_ema 4767419.584348475 |  PnL = 495.0\n",
      " signal time 2023-12-11 11:16:00 | price 4755680 |  on date_time 2023-12-11 11:17:00 | strike 4750000 | type : CE|  buy price 58645.0  |   sold at 56525.0 on 2023-12-11 11:22:00 , short_ema 4753527.49340111 | long_ema 4753423.09085126 |  PnL = -2120.0\n",
      " signal time 2023-12-11 11:21:00 | price 4751220 |  on date_time 2023-12-11 11:22:00 | strike 4770000 | type : PE|  buy price 65165.0  |   sold at 65060.0 on 2023-12-11 11:25:00 , short_ema 4753105.745037677 | long_ema 4753374.575856847 |  PnL = -105.0\n",
      " signal time 2023-12-11 11:24:00 | price 4755030 |  on date_time 2023-12-11 11:25:00 | strike 4750000 | type : CE|  buy price 57835.0  |   sold at 56850.0 on 2023-12-11 11:26:00 , short_ema 4753471.341459291 | long_ema 4753452.5218596365 |  PnL = -985.0\n",
      " signal time 2023-12-11 11:25:00 | price 4752435 |  on date_time 2023-12-11 11:26:00 | strike 4770000 | type : PE|  buy price 65060.0  |   sold at 64260.0 on 2023-12-11 11:36:00 , short_ema 4753264.073167433 | long_ema 4753377.149870033 |  PnL = -800.0\n",
      " signal time 2023-12-11 11:35:00 | price 4754100 |  on date_time 2023-12-11 11:36:00 | strike 4750000 | type : CE|  buy price 57585.0  |   sold at 56470.0 on 2023-12-11 11:38:00 , short_ema 4753456.898947647 | long_ema 4753356.794108666 |  PnL = -1115.0\n",
      " signal time 2023-12-11 11:37:00 | price 4751030 |  on date_time 2023-12-11 11:38:00 | strike 4770000 | type : PE|  buy price 65675.0  |   sold at 64080.0 on 2023-12-11 11:47:00 , short_ema 4752859.215326494 | long_ema 4753143.16367341 |  PnL = -1595.0\n",
      " signal time 2023-12-11 11:46:00 | price 4754000 |  on date_time 2023-12-11 11:47:00 | strike 4750000 | type : CE|  buy price 57425.0  |   sold at 56630.0 on 2023-12-11 11:50:00 , short_ema 4752527.451833625 | long_ema 4752472.746134786 |  PnL = -795.0\n",
      " signal time 2023-12-11 11:49:00 | price 4751745 |  on date_time 2023-12-11 11:50:00 | strike 4770000 | type : PE|  buy price 64725.0  |   sold at 63920.0 on 2023-12-11 12:00:00 , short_ema 4752372.655338816 | long_ema 4752432.6001298595 |  PnL = -805.0\n",
      " signal time 2023-12-11 11:59:00 | price 4754000 |  on date_time 2023-12-11 12:00:00 | strike 4750000 | type : CE|  buy price 57755.0  |   sold at 56400.0 on 2023-12-11 12:18:00 , short_ema 4752406.841967059 | long_ema 4752198.019636302 |  PnL = -1355.0\n",
      " signal time 2023-12-11 12:17:00 | price 4751855 |  on date_time 2023-12-11 12:18:00 | strike 4770000 | type : PE|  buy price 65200.0  |   sold at 65235.0 on 2023-12-11 12:43:00 , short_ema 4753376.050705787 | long_ema 4753470.0520871105 |  PnL = 35.0\n",
      " signal time 2023-12-11 12:42:00 | price 4751760 |  on date_time 2023-12-11 12:43:00 | strike 4750000 | type : CE|  buy price 56380.0  |   sold at 56250.0 on 2023-12-11 12:44:00 , short_ema 4751651.937602018 | long_ema 4751648.81230932 |  PnL = -130.0\n",
      " signal time 2023-12-11 12:43:00 | price 4751010 |  on date_time 2023-12-11 12:44:00 | strike 4770000 | type : PE|  buy price 64895.0  |   sold at 59205.0 on 2023-12-11 12:45:00 , short_ema 4751523.550081614 | long_ema 4751601.4928790005 |  PnL = -5690.0\n",
      " signal time 2023-12-11 12:44:00 | price 4752505 |  on date_time 2023-12-11 12:45:00 | strike 4750000 | type : CE|  buy price 56990.0  |   sold at 55880.0 on 2023-12-11 12:53:00 , short_ema 4751719.840065291 | long_ema 4751668.419332408 |  PnL = -1110.0\n",
      " signal time 2023-12-11 12:52:00 | price 4750455 |  on date_time 2023-12-11 12:53:00 | strike 4770000 | type : PE|  buy price 64955.0  |   sold at 58500.0 on 2023-12-11 13:00:00 , short_ema 4751652.21102981 | long_ema 4751781.900465227 |  PnL = -6455.0\n",
      " signal time 2023-12-11 12:59:00 | price 4753900 |  on date_time 2023-12-11 13:00:00 | strike 4750000 | type : CE|  buy price 57900.0  |   sold at 56715.0 on 2023-12-11 13:53:00 , short_ema 4752090.11232656 | long_ema 4751840.763687682 |  PnL = -1185.0\n",
      " signal time 2023-12-11 13:52:00 | price 4753355 |  on date_time 2023-12-11 13:53:00 | strike 4770000 | type : PE|  buy price 63140.0  |   sold at 56295.0 on 2023-12-11 14:08:00 , short_ema 4756501.636952297 | long_ema 4756779.031690069 |  PnL = -6845.0\n",
      " signal time 2023-12-11 14:07:00 | price 4756950 |  on date_time 2023-12-11 14:08:00 | strike 4750000 | type : CE|  buy price 58365.0  |   sold at 58325.0 on 2023-12-11 14:29:00 , short_ema 4755775.82151706 | long_ema 4755625.075864086 |  PnL = -40.0\n",
      " signal time 2023-12-11 14:28:00 | price 4756005 |  on date_time 2023-12-11 14:29:00 | strike 4770000 | type : PE|  buy price 63000.0  |   sold at 60840.0 on 2023-12-11 14:34:00 , short_ema 4756992.370614392 | long_ema 4757035.670313859 |  PnL = -2160.0\n",
      " signal time 2023-12-11 14:33:00 | price 4757930 |  on date_time 2023-12-11 14:34:00 | strike 4760000 | type : CE|  buy price 54150.0  |   sold at 50275.0 on 2023-12-11 14:55:00 , short_ema 4757131.602402924 | long_ema 4757019.524129522 |  PnL = -3875.0\n",
      " signal time 2023-12-11 14:54:00 | price 4750080 |  on date_time 2023-12-11 14:55:00 | strike 4770000 | type : PE|  buy price 65100.0  |   sold at 62595.0 on 2023-12-12 09:19:00 , short_ema 4757813.567074349 | long_ema 4758864.708805402 |  PnL = -2505.0\n",
      " signal time 2023-12-12 09:18:00 | price 4755865 |  on date_time 2023-12-12 09:19:00 | strike 4750000 | type : CE|  buy price 57495.0  |   sold at 55825.0 on 2023-12-12 09:43:00 , short_ema 4751711.814357367 | long_ema 4751146.049733283 |  PnL = -1670.0\n",
      " signal time 2023-12-12 09:42:00 | price 4751890 |  on date_time 2023-12-12 09:43:00 | strike 4770000 | type : PE|  buy price 64270.0  |   sold at 69075.0 on 2023-12-12 10:35:00 , short_ema 4753963.735317176 | long_ema 4753987.971539716 |  PnL = 4805.0\n",
      " signal time 2023-12-12 10:34:00 | price 4743770 |  on date_time 2023-12-12 10:35:00 | strike 4740000 | type : CE|  buy price 56080.0  |   sold at 56920.0 on 2023-12-12 11:23:00 , short_ema 4741203.248446858 | long_ema 4741050.442337764 |  PnL = 840.0\n",
      " signal time 2023-12-12 11:22:00 | price 4746220 |  on date_time 2023-12-12 11:23:00 | strike 4760000 | type : PE|  buy price 61005.0  |   sold at 61255.0 on 2023-12-12 12:01:00 , short_ema 4748034.044421807 | long_ema 4748156.137071185 |  PnL = 250.0\n",
      " signal time 2023-12-12 12:00:00 | price 4745775 |  on date_time 2023-12-12 12:01:00 | strike 4740000 | type : CE|  buy price 56200.0  |   sold at 54915.0 on 2023-12-12 12:20:00 , short_ema 4744241.649627319 | long_ema 4744118.256796244 |  PnL = -1285.0\n",
      " signal time 2023-12-12 12:19:00 | price 4742785 |  on date_time 2023-12-12 12:20:00 | strike 4760000 | type : PE|  buy price 62000.0  |   sold at 51520.0 on 2023-12-12 12:29:00 , short_ema 4745064.063052859 | long_ema 4745127.614303679 |  PnL = -10480.0\n",
      " signal time 2023-12-12 12:28:00 | price 4745890 |  on date_time 2023-12-12 12:29:00 | strike 4740000 | type : CE|  buy price 55840.0  |   sold at 54870.0 on 2023-12-12 12:42:00 , short_ema 4744999.389744604 | long_ema 4744925.951664607 |  PnL = -970.0\n",
      " signal time 2023-12-12 12:41:00 | price 4744000 |  on date_time 2023-12-12 12:42:00 | strike 4760000 | type : PE|  buy price 61775.0  |   sold at 63565.0 on 2023-12-12 13:25:00 , short_ema 4745308.457969626 | long_ema 4745350.241626201 |  PnL = 1790.0\n",
      " signal time 2023-12-12 13:24:00 | price 4740300 |  on date_time 2023-12-12 13:25:00 | strike 4740000 | type : CE|  buy price 53795.0  |   sold at 53165.0 on 2023-12-12 13:54:00 , short_ema 4739976.452435855 | long_ema 4739959.832925337 |  PnL = -630.0\n",
      " signal time 2023-12-12 13:53:00 | price 4739325 |  on date_time 2023-12-12 13:54:00 | strike 4760000 | type : PE|  buy price 63820.0  |   sold at 64415.0 on 2023-12-12 14:33:00 , short_ema 4741590.708704397 | long_ema 4741617.327069431 |  PnL = 595.0\n",
      " signal time 2023-12-12 14:32:00 | price 4738935 |  on date_time 2023-12-12 14:33:00 | strike 4730000 | type : CE|  buy price 56700.0  |   sold at 54145.0 on 2023-12-12 14:44:00 , short_ema 4733973.764553454 | long_ema 4733553.169386682 |  PnL = -2555.0\n",
      " signal time 2023-12-12 14:43:00 | price 4733000 |  on date_time 2023-12-12 14:44:00 | strike 4750000 | type : PE|  buy price 61695.0  |   sold at 59705.0 on 2023-12-12 15:02:00 , short_ema 4733918.91463499 | long_ema 4734042.390887354 |  PnL = -1990.0\n",
      " signal time 2023-12-12 15:01:00 | price 4735415 |  on date_time 2023-12-12 15:02:00 | strike 4730000 | type : CE|  buy price 55220.0  |   sold at 52140.0 on 2023-12-12 15:13:00 , short_ema 4732051.236613981 | long_ema 4731557.510372059 |  PnL = -3080.0\n",
      " signal time 2023-12-12 15:12:00 | price 4729995 |  on date_time 2023-12-12 15:13:00 | strike 4740000 | type : PE|  buy price 57500.0  |   sold at 60070.0 on 2023-12-13 10:10:00 , short_ema 4732255.177679872 | long_ema 4732355.039041382 |  PnL = 2570.0\n",
      " signal time 2023-12-13 10:09:00 | price 4720500 |  on date_time 2023-12-13 10:10:00 | strike 4710000 | type : CE|  buy price 54410.0  |   sold at 53185.0 on 2023-12-13 10:24:00 , short_ema 4718266.897574928 | long_ema 4717967.536611552 |  PnL = -1225.0\n",
      " signal time 2023-12-13 10:23:00 | price 4716925 |  on date_time 2023-12-13 10:24:00 | strike 4730000 | type : PE|  buy price 56165.0  |   sold at 54840.0 on 2023-12-13 10:32:00 , short_ema 4718796.044447485 | long_ema 4718870.016191345 |  PnL = -1325.0\n",
      " signal time 2023-12-13 10:31:00 | price 4720740 |  on date_time 2023-12-13 10:32:00 | strike 4710000 | type : CE|  buy price 54740.0  |   sold at 53000.0 on 2023-12-13 10:35:00 , short_ema 4718753.752906011 | long_ema 4718641.068481225 |  PnL = -1740.0\n",
      " signal time 2023-12-13 10:34:00 | price 4716900 |  on date_time 2023-12-13 10:35:00 | strike 4730000 | type : PE|  buy price 56215.0  |   sold at 55155.0 on 2023-12-13 10:42:00 , short_ema 4718391.841487879 | long_ema 4718535.837779767 |  PnL = -1060.0\n",
      " signal time 2023-12-13 10:41:00 | price 4718735 |  on date_time 2023-12-13 10:42:00 | strike 4710000 | type : CE|  buy price 53820.0  |   sold at 54650.0 on 2023-12-13 11:21:00 , short_ema 4718541.7467640005 | long_ema 4718517.175326623 |  PnL = 830.0\n",
      " signal time 2023-12-13 11:20:00 | price 4721250 |  on date_time 2023-12-13 11:21:00 | strike 4740000 | type : PE|  buy price 59540.0  |   sold at 57565.0 on 2023-12-13 11:48:00 , short_ema 4724033.012674903 | long_ema 4724129.595479366 |  PnL = -1975.0\n",
      " signal time 2023-12-13 11:47:00 | price 4723700 |  on date_time 2023-12-13 11:48:00 | strike 4720000 | type : CE|  buy price 50555.0  |   sold at 49775.0 on 2023-12-13 11:56:00 , short_ema 4722401.189423896 | long_ema 4722258.294810135 |  PnL = -780.0\n",
      " signal time 2023-12-13 11:55:00 | price 4721675 |  on date_time 2023-12-13 11:56:00 | strike 4740000 | type : PE|  buy price 58200.0  |   sold at 57770.0 on 2023-12-13 12:05:00 , short_ema 4722296.6480514165 | long_ema 4722347.327117832 |  PnL = -430.0\n",
      " signal time 2023-12-13 12:04:00 | price 4723045 |  on date_time 2023-12-13 12:05:00 | strike 4720000 | type : CE|  buy price 50000.0  |   sold at 49385.0 on 2023-12-13 12:20:00 , short_ema 4722376.709300117 | long_ema 4722296.886699667 |  PnL = -615.0\n",
      " signal time 2023-12-13 12:19:00 | price 4721045 |  on date_time 2023-12-13 12:20:00 | strike 4740000 | type : PE|  buy price 83950.0  |   sold at 58085.0 on 2023-12-13 12:39:00 , short_ema 4722724.306676563 | long_ema 4722845.613668858 |  PnL = -25865.0\n",
      " signal time 2023-12-13 12:38:00 | price 4723195 |  on date_time 2023-12-13 12:39:00 | strike 4720000 | type : CE|  buy price 50130.0  |   sold at 55590.0 on 2023-12-13 13:29:00 , short_ema 4722023.505691703 | long_ema 4721930.976945519 |  PnL = 5460.0\n",
      " signal time 2023-12-13 13:28:00 | price 4733660 |  on date_time 2023-12-13 13:29:00 | strike 4750000 | type : PE|  buy price 57720.0  |   sold at 53865.0 on 2023-12-13 13:40:00 , short_ema 4736827.641451028 | long_ema 4736991.772770011 |  PnL = -3855.0\n",
      " signal time 2023-12-13 13:39:00 | price 4739900 |  on date_time 2023-12-13 13:40:00 | strike 4730000 | type : CE|  buy price 53295.0  |   sold at 52735.0 on 2023-12-13 14:16:00 , short_ema 4736576.6458164975 | long_ema 4736307.127293196 |  PnL = -560.0\n",
      " signal time 2023-12-13 14:15:00 | price 4738500 |  on date_time 2023-12-13 14:16:00 | strike 4750000 | type : PE|  buy price 54165.0  |   sold at 56070.0 on 2023-12-13 14:58:00 , short_ema 4738853.541198583 | long_ema 4738864.545111353 |  PnL = 1905.0\n",
      " signal time 2023-12-13 14:57:00 | price 4733700 |  on date_time 2023-12-13 14:58:00 | strike 4730000 | type : CE|  buy price 49665.0  |   sold at 92045.0 on 2023-12-14 10:19:00 , short_ema 4731503.257807175 | long_ema 4731262.095768755 |  PnL = 42380.0\n",
      " signal time 2023-12-14 10:18:00 | price 4800715 |  on date_time 2023-12-14 10:19:00 | strike 4810000 | type : PE|  buy price 51315.0  |   sold at 50995.0 on 2023-12-14 10:53:00 , short_ema 4807062.820371386 | long_ema 4807508.890190852 |  PnL = -320.0\n",
      " signal time 2023-12-14 10:52:00 | price 4801765 |  on date_time 2023-12-14 10:53:00 | strike 4790000 | type : CE|  buy price 53025.0  |   sold at 51785.0 on 2023-12-14 10:54:00 , short_ema 4800932.22670952 | long_ema 4800841.309470467 |  PnL = -1240.0\n",
      " signal time 2023-12-14 10:53:00 | price 4799660 |  on date_time 2023-12-14 10:54:00 | strike 4810000 | type : PE|  buy price 51575.0  |   sold at 50870.0 on 2023-12-14 11:00:00 , short_ema 4800677.781367617 | long_ema 4800753.805065247 |  PnL = -705.0\n",
      " signal time 2023-12-14 10:59:00 | price 4801860 |  on date_time 2023-12-14 11:00:00 | strike 4800000 | type : CE|  buy price 47810.0  |   sold at 46405.0 on 2023-12-14 11:21:00 , short_ema 4800788.542238833 | long_ema 4800685.980044533 |  PnL = -1405.0\n",
      " signal time 2023-12-14 11:20:00 | price 4800260 |  on date_time 2023-12-14 11:21:00 | strike 4810000 | type : PE|  buy price 51425.0  |   sold at 51130.0 on 2023-12-14 11:44:00 , short_ema 4801719.343983789 | long_ema 4801837.845554613 |  PnL = -295.0\n",
      " signal time 2023-12-14 11:43:00 | price 4800000 |  on date_time 2023-12-14 11:44:00 | strike 4800000 | type : CE|  buy price 46175.0  |   sold at 44180.0 on 2023-12-14 11:51:00 , short_ema 4798935.222566351 | long_ema 4798817.704491389 |  PnL = -1995.0\n",
      " signal time 2023-12-14 11:50:00 | price 4795150 |  on date_time 2023-12-14 11:51:00 | strike 4810000 | type : PE|  buy price 53075.0  |   sold at 51370.0 on 2023-12-14 12:00:00 , short_ema 4798274.611667547 | long_ema 4798761.428832798 |  PnL = -1705.0\n",
      " signal time 2023-12-14 11:59:00 | price 4799800 |  on date_time 2023-12-14 12:00:00 | strike 4800000 | type : CE|  buy price 46105.0  |   sold at 44720.0 on 2023-12-14 12:12:00 , short_ema 4798554.339369461 | long_ema 4798465.657090712 |  PnL = -1385.0\n",
      " signal time 2023-12-14 12:11:00 | price 4797700 |  on date_time 2023-12-14 12:12:00 | strike 4810000 | type : PE|  buy price 52150.0  |   sold at 33410.0 on 2023-12-14 12:26:00 , short_ema 4799208.646060191 | long_ema 4799292.220593754 |  PnL = -18740.0\n",
      " signal time 2023-12-14 12:25:00 | price 4799300 |  on date_time 2023-12-14 12:26:00 | strike 4790000 | type : CE|  buy price 50895.0  |   sold at 50390.0 on 2023-12-14 12:35:00 , short_ema 4798706.1062567355 | long_ema 4798626.343693889 |  PnL = -505.0\n",
      " signal time 2023-12-14 12:34:00 | price 4797695 |  on date_time 2023-12-14 12:35:00 | strike 4810000 | type : PE|  buy price 51540.0  |   sold at 50290.0 on 2023-12-14 12:50:00 , short_ema 4798656.065973027 | long_ema 4798791.249946097 |  PnL = -1250.0\n",
      " signal time 2023-12-14 12:49:00 | price 4800100 |  on date_time 2023-12-14 12:50:00 | strike 4800000 | type : CE|  buy price 45470.0  |   sold at 49070.0 on 2023-12-14 13:48:00 , short_ema 4798688.382408023 | long_ema 4798470.343509616 |  PnL = 3600.0\n",
      " signal time 2023-12-14 13:47:00 | price 4805415 |  on date_time 2023-12-14 13:48:00 | strike 4820000 | type : PE|  buy price 53310.0  |   sold at 53865.0 on 2023-12-14 14:45:00 , short_ema 4807537.618010351 | long_ema 4807666.949342148 |  PnL = 555.0\n",
      " signal time 2023-12-14 14:44:00 | price 4805040 |  on date_time 2023-12-14 14:45:00 | strike 4800000 | type : CE|  buy price 48775.0  |   sold at 46960.0 on 2023-12-14 14:47:00 , short_ema 4803455.708407484 | long_ema 4803401.908676989 |  PnL = -1815.0\n",
      " signal time 2023-12-14 14:46:00 | price 4801700 |  on date_time 2023-12-14 14:47:00 | strike 4820000 | type : PE|  buy price 55325.0  |   sold at 55670.0 on 2023-12-14 15:18:00 , short_ema 4803294.85338079 | long_ema 4803361.101403454 |  PnL = 345.0\n",
      " signal time 2023-12-14 15:17:00 | price 4802480 |  on date_time 2023-12-14 15:18:00 | strike 4800000 | type : CE|  buy price 47605.0  |   sold at 47120.0 on 2023-12-15 09:24:00 , short_ema 4799745.445483973 | long_ema 4799394.680712518 |  PnL = -485.0\n",
      " signal time 2023-12-15 09:23:00 | price 4802465 |  on date_time 2023-12-15 09:24:00 | strike 4820000 | type : PE|  buy price 54560.0  |   sold at 55225.0 on 2023-12-15 10:01:00 , short_ema 4803387.015481608 | long_ema 4803402.736087639 |  PnL = 665.0\n",
      " signal time 2023-12-15 10:00:00 | price 4800000 |  on date_time 2023-12-15 10:01:00 | strike 4790000 | type : CE|  buy price 50580.0  |   sold at 49665.0 on 2023-12-15 10:24:00 , short_ema 4796561.362817427 | long_ema 4796539.796490801 |  PnL = -915.0\n",
      " signal time 2023-12-15 10:23:00 | price 4797700 |  on date_time 2023-12-15 10:24:00 | strike 4820000 | type : PE|  buy price 56000.0  |   sold at 54675.0 on 2023-12-15 10:25:00 , short_ema 4798842.494189611 | long_ema 4798893.86786666 |  PnL = -1325.0\n",
      " signal time 2023-12-15 10:24:00 | price 4801115 |  on date_time 2023-12-15 10:25:00 | strike 4800000 | type : CE|  buy price 45965.0  |   sold at 43515.0 on 2023-12-15 10:42:00 , short_ema 4799296.995351689 | long_ema 4799058.396172833 |  PnL = -2450.0\n",
      " signal time 2023-12-15 10:41:00 | price 4797730 |  on date_time 2023-12-15 10:42:00 | strike 4810000 | type : PE|  buy price 51025.0  |   sold at 54985.0 on 2023-12-15 11:18:00 , short_ema 4799414.919816983 | long_ema 4799491.381500612 |  PnL = 3960.0\n",
      " signal time 2023-12-15 11:17:00 | price 4789685 |  on date_time 2023-12-15 11:18:00 | strike 4790000 | type : CE|  buy price 44860.0  |   sold at 44000.0 on 2023-12-15 11:47:00 , short_ema 4788450.667713818 | long_ema 4788267.683938586 |  PnL = -860.0\n",
      " signal time 2023-12-15 11:46:00 | price 4789430 |  on date_time 2023-12-15 11:47:00 | strike 4800000 | type : PE|  buy price 49655.0  |   sold at 49340.0 on 2023-12-15 12:30:00 , short_ema 4790520.206331265 | long_ema 4790581.357717967 |  PnL = -315.0\n",
      " signal time 2023-12-15 12:29:00 | price 4790000 |  on date_time 2023-12-15 12:30:00 | strike 4790000 | type : CE|  buy price 44345.0  |   sold at 44450.0 on 2023-12-15 13:11:00 , short_ema 4788457.339695077 | long_ema 4788263.844497615 |  PnL = 105.0\n",
      " signal time 2023-12-15 13:10:00 | price 4790890 |  on date_time 2023-12-15 13:11:00 | strike 4810000 | type : PE|  buy price 53800.0  |   sold at 52325.0 on 2023-12-15 13:17:00 , short_ema 4792169.75000475 | long_ema 4792225.022682172 |  PnL = -1475.0\n",
      " signal time 2023-12-15 13:16:00 | price 4793120 |  on date_time 2023-12-15 13:17:00 | strike 4790000 | type : CE|  buy price 45540.0  |   sold at 64055.0 on 2023-12-15 15:23:00 , short_ema 4792240.705025246 | long_ema 4792141.616730407 |  PnL = 18515.0\n",
      " signal time 2023-12-15 15:22:00 | price 4823830 |  on date_time 2023-12-15 15:23:00 | strike 4840000 | type : PE|  buy price 54480.0  |   sold at 63975.0 on 2023-12-18 10:05:00 , short_ema 4825582.5463069305 | long_ema 4825719.54254782 |  PnL = 9495.0\n",
      " signal time 2023-12-18 10:04:00 | price 4805055 |  on date_time 2023-12-18 10:05:00 | strike 4800000 | type : CE|  buy price 46355.0  |   sold at 45130.0 on 2023-12-18 10:07:00 , short_ema 4803412.436840022 | long_ema 4803370.815858537 |  PnL = -1225.0\n",
      " signal time 2023-12-18 10:06:00 | price 4802355 |  on date_time 2023-12-18 10:07:00 | strike 4820000 | type : PE|  buy price 53895.0  |   sold at 54000.0 on 2023-12-18 10:23:00 , short_ema 4803269.359577615 | long_ema 4803327.750221654 |  PnL = 105.0\n",
      " signal time 2023-12-18 10:22:00 | price 4803325 |  on date_time 2023-12-18 10:23:00 | strike 4800000 | type : CE|  buy price 45725.0  |   sold at 46685.0 on 2023-12-18 10:41:00 , short_ema 4802581.127162908 | long_ema 4802516.762272473 |  PnL = 960.0\n",
      " signal time 2023-12-18 10:40:00 | price 4803995 |  on date_time 2023-12-18 10:41:00 | strike 4820000 | type : PE|  buy price 52575.0  |   sold at 50200.0 on 2023-12-18 10:55:00 , short_ema 4808794.804449157 | long_ema 4809076.020934938 |  PnL = -2375.0\n",
      " signal time 2023-12-18 10:54:00 | price 4810000 |  on date_time 2023-12-18 10:55:00 | strike 4800000 | type : CE|  buy price 49440.0  |   sold at 46380.0 on 2023-12-18 11:24:00 , short_ema 4807646.546666348 | long_ema 4807509.615449905 |  PnL = -3060.0\n",
      " signal time 2023-12-18 11:23:00 | price 4805625 |  on date_time 2023-12-18 11:24:00 | strike 4820000 | type : PE|  buy price 52560.0  |   sold at 50235.0 on 2023-12-18 11:31:00 , short_ema 4808382.167303946 | long_ema 4808794.746058525 |  PnL = -2325.0\n",
      " signal time 2023-12-18 11:30:00 | price 4810080 |  on date_time 2023-12-18 11:31:00 | strike 4800000 | type : CE|  buy price 48825.0  |   sold at 47480.0 on 2023-12-18 11:49:00 , short_ema 4808829.931892581 | long_ema 4808693.049203565 |  PnL = -1345.0\n",
      " signal time 2023-12-18 11:48:00 | price 4808000 |  on date_time 2023-12-18 11:49:00 | strike 4820000 | type : PE|  buy price 51140.0  |   sold at 51575.0 on 2023-12-18 12:46:00 , short_ema 4809163.018675612 | long_ema 4809342.272397821 |  PnL = 435.0\n",
      " signal time 2023-12-18 12:45:00 | price 4805390 |  on date_time 2023-12-18 12:46:00 | strike 4800000 | type : CE|  buy price 46800.0  |   sold at 45690.0 on 2023-12-18 13:02:00 , short_ema 4804702.363946347 | long_ema 4804627.946193119 |  PnL = -1110.0\n",
      " signal time 2023-12-18 13:01:00 | price 4803465 |  on date_time 2023-12-18 13:02:00 | strike 4820000 | type : PE|  buy price 53205.0  |   sold at 53510.0 on 2023-12-18 13:25:00 , short_ema 4804769.887187061 | long_ema 4804950.846678474 |  PnL = 305.0\n",
      " signal time 2023-12-18 13:24:00 | price 4802810 |  on date_time 2023-12-18 13:25:00 | strike 4800000 | type : CE|  buy price 45235.0  |   sold at 44330.0 on 2023-12-18 13:36:00 , short_ema 4801976.417994652 | long_ema 4801929.075664374 |  PnL = -905.0\n",
      " signal time 2023-12-18 13:35:00 | price 4800355 |  on date_time 2023-12-18 13:36:00 | strike 4820000 | type : PE|  buy price 54250.0  |   sold at 54735.0 on 2023-12-18 13:59:00 , short_ema 4802751.738718119 | long_ema 4802866.900647398 |  PnL = 485.0\n",
      " signal time 2023-12-18 13:58:00 | price 4802230 |  on date_time 2023-12-18 13:59:00 | strike 4800000 | type : CE|  buy price 44665.0  |   sold at 44650.0 on 2023-12-18 14:42:00 , short_ema 4801241.366419293 | long_ema 4801178.033506875 |  PnL = -15.0\n",
      " signal time 2023-12-18 14:41:00 | price 4803070 |  on date_time 2023-12-18 14:42:00 | strike 4820000 | type : PE|  buy price 53150.0  |   sold at 60535.0 on 2023-12-19 10:19:00 , short_ema 4805174.59372582 | long_ema 4805200.438023988 |  PnL = 7385.0\n",
      " signal time 2023-12-19 10:18:00 | price 4784030 |  on date_time 2023-12-19 10:19:00 | strike 4780000 | type : CE|  buy price 42725.0  |   sold at 41125.0 on 2023-12-19 10:33:00 , short_ema 4782130.559118617 | long_ema 4782128.06480711 |  PnL = -1600.0\n",
      " signal time 2023-12-19 10:32:00 | price 4781005 |  on date_time 2023-12-19 10:33:00 | strike 4800000 | type : PE|  buy price 49520.0  |   sold at 48890.0 on 2023-12-19 10:34:00 , short_ema 4782477.167261538 | long_ema 4782615.739031447 |  PnL = -630.0\n",
      " signal time 2023-12-19 10:33:00 | price 4783500 |  on date_time 2023-12-19 10:34:00 | strike 4780000 | type : CE|  buy price 42025.0  |   sold at 42350.0 on 2023-12-19 11:20:00 , short_ema 4782681.733809231 | long_ema 4782681.239843932 |  PnL = 325.0\n",
      " signal time 2023-12-19 11:19:00 | price 4785500 |  on date_time 2023-12-19 11:20:00 | strike 4800000 | type : PE|  buy price 46685.0  |   sold at 45635.0 on 2023-12-19 11:28:00 , short_ema 4787164.430546102 | long_ema 4787275.861857012 |  PnL = -1050.0\n",
      " signal time 2023-12-19 11:27:00 | price 4787515 |  on date_time 2023-12-19 11:28:00 | strike 4780000 | type : CE|  buy price 43575.0  |   sold at 55055.0 on 2023-12-19 13:08:00 , short_ema 4787193.798643891 | long_ema 4787156.218481677 |  PnL = 11480.0\n",
      " signal time 2023-12-19 13:07:00 | price 4807840 |  on date_time 2023-12-19 13:08:00 | strike 4820000 | type : PE|  buy price 46550.0  |   sold at 45305.0 on 2023-12-19 13:35:00 , short_ema 4808354.20132275 | long_ema 4808431.753802441 |  PnL = -1245.0\n",
      " signal time 2023-12-19 13:34:00 | price 4809480 |  on date_time 2023-12-19 13:35:00 | strike 4800000 | type : CE|  buy price 44540.0  |   sold at 47300.0 on 2023-12-19 14:24:00 , short_ema 4807207.679874254 | long_ema 4806887.097955069 |  PnL = 2760.0\n",
      " signal time 2023-12-19 14:23:00 | price 4815000 |  on date_time 2023-12-19 14:24:00 | strike 4830000 | type : PE|  buy price 47670.0  |   sold at 46370.0 on 2023-12-19 14:31:00 , short_ema 4817142.691272158 | long_ema 4817477.193950988 |  PnL = -1300.0\n",
      " signal time 2023-12-19 14:30:00 | price 4818505 |  on date_time 2023-12-19 14:31:00 | strike 4810000 | type : CE|  buy price 43915.0  |   sold at 42440.0 on 2023-12-19 14:44:00 , short_ema 4817486.639856679 | long_ema 4817400.1171523025 |  PnL = -1475.0\n",
      " signal time 2023-12-19 14:43:00 | price 4815420 |  on date_time 2023-12-19 14:44:00 | strike 4830000 | type : PE|  buy price 47185.0  |   sold at 41685.0 on 2023-12-20 09:16:00 , short_ema 4817361.968630547 | long_ema 4817663.629440372 |  PnL = -5500.0\n",
      " signal time 2023-12-20 09:15:00 | price 4821060 |  on date_time 2023-12-20 09:16:00 | strike 4820000 | type : CE|  buy price 37660.0  |   sold at 35335.0 on 2023-12-20 09:48:00 , short_ema 4804321.734296054 | long_ema 4803483.0684191 |  PnL = -2325.0\n",
      " signal time 2023-12-20 09:47:00 | price 4816910 |  on date_time 2023-12-20 09:48:00 | strike 4830000 | type : PE|  buy price 43510.0  |   sold at 44835.0 on 2023-12-20 10:42:00 , short_ema 4818913.951499675 | long_ema 4818975.616082867 |  PnL = 1325.0\n",
      " signal time 2023-12-20 10:41:00 | price 4815005 |  on date_time 2023-12-20 10:42:00 | strike 4810000 | type : CE|  buy price 38745.0  |   sold at 36135.0 on 2023-12-20 11:15:00 , short_ema 4811812.001157824 | long_ema 4811702.729822584 |  PnL = -2610.0\n",
      " signal time 2023-12-20 11:14:00 | price 4810365 |  on date_time 2023-12-20 11:15:00 | strike 4830000 | type : PE|  buy price 47105.0  |   sold at 47015.0 on 2023-12-20 12:00:00 , short_ema 4813830.551359026 | long_ema 4814092.862139856 |  PnL = -90.0\n",
      " signal time 2023-12-20 11:59:00 | price 4810000 |  on date_time 2023-12-20 12:00:00 | strike 4810000 | type : CE|  buy price 36110.0  |   sold at 35455.0 on 2023-12-20 12:17:00 , short_ema 4808322.263804788 | long_ema 4808215.230591985 |  PnL = -655.0\n",
      " signal time 2023-12-20 12:16:00 | price 4807850 |  on date_time 2023-12-20 12:17:00 | strike 4820000 | type : PE|  buy price 43075.0  |   sold at 41735.0 on 2023-12-20 12:26:00 , short_ema 4809092.728136474 | long_ema 4809191.840553389 |  PnL = -1340.0\n",
      " signal time 2023-12-20 12:25:00 | price 4810125 |  on date_time 2023-12-20 12:26:00 | strike 4800000 | type : CE|  buy price 41450.0  |   sold at 40845.0 on 2023-12-20 12:29:00 , short_ema 4808793.296071481 | long_ema 4808787.5385425165 |  PnL = -605.0\n",
      " signal time 2023-12-20 12:28:00 | price 4807975 |  on date_time 2023-12-20 12:29:00 | strike 4820000 | type : PE|  buy price 42725.0  |   sold at 41290.0 on 2023-12-20 12:35:00 , short_ema 4808786.927588599 | long_ema 4808802.676915452 |  PnL = -1435.0\n",
      " signal time 2023-12-20 12:34:00 | price 4810135 |  on date_time 2023-12-20 12:35:00 | strike 4810000 | type : CE|  buy price 36590.0  |   sold at 36640.0 on 2023-12-20 13:03:00 , short_ema 4808959.611545786 | long_ema 4808817.879382216 |  PnL = 50.0\n",
      " signal time 2023-12-20 13:02:00 | price 4811390 |  on date_time 2023-12-20 13:03:00 | strike 4830000 | type : PE|  buy price 45320.0  |   sold at 119185.0 on 2023-12-21 09:47:00 , short_ema 4813284.357555278 | long_ema 4813310.279964282 |  PnL = 73865.0\n",
      " signal time 2023-12-21 09:46:00 | price 4721665 |  on date_time 2023-12-21 09:47:00 | strike 4710000 | type : CE|  buy price 45945.0  |   sold at 42190.0 on 2023-12-21 09:50:00 , short_ema 4717205.12838879 | long_ema 4716806.772153318 |  PnL = -3755.0\n",
      " signal time 2023-12-21 09:49:00 | price 4714535 |  on date_time 2023-12-21 09:50:00 | strike 4730000 | type : PE|  buy price 47920.0  |   sold at 45735.0 on 2023-12-21 09:52:00 , short_ema 4716613.625735061 | long_ema 4716683.703952425 |  PnL = -2185.0\n",
      " signal time 2023-12-21 09:51:00 | price 4718190 |  on date_time 2023-12-21 09:52:00 | strike 4710000 | type : CE|  buy price 44200.0  |   sold at 39990.0 on 2023-12-21 09:57:00 , short_ema 4716985.920470439 | long_ema 4716814.917654687 |  PnL = -4210.0\n",
      " signal time 2023-12-21 09:56:00 | price 4712660 |  on date_time 2023-12-21 09:57:00 | strike 4730000 | type : PE|  buy price 48400.0  |   sold at 44105.0 on 2023-12-21 10:04:00 , short_ema 4715984.807219753 | long_ema 4716508.06605629 |  PnL = -4295.0\n",
      " signal time 2023-12-21 10:03:00 | price 4719700 |  on date_time 2023-12-21 10:04:00 | strike 4710000 | type : CE|  buy price 43880.0  |   sold at 44825.0 on 2023-12-21 10:34:00 , short_ema 4716800.501523052 | long_ema 4716354.896429755 |  PnL = 945.0\n",
      " signal time 2023-12-21 10:33:00 | price 4724000 |  on date_time 2023-12-21 10:34:00 | strike 4740000 | type : PE|  buy price 46090.0  |   sold at 39870.0 on 2023-12-21 10:44:00 , short_ema 4729474.934795035 | long_ema 4730178.487801226 |  PnL = -6220.0\n",
      " signal time 2023-12-21 10:43:00 | price 4736225 |  on date_time 2023-12-21 10:44:00 | strike 4730000 | type : CE|  buy price 39830.0  |   sold at 44765.0 on 2023-12-21 11:22:00 , short_ema 4730264.445996303 | long_ema 4729637.291714904 |  PnL = 4935.0\n",
      " signal time 2023-12-21 11:21:00 | price 4745205 |  on date_time 2023-12-21 11:22:00 | strike 4760000 | type : PE|  buy price 44660.0  |   sold at 42200.0 on 2023-12-21 11:25:00 , short_ema 4745838.10113449 | long_ema 4745910.638370686 |  PnL = -2460.0\n",
      " signal time 2023-12-21 11:24:00 | price 4749265 |  on date_time 2023-12-21 11:25:00 | strike 4740000 | type : CE|  buy price 41560.0  |   sold at 38595.0 on 2023-12-21 11:28:00 , short_ema 4746220.347780859 | long_ema 4746005.4790703645 |  PnL = -2965.0\n",
      " signal time 2023-12-21 11:27:00 | price 4744720 |  on date_time 2023-12-21 11:28:00 | strike 4760000 | type : PE|  buy price 45450.0  |   sold at 43490.0 on 2023-12-21 11:41:00 , short_ema 4745720.0180638 | long_ema 4745856.0748094525 |  PnL = -1960.0\n",
      " signal time 2023-12-21 11:40:00 | price 4747500 |  on date_time 2023-12-21 11:41:00 | strike 4740000 | type : CE|  buy price 40510.0  |   sold at 38200.0 on 2023-12-21 11:49:00 , short_ema 4745215.9983012425 | long_ema 4744959.898345066 |  PnL = -2310.0\n",
      " signal time 2023-12-21 11:48:00 | price 4741755 |  on date_time 2023-12-21 11:49:00 | strike 4760000 | type : PE|  buy price 46260.0  |   sold at 43615.0 on 2023-12-21 11:53:00 , short_ema 4745027.827403957 | long_ema 4745117.110478933 |  PnL = -2645.0\n",
      " signal time 2023-12-21 11:52:00 | price 4747000 |  on date_time 2023-12-21 11:53:00 | strike 4740000 | type : CE|  buy price 40760.0  |   sold at 39565.0 on 2023-12-21 12:15:00 , short_ema 4745263.878104662 | long_ema 4745146.965572535 |  PnL = -1195.0\n",
      " signal time 2023-12-21 12:14:00 | price 4744900 |  on date_time 2023-12-21 12:15:00 | strike 4760000 | type : PE|  buy price 44995.0  |   sold at 41660.0 on 2023-12-21 12:25:00 , short_ema 4748086.910538593 | long_ema 4748390.529795178 |  PnL = -3335.0\n",
      " signal time 2023-12-21 12:24:00 | price 4750500 |  on date_time 2023-12-21 12:25:00 | strike 4750000 | type : CE|  buy price 36880.0  |   sold at 45315.0 on 2023-12-21 13:07:00 , short_ema 4747997.238403577 | long_ema 4747912.139205323 |  PnL = 8435.0\n",
      " signal time 2023-12-21 13:06:00 | price 4763610 |  on date_time 2023-12-21 13:07:00 | strike 4780000 | type : PE|  buy price 45580.0  |   sold at 43435.0 on 2023-12-21 13:16:00 , short_ema 4766982.486719996 | long_ema 4767011.354325442 |  PnL = -2145.0\n",
      " signal time 2023-12-21 13:15:00 | price 4768585 |  on date_time 2023-12-21 13:16:00 | strike 4760000 | type : CE|  buy price 41515.0  |   sold at 39545.0 on 2023-12-21 13:19:00 , short_ema 4766331.18896319 | long_ema 4766254.627416199 |  PnL = -1970.0\n",
      " signal time 2023-12-21 13:18:00 | price 4764725 |  on date_time 2023-12-21 13:19:00 | strike 4780000 | type : PE|  buy price 45500.0  |   sold at 41890.0 on 2023-12-21 13:32:00 , short_ema 4765964.008749154 | long_ema 4766138.208269984 |  PnL = -3610.0\n",
      " signal time 2023-12-21 13:31:00 | price 4769230 |  on date_time 2023-12-21 13:32:00 | strike 4760000 | type : CE|  buy price 42455.0  |   sold at 38190.0 on 2023-12-21 13:37:00 , short_ema 4765368.972263334 | long_ema 4765109.208066587 |  PnL = -4265.0\n",
      " signal time 2023-12-21 13:36:00 | price 4762465 |  on date_time 2023-12-21 13:37:00 | strike 4770000 | type : PE|  buy price 41375.0  |   sold at 44030.0 on 2023-12-21 14:18:00 , short_ema 4765195.044031249 | long_ema 4765243.447473405 |  PnL = 2655.0\n",
      " signal time 2023-12-21 14:17:00 | price 4755155 |  on date_time 2023-12-21 14:18:00 | strike 4750000 | type : CE|  buy price 39505.0  |   sold at 72485.0 on 2023-12-21 15:26:00 , short_ema 4754533.147340946 | long_ema 4754447.051401618 |  PnL = 32980.0\n",
      " signal time 2023-12-21 15:25:00 | price 4804920 |  on date_time 2023-12-21 15:26:00 | strike 4820000 | type : PE|  buy price 43665.0  |   sold at 40810.0 on 2023-12-21 15:29:00 , short_ema 4807205.414581553 | long_ema 4807479.214195823 |  PnL = -2855.0\n",
      " signal time 2023-12-21 15:28:00 | price 4809900 |  on date_time 2023-12-21 15:29:00 | strike 4810000 | type : CE|  buy price 36125.0  |   sold at 27995.0 on 2023-12-22 09:16:00 , short_ema 4807621.172265755 | long_ema 4807563.477204173 |  PnL = -8130.0\n",
      " signal time 2023-12-22 09:15:00 | price 4796040 |  on date_time 2023-12-22 09:16:00 | strike 4810000 | type : PE|  buy price 41720.0  |   sold at 40205.0 on 2023-12-22 09:48:00 , short_ema 4805811.950250084 | long_ema 4806931.184159955 |  PnL = -1515.0\n",
      " signal time 2023-12-22 09:47:00 | price 4798810 |  on date_time 2023-12-22 09:48:00 | strike 4800000 | type : CE|  buy price 33760.0  |   sold at 45410.0 on 2023-12-22 11:23:00 , short_ema 4792753.757008329 | long_ema 4792340.380706637 |  PnL = 11650.0\n",
      " signal time 2023-12-22 11:22:00 | price 4816940 |  on date_time 2023-12-22 11:23:00 | strike 4830000 | type : PE|  buy price 41050.0  |   sold at 40100.0 on 2023-12-22 11:24:00 , short_ema 4817594.159644762 | long_ema 4817655.203795699 |  PnL = -950.0\n",
      " signal time 2023-12-22 11:23:00 | price 4818420 |  on date_time 2023-12-22 11:24:00 | strike 4810000 | type : CE|  buy price 40625.0  |   sold at 39870.0 on 2023-12-22 11:28:00 , short_ema 4817759.32771581 | long_ema 4817711.855366388 |  PnL = -755.0\n",
      " signal time 2023-12-22 11:27:00 | price 4816210 |  on date_time 2023-12-22 11:28:00 | strike 4830000 | type : PE|  buy price 41040.0  |   sold at 42735.0 on 2023-12-22 12:03:00 , short_ema 4817579.740632396 | long_ema 4817707.330376271 |  PnL = 1695.0\n",
      " signal time 2023-12-22 12:02:00 | price 4815585 |  on date_time 2023-12-22 12:03:00 | strike 4810000 | type : CE|  buy price 38460.0  |   sold at 34485.0 on 2023-12-22 12:10:00 , short_ema 4810621.2511077635 | long_ema 4810189.825444778 |  PnL = -3975.0\n",
      " signal time 2023-12-22 12:09:00 | price 4808275 |  on date_time 2023-12-22 12:10:00 | strike 4820000 | type : PE|  buy price 41570.0  |   sold at 42470.0 on 2023-12-22 12:49:00 , short_ema 4810558.641320315 | long_ema 4810559.178578765 |  PnL = 900.0\n",
      " signal time 2023-12-22 12:48:00 | price 4803875 |  on date_time 2023-12-22 12:49:00 | strike 4800000 | type : CE|  buy price 35615.0  |   sold at 31200.0 on 2023-12-22 13:10:00 , short_ema 4796917.514616088 | long_ema 4796405.726743019 |  PnL = -4415.0\n",
      " signal time 2023-12-22 13:09:00 | price 4794795 |  on date_time 2023-12-22 13:10:00 | strike 4810000 | type : PE|  buy price 41565.0  |   sold at 51995.0 on 2023-12-22 14:10:00 , short_ema 4798364.939442767 | long_ema 4798833.794597152 |  PnL = 10430.0\n",
      " signal time 2023-12-22 14:09:00 | price 4777500 |  on date_time 2023-12-22 14:10:00 | strike 4770000 | type : CE|  buy price 38675.0  |   sold at 33180.0 on 2023-12-22 14:35:00 , short_ema 4769064.689549383 | long_ema 4768479.465672917 |  PnL = -5495.0\n",
      " signal time 2023-12-22 14:34:00 | price 4766015 |  on date_time 2023-12-22 14:35:00 | strike 4790000 | type : PE|  buy price 46500.0  |   sold at 39850.0 on 2023-12-22 14:39:00 , short_ema 4772388.751647968 | long_ema 4773141.411743073 |  PnL = -6650.0\n",
      " signal time 2023-12-22 14:38:00 | price 4778865 |  on date_time 2023-12-22 14:39:00 | strike 4770000 | type : CE|  buy price 38465.0  |   sold at 33205.0 on 2023-12-22 15:01:00 , short_ema 4774149.576675009 | long_ema 4773621.074215459 |  PnL = -5260.0\n",
      " signal time 2023-12-22 15:00:00 | price 4770035 |  on date_time 2023-12-22 15:01:00 | strike 4780000 | type : PE|  buy price 38775.0  |   sold at 35270.0 on 2023-12-26 10:00:00 , short_ema 4778990.534348545 | long_ema 4779928.487304762 |  PnL = -3505.0\n",
      " signal time 2023-12-26 09:59:00 | price 4764750 |  on date_time 2023-12-26 10:00:00 | strike 4760000 | type : CE|  buy price 29145.0  |   sold at 37540.0 on 2023-12-26 11:02:00 , short_ema 4756715.651389574 | long_ema 4755817.020397711 |  PnL = 8395.0\n",
      " signal time 2023-12-26 11:01:00 | price 4777400 |  on date_time 2023-12-26 11:02:00 | strike 4790000 | type : PE|  buy price 33765.0  |   sold at 31095.0 on 2023-12-26 11:28:00 , short_ema 4781516.285638832 | long_ema 4781945.085201088 |  PnL = -2670.0\n",
      " signal time 2023-12-26 11:27:00 | price 4782200 |  on date_time 2023-12-26 11:28:00 | strike 4770000 | type : CE|  buy price 33550.0  |   sold at 31260.0 on 2023-12-26 11:32:00 , short_ema 4778909.187481915 | long_ema 4778849.716820874 |  PnL = -2290.0\n",
      " signal time 2023-12-26 11:31:00 | price 4778020 |  on date_time 2023-12-26 11:32:00 | strike 4790000 | type : PE|  buy price 32780.0  |   sold at 31700.0 on 2023-12-26 11:34:00 , short_ema 4778678.483192593 | long_ema 4778780.20270012 |  PnL = -1080.0\n",
      " signal time 2023-12-26 11:33:00 | price 4780015 |  on date_time 2023-12-26 11:34:00 | strike 4780000 | type : CE|  buy price 26790.0  |   sold at 25940.0 on 2023-12-26 11:47:00 , short_ema 4779050.8292432595 | long_ema 4778909.721107785 |  PnL = -850.0\n",
      " signal time 2023-12-26 11:46:00 | price 4778190 |  on date_time 2023-12-26 11:47:00 | strike 4790000 | type : PE|  buy price 33035.0  |   sold at 31585.0 on 2023-12-26 11:59:00 , short_ema 4779540.724462686 | long_ema 4779643.079001062 |  PnL = -1450.0\n",
      " signal time 2023-12-26 11:58:00 | price 4780995 |  on date_time 2023-12-26 11:59:00 | strike 4780000 | type : CE|  buy price 27060.0  |   sold at 25645.0 on 2023-12-26 12:07:00 , short_ema 4779576.999713515 | long_ema 4779394.372301105 |  PnL = -1415.0\n",
      " signal time 2023-12-26 12:06:00 | price 4778100 |  on date_time 2023-12-26 12:07:00 | strike 4790000 | type : PE|  buy price 33385.0  |   sold at 31200.0 on 2023-12-26 12:22:00 , short_ema 4779660.081544256 | long_ema 4779722.228046137 |  PnL = -2185.0\n",
      " signal time 2023-12-26 12:21:00 | price 4780975 |  on date_time 2023-12-26 12:22:00 | strike 4780000 | type : CE|  buy price 27045.0  |   sold at 27240.0 on 2023-12-26 12:45:00 , short_ema 4779163.297858778 | long_ema 4779149.362180257 |  PnL = 195.0\n",
      " signal time 2023-12-26 12:44:00 | price 4781310 |  on date_time 2023-12-26 12:45:00 | strike 4790000 | type : PE|  buy price 30560.0  |   sold at 30315.0 on 2023-12-26 13:26:00 , short_ema 4783865.252917217 | long_ema 4784178.084475203 |  PnL = -245.0\n",
      " signal time 2023-12-26 13:25:00 | price 4779670 |  on date_time 2023-12-26 13:26:00 | strike 4770000 | type : CE|  buy price 30645.0  |   sold at 30645.0 on 2023-12-26 14:07:00 , short_ema 4776777.043329127 | long_ema 4776663.256806813 |  PnL = 0.0\n",
      " signal time 2023-12-26 14:06:00 | price 4781000 |  on date_time 2023-12-26 14:07:00 | strike 4790000 | type : PE|  buy price 29650.0  |   sold at 27245.0 on 2023-12-26 14:18:00 , short_ema 4781948.053381395 | long_ema 4781991.095961399 |  PnL = -2405.0\n",
      " signal time 2023-12-26 14:17:00 | price 4783645 |  on date_time 2023-12-26 14:18:00 | strike 4780000 | type : CE|  buy price 26485.0  |   sold at 26775.0 on 2023-12-26 14:43:00 , short_ema 4781176.303884592 | long_ema 4781099.151876991 |  PnL = 290.0\n",
      " signal time 2023-12-26 14:42:00 | price 4784995 |  on date_time 2023-12-26 14:43:00 | strike 4800000 | type : PE|  buy price 31755.0  |   sold at 29765.0 on 2023-12-26 15:20:00 , short_ema 4787390.335545562 | long_ema 4787707.190276855 |  PnL = -1990.0\n",
      " signal time 2023-12-26 15:19:00 | price 4784240 |  on date_time 2023-12-26 15:20:00 | strike 4780000 | type : CE|  buy price 24665.0  |   sold at 38555.0 on 2023-12-27 10:57:00 , short_ema 4780993.420430237 | long_ema 4780705.134545152 |  PnL = 13890.0\n",
      " signal time 2023-12-27 10:56:00 | price 4808470 |  on date_time 2023-12-27 10:57:00 | strike 4830000 | type : PE|  buy price 33145.0  |   sold at 31880.0 on 2023-12-27 10:58:00 , short_ema 4810443.760457668 | long_ema 4810465.698622977 |  PnL = -1265.0\n",
      " signal time 2023-12-27 10:57:00 | price 4810685 |  on date_time 2023-12-27 10:58:00 | strike 4810000 | type : CE|  buy price 20690.0  |   sold at 21035.0 on 2023-12-27 10:59:00 , short_ema 4810492.008366135 | long_ema 4810481.943169423 |  PnL = 345.0\n",
      " signal time 2023-12-27 10:58:00 | price 4810100 |  on date_time 2023-12-27 10:59:00 | strike 4820000 | type : PE|  buy price 25750.0  |   sold at 24465.0 on 2023-12-27 11:18:00 , short_ema 4810413.606692908 | long_ema 4810453.651082799 |  PnL = -1285.0\n",
      " signal time 2023-12-27 11:17:00 | price 4811970 |  on date_time 2023-12-27 11:18:00 | strike 4810000 | type : CE|  buy price 20980.0  |   sold at 20050.0 on 2023-12-27 11:48:00 , short_ema 4809139.080830507 | long_ema 4808961.019316672 |  PnL = -930.0\n",
      " signal time 2023-12-27 11:47:00 | price 4810500 |  on date_time 2023-12-27 11:48:00 | strike 4820000 | type : PE|  buy price 25190.0  |   sold at 22775.0 on 2023-12-27 11:55:00 , short_ema 4811755.617138362 | long_ema 4811935.014227677 |  PnL = -2415.0\n",
      " signal time 2023-12-27 11:54:00 | price 4813900 |  on date_time 2023-12-27 11:55:00 | strike 4810000 | type : CE|  buy price 22085.0  |   sold at 22715.0 on 2023-12-27 12:24:00 , short_ema 4812029.761935296 | long_ema 4811801.099438427 |  PnL = 630.0\n",
      " signal time 2023-12-27 12:23:00 | price 4813900 |  on date_time 2023-12-27 12:24:00 | strike 4820000 | type : PE|  buy price 23635.0  |   sold at 23590.0 on 2023-12-27 13:00:00 , short_ema 4821758.869578633 | long_ema 4822759.325672174 |  PnL = -45.0\n",
      " signal time 2023-12-27 12:59:00 | price 4812000 |  on date_time 2023-12-27 13:00:00 | strike 4800000 | type : CE|  buy price 25920.0  |   sold at 23665.0 on 2023-12-27 13:01:00 , short_ema 4810938.984072072 | long_ema 4810906.238678108 |  PnL = -2255.0\n",
      " signal time 2023-12-27 13:00:00 | price 4808160 |  on date_time 2023-12-27 13:01:00 | strike 4820000 | type : PE|  buy price 25900.0  |   sold at 24570.0 on 2023-12-27 13:50:00 , short_ema 4810383.187257659 | long_ema 4810702.81359084 |  PnL = -1330.0\n",
      " signal time 2023-12-27 13:49:00 | price 4807160 |  on date_time 2023-12-27 13:50:00 | strike 4800000 | type : CE|  buy price 21125.0  |   sold at 18265.0 on 2023-12-27 14:33:00 , short_ema 4800229.523647748 | long_ema 4800132.399794573 |  PnL = -2860.0\n",
      " signal time 2023-12-27 14:32:00 | price 4801995 |  on date_time 2023-12-27 14:33:00 | strike 4820000 | type : PE|  buy price 26340.0  |   sold at 20355.0 on 2023-12-27 14:37:00 , short_ema 4807195.574917305 | long_ema 4807824.823612703 |  PnL = -5985.0\n",
      " signal time 2023-12-27 14:36:00 | price 4813030 |  on date_time 2023-12-27 14:37:00 | strike 4810000 | type : CE|  buy price 18295.0  |   sold at 46000.0 on 2023-12-28 10:02:00 , short_ema 4808522.139486128 | long_ema 4808145.243693491 |  PnL = 27705.0\n",
      " signal time 2023-12-28 10:01:00 | price 4851445 |  on date_time 2023-12-28 10:02:00 | strike 4870000 | type : PE|  buy price 25960.0  |   sold at 25725.0 on 2023-12-28 10:47:00 , short_ema 4855398.755031144 | long_ema 4855523.350969387 |  PnL = -235.0\n",
      " signal time 2023-12-28 10:46:00 | price 4849000 |  on date_time 2023-12-28 10:47:00 | strike 4850000 | type : CE|  buy price 10490.0  |   sold at 6735.0 on 2023-12-28 10:55:00 , short_ema 4845007.405712437 | long_ema 4844612.77814544 |  PnL = -3755.0\n",
      " signal time 2023-12-28 10:54:00 | price 4840000 |  on date_time 2023-12-28 10:55:00 | strike 4860000 | type : PE|  buy price 24095.0  |   sold at 18880.0 on 2023-12-28 11:07:00 , short_ema 4845570.877288373 | long_ema 4845589.353341776 |  PnL = -5215.0\n",
      " signal time 2023-12-28 11:06:00 | price 4846200 |  on date_time 2023-12-28 11:07:00 | strike 4840000 | type : CE|  buy price 13380.0  |   sold at 15855.0 on 2023-12-28 11:56:00 , short_ema 4845004.935110068 | long_ema 4844855.597010753 |  PnL = 2475.0\n",
      " signal time 2023-12-28 11:55:00 | price 4850440 |  on date_time 2023-12-28 11:56:00 | strike 4870000 | type : PE|  buy price 22690.0  |   sold at 20210.0 on 2023-12-28 11:59:00 , short_ema 4852664.641455849 | long_ema 4852847.950956909 |  PnL = -2480.0\n",
      " signal time 2023-12-28 11:58:00 | price 4853990 |  on date_time 2023-12-28 11:59:00 | strike 4850000 | type : CE|  buy price 10910.0  |   sold at 10090.0 on 2023-12-28 12:12:00 , short_ema 4853077.656425396 | long_ema 4852979.787314012 |  PnL = -820.0\n",
      " signal time 2023-12-28 12:11:00 | price 4852130 |  on date_time 2023-12-28 12:12:00 | strike 4870000 | type : PE|  buy price 20900.0  |   sold at 19125.0 on 2023-12-28 12:22:00 , short_ema 4853170.803064031 | long_ema 4853319.276601481 |  PnL = -1775.0\n",
      " signal time 2023-12-28 12:21:00 | price 4854380 |  on date_time 2023-12-28 12:22:00 | strike 4850000 | type : CE|  buy price 11255.0  |   sold at 11360.0 on 2023-12-28 12:57:00 , short_ema 4853314.824856953 | long_ema 4853162.632486017 |  PnL = 105.0\n",
      " signal time 2023-12-28 12:56:00 | price 4856980 |  on date_time 2023-12-28 12:57:00 | strike 4870000 | type : PE|  buy price 17095.0  |   sold at 15915.0 on 2023-12-28 12:58:00 , short_ema 4857351.126787883 | long_ema 4857391.910773159 |  PnL = -1180.0\n",
      " signal time 2023-12-28 12:57:00 | price 4858500 |  on date_time 2023-12-28 12:58:00 | strike 4850000 | type : CE|  buy price 12375.0  |   sold at 10860.0 on 2023-12-28 13:00:00 , short_ema 4857580.901430307 | long_ema 4857473.991456629 |  PnL = -1515.0\n",
      " signal time 2023-12-28 12:59:00 | price 4855760 |  on date_time 2023-12-28 13:00:00 | strike 4870000 | type : PE|  buy price 17530.0  |   sold at 14100.0 on 2023-12-28 13:09:00 , short_ema 4857182.176915397 | long_ema 4857339.55371796 |  PnL = -3430.0\n",
      " signal time 2023-12-28 13:08:00 | price 4860120 |  on date_time 2023-12-28 13:09:00 | strike 4860000 | type : CE|  buy price 7765.0  |   sold at 6080.0 on 2023-12-28 13:24:00 , short_ema 4857714.916293279 | long_ema 4857379.499394 |  PnL = -1685.0\n",
      " signal time 2023-12-28 13:23:00 | price 4857805 |  on date_time 2023-12-28 13:24:00 | strike 4870000 | type : PE|  buy price 15425.0  |   sold at 14555.0 on 2023-12-28 13:26:00 , short_ema 4858286.666222161 | long_ema 4858344.963883014 |  PnL = -870.0\n",
      " signal time 2023-12-28 13:25:00 | price 4859025 |  on date_time 2023-12-28 13:26:00 | strike 4850000 | type : CE|  buy price 12855.0  |   sold at 10570.0 on 2023-12-28 13:27:00 , short_ema 4858388.466382183 | long_ema 4858371.676854436 |  PnL = -2285.0\n",
      " signal time 2023-12-28 13:26:00 | price 4854905 |  on date_time 2023-12-28 13:27:00 | strike 4870000 | type : PE|  buy price 16990.0  |   sold at 12900.0 on 2023-12-28 14:04:00 , short_ema 4857691.773105746 | long_ema 4858114.885976329 |  PnL = -4090.0\n",
      " signal time 2023-12-28 14:03:00 | price 4859075 |  on date_time 2023-12-28 14:04:00 | strike 4850000 | type : CE|  buy price 11410.0  |   sold at 5585.0 on 2023-12-28 14:15:00 , short_ema 4855646.622562995 | long_ema 4855181.663528206 |  PnL = -5825.0\n",
      " signal time 2023-12-28 14:14:00 | price 4850970 |  on date_time 2023-12-28 14:15:00 | strike 4870000 | type : PE|  buy price 20920.0  |   sold at 18100.0 on 2023-12-28 14:58:00 , short_ema 4855209.458739046 | long_ema 4855741.89605888 |  PnL = -2820.0\n",
      " signal time 2023-12-28 14:57:00 | price 4852880 |  on date_time 2023-12-28 14:58:00 | strike 4850000 | type : CE|  buy price 3910.0  |   sold at 910.0 on 2023-12-28 15:29:00 , short_ema 4849438.933490661 | long_ema 4849376.837734093 |  PnL = -3000.0\n"
     ]
    }
   ],
   "source": [
    "for i in trades:\n",
    "    print(f\" signal time {i['signal_time']} | price {i['price']} |  on date_time {i['entry_time']} | strike {i['strike']} | type : {i['type']}|  buy price {i['entry_price']}  |   sold at {i['exit_price']} on {i['exit_time']} , short_ema {i['short_ema']} | long_ema {i['long_ema']} |  PnL = {i['pnl']}\")"
   ]
  },
  {
   "cell_type": "code",
   "execution_count": 173,
   "metadata": {},
   "outputs": [],
   "source": [
    "pnl_per_day = {}\n",
    "\n",
    "for trade in trades:\n",
    "    if trade['entry_time'] not in pnl_per_day:\n",
    "        pnl_per_day[trade['entry_time']] = []\n",
    "    pnl_per_day[trade['entry_time']].append(-trade['entry_price'])\n",
    "\n",
    "    if trade['exit_time'] not in pnl_per_day:\n",
    "        pnl_per_day[trade['exit_time']] = []\n",
    "    pnl_per_day[trade['exit_time']].append(trade['exit_price'])\n",
    "\n",
    "\n",
    "net_pnl_per_day = {}\n",
    "\n",
    "for day in pnl_per_day:\n",
    "\n",
    "    net_pnl_per_day[day] = sum(pnl_per_day[day])\n",
    "    "
   ]
  },
  {
   "cell_type": "code",
   "execution_count": 174,
   "metadata": {},
   "outputs": [],
   "source": [
    "entry_per_day = {}\n",
    "exit_per_day = {}\n",
    "\n",
    "for trade in trades:\n",
    "    if trade['entry_time'] not in entry_per_day:\n",
    "        entry_per_day[trade['entry_time']] = 0.0\n",
    "    entry_per_day[trade['entry_time']] += trade['entry_price']\n",
    "\n",
    "    if trade['exit_time'] not in exit_per_day:\n",
    "        exit_per_day[trade['exit_time']] = 0.0\n",
    "    exit_per_day[trade['exit_time']] += trade['exit_price']\n"
   ]
  },
  {
   "cell_type": "code",
   "execution_count": 175,
   "metadata": {},
   "outputs": [],
   "source": [
    "percentage_pnl = {}\n",
    "\n",
    "for day in entry_per_day:\n",
    "    percentage_pnl[day] = (net_pnl_per_day[day] / entry_per_day[day]) * 100"
   ]
  },
  {
   "cell_type": "code",
   "execution_count": 176,
   "metadata": {},
   "outputs": [
    {
     "name": "stdout",
     "output_type": "stream",
     "text": [
      "0.10466410139763432\n"
     ]
    }
   ],
   "source": [
    "arr = np.array(list(percentage_pnl.values()))\n",
    "\n",
    "mean = np.mean(arr)\n",
    "\n",
    "std_dev = np.std(arr)\n",
    "\n",
    "risk_free_rate = 0.0\n",
    "\n",
    "sharpe_ratio = (mean - risk_free_rate) / std_dev\n",
    "\n",
    "print(sharpe_ratio)"
   ]
  },
  {
   "cell_type": "code",
   "execution_count": null,
   "metadata": {},
   "outputs": [],
   "source": []
  }
 ],
 "metadata": {
  "accelerator": "GPU",
  "colab": {
   "collapsed_sections": [],
   "name": "Final Phase",
   "provenance": []
  },
  "kernelspec": {
   "display_name": "Python 3 (ipykernel)",
   "language": "python",
   "name": "python3"
  },
  "language_info": {
   "codemirror_mode": {
    "name": "ipython",
    "version": 3
   },
   "file_extension": ".py",
   "mimetype": "text/x-python",
   "name": "python",
   "nbconvert_exporter": "python",
   "pygments_lexer": "ipython3",
   "version": "3.12.1"
  }
 },
 "nbformat": 4,
 "nbformat_minor": 4
}
