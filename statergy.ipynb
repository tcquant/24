{
 "cells": [
  {
   "cell_type": "code",
   "execution_count": 265,
   "metadata": {
    "colab": {
     "base_uri": "https://localhost:8080/"
    },
    "execution": {
     "iopub.execute_input": "2023-04-14T15:12:43.496606Z",
     "iopub.status.busy": "2023-04-14T15:12:43.495910Z",
     "iopub.status.idle": "2023-04-14T15:12:43.529298Z",
     "shell.execute_reply": "2023-04-14T15:12:43.528258Z",
     "shell.execute_reply.started": "2023-04-14T15:12:43.496569Z"
    },
    "id": "OeQGLkBIlWRB",
    "outputId": "b1cf5953-e30d-486f-ed78-2d4c665199f5"
   },
   "outputs": [],
   "source": [
    "import importlib\n",
    "import functions as fn\n",
    "importlib.reload(fn)\n",
    "import pandas as pd"
   ]
  },
  {
   "cell_type": "code",
   "execution_count": 140,
   "metadata": {},
   "outputs": [],
   "source": [
    "conn = psycopg2.connect(\n",
    "           dbname=\"qdap_test\",\n",
    "           user=\"amt\",\n",
    "           password=\"your_password\",\n",
    "           host=\"192.168.2.23\",\n",
    "           port=\"5432\"\n",
    "       )\n",
    "\n",
    "# Create a cursor object using the cursor() method\n",
    "cursor = conn.cursor()\n"
   ]
  },
  {
   "cell_type": "code",
   "execution_count": 141,
   "metadata": {},
   "outputs": [],
   "source": [
    "symbol = 'BANKNIFTY'  # Replace with your symbol\n",
    "expiry_future = fn.fetch_expiries(cursor, symbol)\n",
    "\n",
    "expiry_future['expiry'] = pd.to_datetime(expiry_future['expiry']).dt.date\n"
   ]
  },
  {
   "cell_type": "code",
   "execution_count": 142,
   "metadata": {},
   "outputs": [
    {
     "name": "stdout",
     "output_type": "stream",
     "text": [
      "0 = 2022-05-26 | 1 = 2022-06-30 | 2 = 2022-07-28 | 3 = 2022-08-25 | 4 = 2022-09-29 | 5 = 2022-10-27 | \n",
      "6 = 2022-11-24 | 7 = 2022-12-29 | 8 = 2023-01-25 | 9 = 2023-02-23 | 10 = 2023-03-29 | 11 = 2023-04-27 | \n",
      "12 = 2023-05-25 | 13 = 2023-06-28 | 14 = 2023-06-29 | 15 = 2023-07-27 | 16 = 2023-08-31 | 17 = 2023-09-28 | \n",
      "18 = 2023-10-26 | 19 = 2023-11-30 | 20 = 2023-12-28 | 21 = 2024-01-25 | 22 = 2024-02-29 | 23 = 2024-03-27 | \n",
      "24 = 2024-04-24 | 25 = 2024-05-29 | 26 = 2024-06-26 | 27 = 2024-07-31 | "
     ]
    }
   ],
   "source": [
    "for i, row in expiry_future.iterrows():\n",
    "    print(i, row['expiry'], sep=' = ', end=' | ')\n",
    "    if (i + 1) % 6 == 0:\n",
    "        print()"
   ]
  },
  {
   "cell_type": "code",
   "execution_count": 148,
   "metadata": {},
   "outputs": [],
   "source": [
    "index = 20\n",
    "\n",
    "# Fetch the futures data for the selected expiry date\n",
    "futures = fn.fetch_futures(cursor, symbol,expiry_future.loc[index,'expiry'])\n",
    "# Convert the 'date_timestamp' column to datetime if it exists\n",
    "if 'id' in futures.columns:\n",
    "    futures.drop(columns=['id'] , inplace=True) \n",
    "futures.drop_duplicates(inplace=True)\n"
   ]
  },
  {
   "cell_type": "code",
   "execution_count": 149,
   "metadata": {},
   "outputs": [],
   "source": [
    "fn.fill_missings(futures)"
   ]
  },
  {
   "cell_type": "code",
   "execution_count": 170,
   "metadata": {},
   "outputs": [],
   "source": [
    "fn.genrate_signals(futures)"
   ]
  },
  {
   "cell_type": "code",
   "execution_count": 180,
   "metadata": {},
   "outputs": [],
   "source": [
    "# fig = plot_signals(futures)\n",
    "\n",
    "# fig.show()"
   ]
  },
  {
   "cell_type": "code",
   "execution_count": 154,
   "metadata": {},
   "outputs": [],
   "source": [
    "options = fn.fetch_options(cursor, symbol=symbol, expiry=expiry_future.loc[index,'expiry'])"
   ]
  },
  {
   "cell_type": "code",
   "execution_count": 213,
   "metadata": {},
   "outputs": [],
   "source": [
    "calls , puts = fn.fetch_call_put(options)"
   ]
  },
  {
   "cell_type": "code",
   "execution_count": 267,
   "metadata": {},
   "outputs": [],
   "source": [
    "trades = fn.generate_trades(futures,calls,puts )\n",
    "\n",
    "# trades = fn.generate_trades_(futures,calls,puts,initial_capital=1000000)"
   ]
  },
  {
   "cell_type": "code",
   "execution_count": 268,
   "metadata": {},
   "outputs": [
    {
     "name": "stdout",
     "output_type": "stream",
     "text": [
      "282\n"
     ]
    }
   ],
   "source": [
    "print(len(trades))"
   ]
  },
  {
   "cell_type": "code",
   "execution_count": 258,
   "metadata": {},
   "outputs": [
    {
     "ename": "TypeError",
     "evalue": "list indices must be integers or slices, not str",
     "output_type": "error",
     "traceback": [
      "\u001b[1;31m---------------------------------------------------------------------------\u001b[0m",
      "\u001b[1;31mTypeError\u001b[0m                                 Traceback (most recent call last)",
      "Cell \u001b[1;32mIn[258], line 6\u001b[0m\n\u001b[0;32m      1\u001b[0m columns_to_print \u001b[38;5;241m=\u001b[39m {\n\u001b[0;32m      2\u001b[0m     \u001b[38;5;124m'\u001b[39m\u001b[38;5;124mpos\u001b[39m\u001b[38;5;124m'\u001b[39m: \u001b[38;5;241m1\u001b[39m, \u001b[38;5;124m'\u001b[39m\u001b[38;5;124msignal_time\u001b[39m\u001b[38;5;124m'\u001b[39m: \u001b[38;5;241m1\u001b[39m, \u001b[38;5;124m'\u001b[39m\u001b[38;5;124mlong_ema\u001b[39m\u001b[38;5;124m'\u001b[39m: \u001b[38;5;241m1\u001b[39m, \u001b[38;5;124m'\u001b[39m\u001b[38;5;124mshort_ema\u001b[39m\u001b[38;5;124m'\u001b[39m: \u001b[38;5;241m1\u001b[39m, \u001b[38;5;124m'\u001b[39m\u001b[38;5;124mentry_time\u001b[39m\u001b[38;5;124m'\u001b[39m: \u001b[38;5;241m1\u001b[39m,\n\u001b[0;32m      3\u001b[0m     \u001b[38;5;124m'\u001b[39m\u001b[38;5;124mstrike\u001b[39m\u001b[38;5;124m'\u001b[39m: \u001b[38;5;241m1\u001b[39m, \u001b[38;5;124m'\u001b[39m\u001b[38;5;124mentry_price\u001b[39m\u001b[38;5;124m'\u001b[39m: \u001b[38;5;241m1\u001b[39m, \u001b[38;5;124m'\u001b[39m\u001b[38;5;124mexit_time\u001b[39m\u001b[38;5;124m'\u001b[39m: \u001b[38;5;241m1\u001b[39m, \u001b[38;5;124m'\u001b[39m\u001b[38;5;124mexit_price\u001b[39m\u001b[38;5;124m'\u001b[39m: \u001b[38;5;241m1\u001b[39m, \u001b[38;5;124m'\u001b[39m\u001b[38;5;124mpnl\u001b[39m\u001b[38;5;124m'\u001b[39m: \u001b[38;5;241m1\u001b[39m,\n\u001b[0;32m      4\u001b[0m     \u001b[38;5;124m'\u001b[39m\u001b[38;5;124mtype\u001b[39m\u001b[38;5;124m'\u001b[39m: \u001b[38;5;241m1\u001b[39m, \u001b[38;5;124m'\u001b[39m\u001b[38;5;124mpnl_sum\u001b[39m\u001b[38;5;124m'\u001b[39m: \u001b[38;5;241m1\u001b[39m, \u001b[38;5;124m'\u001b[39m\u001b[38;5;124mprice\u001b[39m\u001b[38;5;124m'\u001b[39m: \u001b[38;5;241m1\u001b[39m, \u001b[38;5;124m'\u001b[39m\u001b[38;5;124mlogs\u001b[39m\u001b[38;5;124m'\u001b[39m: \u001b[38;5;241m1\u001b[39m, \u001b[38;5;124m'\u001b[39m\u001b[38;5;124mmovment\u001b[39m\u001b[38;5;124m'\u001b[39m: \u001b[38;5;241m1\u001b[39m, \u001b[38;5;124m'\u001b[39m\u001b[38;5;124msharpie_ratio\u001b[39m\u001b[38;5;124m'\u001b[39m: \u001b[38;5;241m1\u001b[39m, \u001b[38;5;124m'\u001b[39m\u001b[38;5;124mdrawdown\u001b[39m\u001b[38;5;124m'\u001b[39m: \u001b[38;5;241m1\u001b[39m\n\u001b[0;32m      5\u001b[0m }\n\u001b[1;32m----> 6\u001b[0m \u001b[43mfn\u001b[49m\u001b[38;5;241;43m.\u001b[39;49m\u001b[43mprint_trades\u001b[49m\u001b[43m(\u001b[49m\u001b[43mtrades\u001b[49m\u001b[43m,\u001b[49m\u001b[43m \u001b[49m\u001b[43mcolumns_to_print\u001b[49m\u001b[43m)\u001b[49m\n",
      "File \u001b[1;32mc:\\Users\\user1\\Documents\\24\\functions.py:646\u001b[0m, in \u001b[0;36mprint_trades\u001b[1;34m(trades, columns_to_print)\u001b[0m\n\u001b[0;32m    644\u001b[0m output \u001b[38;5;241m=\u001b[39m []\n\u001b[0;32m    645\u001b[0m \u001b[38;5;28;01mif\u001b[39;00m columns_to_print\u001b[38;5;241m.\u001b[39mget(\u001b[38;5;124m'\u001b[39m\u001b[38;5;124mpos\u001b[39m\u001b[38;5;124m'\u001b[39m, \u001b[38;5;241m0\u001b[39m):\n\u001b[1;32m--> 646\u001b[0m     output\u001b[38;5;241m.\u001b[39mappend(\u001b[38;5;124mf\u001b[39m\u001b[38;5;124m\"\u001b[39m\u001b[38;5;124mpos \u001b[39m\u001b[38;5;132;01m{\u001b[39;00m\u001b[43mtrade\u001b[49m\u001b[43m[\u001b[49m\u001b[38;5;124;43m'\u001b[39;49m\u001b[38;5;124;43mpos\u001b[39;49m\u001b[38;5;124;43m'\u001b[39;49m\u001b[43m]\u001b[49m\u001b[38;5;132;01m}\u001b[39;00m\u001b[38;5;124m\"\u001b[39m)\n\u001b[0;32m    647\u001b[0m \u001b[38;5;28;01mif\u001b[39;00m columns_to_print\u001b[38;5;241m.\u001b[39mget(\u001b[38;5;124m'\u001b[39m\u001b[38;5;124msignal_time\u001b[39m\u001b[38;5;124m'\u001b[39m, \u001b[38;5;241m0\u001b[39m):\n\u001b[0;32m    648\u001b[0m     output\u001b[38;5;241m.\u001b[39mappend(\u001b[38;5;124mf\u001b[39m\u001b[38;5;124m\"\u001b[39m\u001b[38;5;124msignal time \u001b[39m\u001b[38;5;132;01m{\u001b[39;00mtrade[\u001b[38;5;124m'\u001b[39m\u001b[38;5;124msignal_time\u001b[39m\u001b[38;5;124m'\u001b[39m]\u001b[38;5;132;01m}\u001b[39;00m\u001b[38;5;124m\"\u001b[39m)\n",
      "\u001b[1;31mTypeError\u001b[0m: list indices must be integers or slices, not str"
     ]
    }
   ],
   "source": [
    "columns_to_print = {\n",
    "    'pos': 1, 'signal_time': 1, 'long_ema': 1, 'short_ema': 1, 'entry_time': 1,\n",
    "    'strike': 1, 'entry_price': 1, 'exit_time': 1, 'exit_price': 1, 'pnl': 1,\n",
    "    'type': 1, 'pnl_sum': 1, 'price': 1, 'logs': 1, 'movment': 1, 'sharpie_ratio': 1, 'drawdown': 1\n",
    "}\n",
    "fn.print_trades(trades, columns_to_print)"
   ]
  },
  {
   "cell_type": "code",
   "execution_count": 171,
   "metadata": {},
   "outputs": [],
   "source": [
    "# fig = fn.grpah(x=[i for i in range(len(trades))] , y=[i['pnl'] for i in trades])\n"
   ]
  },
  {
   "cell_type": "code",
   "execution_count": 172,
   "metadata": {},
   "outputs": [],
   "source": [
    "# fig = fn.grpah(x=[i for i in range(len(trades))] , y=[i['pnl_sum'] for i in trades])"
   ]
  },
  {
   "cell_type": "code",
   "execution_count": null,
   "metadata": {},
   "outputs": [
    {
     "name": "stdout",
     "output_type": "stream",
     "text": [
      "173600.0\n"
     ]
    }
   ],
   "source": [
    "drawdownval = fn.drawdown(trades)\n",
    "print(drawdownval)"
   ]
  },
  {
   "cell_type": "code",
   "execution_count": null,
   "metadata": {},
   "outputs": [
    {
     "name": "stdout",
     "output_type": "stream",
     "text": [
      "sharpie ratio = 0.11523192994542368\n"
     ]
    }
   ],
   "source": [
    "print(f\"sharpie ratio = {fn.sharpie(trades)}\")"
   ]
  }
 ],
 "metadata": {
  "accelerator": "GPU",
  "colab": {
   "collapsed_sections": [],
   "name": "Final Phase",
   "provenance": []
  },
  "kernelspec": {
   "display_name": "Python 3 (ipykernel)",
   "language": "python",
   "name": "python3"
  },
  "language_info": {
   "codemirror_mode": {
    "name": "ipython",
    "version": 3
   },
   "file_extension": ".py",
   "mimetype": "text/x-python",
   "name": "python",
   "nbconvert_exporter": "python",
   "pygments_lexer": "ipython3",
   "version": "3.12.1"
  }
 },
 "nbformat": 4,
 "nbformat_minor": 4
}
