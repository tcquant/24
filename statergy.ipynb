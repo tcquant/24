{
 "cells": [
  {
   "cell_type": "code",
   "execution_count": 279,
   "metadata": {
    "colab": {
     "base_uri": "https://localhost:8080/"
    },
    "execution": {
     "iopub.execute_input": "2023-04-14T15:12:43.496606Z",
     "iopub.status.busy": "2023-04-14T15:12:43.495910Z",
     "iopub.status.idle": "2023-04-14T15:12:43.529298Z",
     "shell.execute_reply": "2023-04-14T15:12:43.528258Z",
     "shell.execute_reply.started": "2023-04-14T15:12:43.496569Z"
    },
    "id": "OeQGLkBIlWRB",
    "outputId": "b1cf5953-e30d-486f-ed78-2d4c665199f5"
   },
   "outputs": [],
   "source": [
    "import importlib\n",
    "import functions as fn\n",
    "importlib.reload(fn)\n",
    "import pandas as pd"
   ]
  },
  {
   "cell_type": "code",
   "execution_count": 140,
   "metadata": {},
   "outputs": [],
   "source": [
    "conn = psycopg2.connect(\n",
    "           dbname=\"qdap_test\",\n",
    "           user=\"amt\",\n",
    "           password=\"your_password\",\n",
    "           host=\"192.168.2.23\",\n",
    "           port=\"5432\"\n",
    "       )\n",
    "\n",
    "# Create a cursor object using the cursor() method\n",
    "cursor = conn.cursor()\n"
   ]
  },
  {
   "cell_type": "code",
   "execution_count": 141,
   "metadata": {},
   "outputs": [],
   "source": [
    "symbol = 'BANKNIFTY'  # Replace with your symbol\n",
    "expiry_future = fn.fetch_expiries(cursor, symbol)\n",
    "\n",
    "expiry_future['expiry'] = pd.to_datetime(expiry_future['expiry']).dt.date\n"
   ]
  },
  {
   "cell_type": "code",
   "execution_count": 142,
   "metadata": {},
   "outputs": [
    {
     "name": "stdout",
     "output_type": "stream",
     "text": [
      "0 = 2022-05-26 | 1 = 2022-06-30 | 2 = 2022-07-28 | 3 = 2022-08-25 | 4 = 2022-09-29 | 5 = 2022-10-27 | \n",
      "6 = 2022-11-24 | 7 = 2022-12-29 | 8 = 2023-01-25 | 9 = 2023-02-23 | 10 = 2023-03-29 | 11 = 2023-04-27 | \n",
      "12 = 2023-05-25 | 13 = 2023-06-28 | 14 = 2023-06-29 | 15 = 2023-07-27 | 16 = 2023-08-31 | 17 = 2023-09-28 | \n",
      "18 = 2023-10-26 | 19 = 2023-11-30 | 20 = 2023-12-28 | 21 = 2024-01-25 | 22 = 2024-02-29 | 23 = 2024-03-27 | \n",
      "24 = 2024-04-24 | 25 = 2024-05-29 | 26 = 2024-06-26 | 27 = 2024-07-31 | "
     ]
    }
   ],
   "source": [
    "for i, row in expiry_future.iterrows():\n",
    "    print(i, row['expiry'], sep=' = ', end=' | ')\n",
    "    if (i + 1) % 6 == 0:\n",
    "        print()"
   ]
  },
  {
   "cell_type": "code",
   "execution_count": 148,
   "metadata": {},
   "outputs": [],
   "source": [
    "index = 20\n",
    "\n",
    "# Fetch the futures data for the selected expiry date\n",
    "futures = fn.fetch_futures(cursor, symbol,expiry_future.loc[index,'expiry'])\n",
    "# Convert the 'date_timestamp' column to datetime if it exists\n",
    "if 'id' in futures.columns:\n",
    "    futures.drop(columns=['id'] , inplace=True) \n",
    "futures.drop_duplicates(inplace=True)\n"
   ]
  },
  {
   "cell_type": "code",
   "execution_count": 149,
   "metadata": {},
   "outputs": [],
   "source": [
    "fn.fill_missings(futures)"
   ]
  },
  {
   "cell_type": "code",
   "execution_count": 170,
   "metadata": {},
   "outputs": [],
   "source": [
    "fn.genrate_signals(futures)"
   ]
  },
  {
   "cell_type": "code",
   "execution_count": 180,
   "metadata": {},
   "outputs": [],
   "source": [
    "# fig = plot_signals(futures)\n",
    "\n",
    "# fig.show()"
   ]
  },
  {
   "cell_type": "code",
   "execution_count": 154,
   "metadata": {},
   "outputs": [],
   "source": [
    "options = fn.fetch_options(cursor, symbol=symbol, expiry=expiry_future.loc[index,'expiry'])"
   ]
  },
  {
   "cell_type": "code",
   "execution_count": 213,
   "metadata": {},
   "outputs": [],
   "source": [
    "calls , puts = fn.fetch_call_put(options)"
   ]
  },
  {
   "cell_type": "code",
   "execution_count": 280,
   "metadata": {},
   "outputs": [],
   "source": [
    "trades , rollover , capital  = fn.generate_trades(futures,calls,puts)\n",
    "\n",
    "# trades = fn.generate_trades_(futures,calls,puts,initial_capital=1000000)"
   ]
  },
  {
   "cell_type": "code",
   "execution_count": 281,
   "metadata": {},
   "outputs": [
    {
     "name": "stdout",
     "output_type": "stream",
     "text": [
      "282\n"
     ]
    }
   ],
   "source": [
    "print(len(trades))"
   ]
  },
  {
   "cell_type": "code",
   "execution_count": 282,
   "metadata": {},
   "outputs": [
    {
     "name": "stdout",
     "output_type": "stream",
     "text": [
      "pos 0, signal time 2023-12-01 10:37:00, long_ema 4512375.685536288, short_ema 4512317.106580559, entry time 2023-12-01 10:38:00, strike 4510000, entry price 58740.0, exit time 2023-12-01 10:40:00, exit price 58180.0, pnl 4455090.0, type PE, pnl_sum 4455090.0, price 4512700, logs [], sharpie_ratio -1.9792340223664007, drawdown 630.0\n",
      "pos 0, signal time 2023-12-01 10:39:00, long_ema 4512489.153283652, short_ema 4512635.948213403, entry time 2023-12-01 10:40:00, strike 4510000, entry price 62790.0, exit time 2023-12-01 10:43:00, exit price 60975.0, pnl 4448935.0, type CE, pnl_sum 8904025.0, price 4513830, logs [], sharpie_ratio -1.6573818914423557, drawdown 2505.0\n",
      "pos 0, signal time 2023-12-01 10:42:00, long_ema 4512401.555469098, short_ema 4512246.84548411, entry time 2023-12-01 10:43:00, strike 4510000, entry price 59150.0, exit time 2023-12-01 11:05:00, exit price 58025.0, pnl 4454860.0, type PE, pnl_sum 13358885.0, price 4511725, logs [], sharpie_ratio -0.10443996357528543, drawdown 29250.0\n",
      "pos 0, signal time 2023-12-01 11:04:00, long_ema 4511589.283792706, short_ema 4511803.437386951, entry time 2023-12-01 11:05:00, strike 4510000, entry price 62510.0, exit time 2023-12-01 11:51:00, exit price 63700.0, pnl 4451975.0, type CE, pnl_sum 17810860.0, price 4514010, logs [], sharpie_ratio 0.1340663425517168, drawdown 52130.0\n",
      "pos 0, signal time 2023-12-01 11:50:00, long_ema 4514851.888642344, short_ema 4514830.823430164, entry time 2023-12-01 11:51:00, strike 4510000, entry price 57905.0, exit time 2023-12-01 12:01:00, exit price 58345.0, pnl 4457110.0, type PE, pnl_sum 22267970.0, price 4514485, logs [], sharpie_ratio 0.032854007706235186, drawdown 28175.0\n",
      "pos 0, signal time 2023-12-01 12:00:00, long_ema 4514773.435971456, short_ema 4514833.80517367, entry time 2023-12-01 12:01:00, strike 4520000, entry price 59200.0, exit time 2023-12-01 12:03:00, exit price 58430.0, pnl 4455260.0, type CE, pnl_sum 26723230.0, price 4515015, logs [], sharpie_ratio -0.028337767617267202, drawdown 58020.0\n",
      "pos 0, signal time 2023-12-01 12:02:00, long_ema 4514732.712496778, short_ema 4514696.035311149, entry time 2023-12-01 12:03:00, strike 4510000, entry price 58490.0, exit time 2023-12-01 12:39:00, exit price 58270.0, pnl 4454655.0, type PE, pnl_sum 31177885.0, price 4514460, logs [], sharpie_ratio -0.01972198541319295, drawdown 30075.0\n",
      "pos 0, signal time 2023-12-01 12:38:00, long_ema 4511476.103270248, short_ema 4511594.985578575, entry time 2023-12-01 12:39:00, strike 4510000, entry price 61880.0, exit time 2023-12-01 12:51:00, exit price 111500.0, pnl 4448810.0, type CE, pnl_sum 35626695.0, price 4513145, logs [], sharpie_ratio 2.33377170686189, drawdown 51385.0\n",
      "pos 0, signal time 2023-12-01 12:50:00, long_ema 4511699.474404507, short_ema 4511665.892299362, entry time 2023-12-01 12:51:00, strike 4510000, entry price 59685.0, exit time 2023-12-01 13:18:00, exit price 59200.0, pnl 4451500.0, type PE, pnl_sum 40078195.0, price 4510690, logs [], sharpie_ratio -0.03847450376919453, drawdown 29950.0\n",
      "pos 0, signal time 2023-12-01 13:17:00, long_ema 4509798.120766302, short_ema 4509864.5399392005, entry time 2023-12-01 13:18:00, strike 4510000, entry price 111945.0, exit time 2023-12-01 14:08:00, exit price 60500.0, pnl 4398520.0, type CE, pnl_sum 44476715.0, price 4511185, logs [], sharpie_ratio -3.1330113957657986, drawdown 103355.0\n",
      "pos 0, signal time 2023-12-01 14:07:00, long_ema 4514621.036856677, short_ema 4513749.836806819, entry time 2023-12-01 14:08:00, strike 4510000, entry price 60905.0, exit time 2023-12-01 14:25:00, exit price 58175.0, pnl 4452505.0, type PE, pnl_sum 48929220.0, price 4510465, logs [], sharpie_ratio -0.19360311803846358, drawdown 52615.0\n",
      "pos 0, signal time 2023-12-01 14:24:00, long_ema 4512919.749689907, short_ema 4513089.298173969, entry time 2023-12-01 14:25:00, strike 4510000, entry price 86490.0, exit time 2023-12-01 14:27:00, exit price 61540.0, pnl 4426110.0, type CE, pnl_sum 53355330.0, price 4513410, logs [], sharpie_ratio -2.115181224313045, drawdown 25090.0\n",
      "pos 0, signal time 2023-12-01 14:26:00, long_ema 4512841.541229341, short_ema 4512804.75083134, entry time 2023-12-01 14:27:00, strike 4510000, entry price 58965.0, exit time 2023-12-01 15:17:00, exit price 58900.0, pnl 4449990.0, type PE, pnl_sum 57805320.0, price 4512600, logs [], sharpie_ratio -0.015373711497761924, drawdown 28940.0\n",
      "pos 0, signal time 2023-12-01 15:16:00, long_ema 4506600.693512909, short_ema 4506801.003235447, entry time 2023-12-01 15:17:00, strike 4510000, entry price 57930.0, exit time 2023-12-01 15:25:00, exit price 56960.0, pnl 4449785.0, type CE, pnl_sum 62255105.0, price 4508955, logs [], sharpie_ratio -1.4343568799875734, drawdown 2230.0\n",
      "pos 0, signal time 2023-12-01 15:24:00, long_ema 4506842.277503745, short_ema 4506825.297326178, entry time 2023-12-01 15:25:00, strike 4510000, entry price 59605.0, exit time 2023-12-01 15:26:00, exit price 57825.0, pnl 4448865.0, type PE, pnl_sum 66703970.0, price 4507715, logs [], sharpie_ratio -1.9977553310886644, drawdown 1780.0\n",
      "pos 0, signal time 2023-12-01 15:25:00, long_ema 4506906.923614578, short_ema 4507003.237860943, entry time 2023-12-01 15:26:00, strike 4510000, entry price 57185.0, exit time 2023-12-04 10:36:00, exit price 105630.0, pnl 4533595.0, type CE, pnl_sum 71237565.0, price 4508470, logs [], sharpie_ratio 2.7331324028220845, drawdown 69465.0\n",
      "pos 0, signal time 2023-12-04 10:35:00, long_ema 4593874.9396866495, short_ema 4593693.314424241, entry time 2023-12-04 10:36:00, strike 4590000, entry price 54780.0, exit time 2023-12-04 11:16:00, exit price 52535.0, pnl 4540110.0, type PE, pnl_sum 75777675.0, price 4590780, logs [], sharpie_ratio -0.23067574912333452, drawdown 46870.0\n",
      "pos 0, signal time 2023-12-04 11:15:00, long_ema 4591002.806408363, short_ema 4591281.727092921, entry time 2023-12-04 11:16:00, strike 4590000, entry price 56280.0, exit time 2023-12-04 13:49:00, exit price 76435.0, pnl 4565845.0, type CE, pnl_sum 80343520.0, price 4594890, logs [], sharpie_ratio 0.7924622449706947, drawdown 146285.0\n",
      "pos 0, signal time 2023-12-04 13:48:00, long_ema 4624006.8838647995, short_ema 4623299.14936998, entry time 2023-12-04 13:49:00, strike 4620000, entry price 58935.0, exit time 2023-12-04 13:52:00, exit price 57265.0, pnl 4565180.0, type PE, pnl_sum 84908700.0, price 4622125, logs [], sharpie_ratio -1.1784066748526005, drawdown 3985.0\n",
      "pos 0, signal time 2023-12-04 13:51:00, long_ema 4624249.9014574755, short_ema 4624385.16447743, entry time 2023-12-04 13:52:00, strike 4620000, entry price 62865.0, exit time 2023-12-04 13:55:00, exit price 61360.0, pnl 4562770.0, type CE, pnl_sum 89471470.0, price 4624115, logs [], sharpie_ratio -1.8218918714085353, drawdown 2050.0\n",
      "pos 0, signal time 2023-12-04 13:54:00, long_ema 4624183.776369103, short_ema 4624159.324212445, entry time 2023-12-04 13:55:00, strike 4630000, entry price 61265.0, exit time 2023-12-04 13:56:00, exit price 61060.0, pnl 4564040.0, type PE, pnl_sum 94035510.0, price 4625635, logs [], sharpie_ratio -1.9806763285024154, drawdown 205.0\n",
      "pos 0, signal time 2023-12-04 13:55:00, long_ema 4624291.274415836, short_ema 4624454.4593699565, entry time 2023-12-04 13:56:00, strike 4630000, entry price 56550.0, exit time 2023-12-05 10:37:00, exit price 121320.0, pnl 4660805.0, type CE, pnl_sum 98696315.0, price 4625305, logs [], sharpie_ratio 2.7409225311840664, drawdown 20460.0\n",
      "pos 0, signal time 2023-12-05 10:36:00, long_ema 4727411.871739756, short_ema 4727354.568647702, entry time 2023-12-05 10:37:00, strike 4720000, entry price 69500.0, exit time 2023-12-05 10:42:00, exit price 65200.0, pnl 4660500.0, type PE, pnl_sum 103356815.0, price 4717355, logs [], sharpie_ratio -2.3154796556972883, drawdown 4820.0\n",
      "pos 0, signal time 2023-12-05 10:41:00, long_ema 4727180.590888112, short_ema 4727590.01065448, entry time 2023-12-05 10:42:00, strike 4730000, entry price 71635.0, exit time 2023-12-05 10:50:00, exit price 68045.0, pnl 4652515.0, type CE, pnl_sum 108009330.0, price 4730000, logs [], sharpie_ratio -1.94367944019743, drawdown 6300.0\n",
      "pos 0, signal time 2023-12-05 10:49:00, long_ema 4727253.5272552315, short_ema 4727233.074145926, entry time 2023-12-05 10:50:00, strike 4720000, entry price 67345.0, exit time 2023-12-05 10:59:00, exit price 67285.0, pnl 4661410.0, type PE, pnl_sum 112670740.0, price 4724150, logs [], sharpie_ratio -0.0683734015117787, drawdown 2590.0\n",
      "pos 0, signal time 2023-12-05 10:58:00, long_ema 4726505.978276853, short_ema 4726512.814573523, entry time 2023-12-05 10:59:00, strike 4730000, entry price 71675.0, exit time 2023-12-05 11:11:00, exit price 65840.0, pnl 4647590.0, type CE, pnl_sum 117318330.0, price 4728755, logs [], sharpie_ratio -2.7327528014186573, drawdown 6470.0\n",
      "pos 0, signal time 2023-12-05 11:10:00, long_ema 4726668.06481614, short_ema 4725752.612694378, entry time 2023-12-05 11:11:00, strike 4720000, entry price 70060.0, exit time 2023-12-05 11:59:00, exit price 76535.0, pnl 4631645.0, type PE, pnl_sum 121949975.0, price 4719265, logs [], sharpie_ratio 0.7282295006551432, drawdown 50085.0\n",
      "pos 0, signal time 2023-12-05 11:58:00, long_ema 4694955.871689471, short_ema 4695013.3143842695, entry time 2023-12-05 11:59:00, strike 4700000, entry price 67625.0, exit time 2023-12-05 12:39:00, exit price 65515.0, pnl 4633430.0, type CE, pnl_sum 126583405.0, price 4701705, logs [], sharpie_ratio -1.2311610209942392, drawdown 8265.0\n",
      "pos 0, signal time 2023-12-05 12:38:00, long_ema 4700269.398531708, short_ema 4699966.452093389, entry time 2023-12-05 12:39:00, strike 4700000, entry price 66220.0, exit time 2023-12-05 12:49:00, exit price 60555.0, pnl 4643135.0, type PE, pnl_sum 131226540.0, price 4701055, logs [], sharpie_ratio -3.8351440016332594, drawdown 5665.0\n",
      "pos 0, signal time 2023-12-05 12:48:00, long_ema 4700260.16576635, short_ema 4700401.426200605, entry time 2023-12-05 12:49:00, strike 4710000, entry price 61845.0, exit time 2023-12-05 14:00:00, exit price 65045.0, pnl 4651130.0, type CE, pnl_sum 135877670.0, price 4709355, logs [], sharpie_ratio 0.8453104091647233, drawdown 29275.0\n",
      "pos 0, signal time 2023-12-05 13:59:00, long_ema 4717869.339328687, short_ema 4717203.333560912, entry time 2023-12-05 14:00:00, strike 4710000, entry price 62625.0, exit time 2023-12-05 14:32:00, exit price 61330.0, pnl 4653645.0, type PE, pnl_sum 140531315.0, price 4712975, logs [], sharpie_ratio -0.9245872710027216, drawdown 5690.0\n",
      "pos 0, signal time 2023-12-05 14:31:00, long_ema 4711611.0518336035, short_ema 4711920.29801676, entry time 2023-12-05 14:32:00, strike 4720000, entry price 61630.0, exit time 2023-12-05 14:56:00, exit price 61075.0, pnl 4651685.0, type CE, pnl_sum 145183000.0, price 4716270, logs [], sharpie_ratio -0.607742699043761, drawdown 4120.0\n",
      "pos 0, signal time 2023-12-05 14:55:00, long_ema 4713938.545252719, short_ema 4713544.769321227, entry time 2023-12-05 14:56:00, strike 4710000, entry price 64220.0, exit time 2023-12-05 15:06:00, exit price 58665.0, pnl 4656525.0, type PE, pnl_sum 149839525.0, price 4713315, logs [], sharpie_ratio -3.4588773552111824, drawdown 5555.0\n",
      "pos 0, signal time 2023-12-05 15:05:00, long_ema 4714002.825115507, short_ema 4714426.039723089, entry time 2023-12-05 15:06:00, strike 4720000, entry price 62290.0, exit time 2023-12-05 15:20:00, exit price 61825.0, pnl 4652290.0, type CE, pnl_sum 154491815.0, price 4720745, logs [], sharpie_ratio -0.5816985708760459, drawdown 2925.0\n",
      "pos 0, signal time 2023-12-05 15:19:00, long_ema 4715294.92976621, short_ema 4715256.902410551, entry time 2023-12-05 15:20:00, strike 4710000, entry price 61600.0, exit time 2023-12-06 09:16:00, exit price 52480.0, pnl 4671720.0, type PE, pnl_sum 159163535.0, price 4714580, logs [], sharpie_ratio -2.643278856603549, drawdown 9690.0\n",
      "pos 0, signal time 2023-12-06 09:15:00, long_ema 4716278.404380675, short_ema 4718402.087066383, entry time 2023-12-06 09:16:00, strike 4730000, entry price 64995.0, exit time 2023-12-06 09:28:00, exit price 56275.0, pnl 4648005.0, type CE, pnl_sum 163811540.0, price 4733320, logs [], sharpie_ratio -3.2854086345932303, drawdown 9375.0\n",
      "pos 0, signal time 2023-12-06 09:27:00, long_ema 4718917.522874188, short_ema 4718173.107105664, entry time 2023-12-06 09:28:00, strike 4710000, entry price 63050.0, exit time 2023-12-06 10:46:00, exit price 71400.0, pnl 4631395.0, type PE, pnl_sum 168442935.0, price 4713000, logs [], sharpie_ratio 1.6356618085273307, drawdown 26785.0\n",
      "pos 0, signal time 2023-12-06 10:45:00, long_ema 4690862.608599202, short_ema 4691159.315643563, entry time 2023-12-06 10:46:00, strike 4690000, entry price 64240.0, exit time 2023-12-06 11:18:00, exit price 65960.0, pnl 4632225.0, type CE, pnl_sum 173075160.0, price 4694445, logs [], sharpie_ratio 0.9324208563488182, drawdown 5065.0\n",
      "pos 0, signal time 2023-12-06 11:17:00, long_ema 4699042.557438976, short_ema 4698980.726083274, entry time 2023-12-06 11:18:00, strike 4700000, entry price 63800.0, exit time 2023-12-06 11:26:00, exit price 61935.0, pnl 4638700.0, type PE, pnl_sum 177713860.0, price 4696465, logs [], sharpie_ratio -1.5379049872443031, drawdown 4260.0\n",
      "pos 0, signal time 2023-12-06 11:25:00, long_ema 4698629.879513976, short_ema 4698815.4422389595, entry time 2023-12-06 11:26:00, strike 4700000, entry price 62900.0, exit time 2023-12-06 11:47:00, exit price 62000.0, pnl 4636255.0, type CE, pnl_sum 182350115.0, price 4702500, logs [], sharpie_ratio -1.6961216662288554, drawdown 1760.0\n",
      "pos 0, signal time 2023-12-06 11:46:00, long_ema 4699989.800155468, short_ema 4699874.513559869, entry time 2023-12-06 11:47:00, strike 4700000, entry price 62990.0, exit time 2023-12-06 12:01:00, exit price 61620.0, pnl 4637505.0, type PE, pnl_sum 186987620.0, price 4699155, logs [], sharpie_ratio -2.353994046494039, drawdown 1795.0\n",
      "pos 0, signal time 2023-12-06 12:00:00, long_ema 4699246.106747093, short_ema 4699307.802153656, entry time 2023-12-06 12:01:00, strike 4700000, entry price 61730.0, exit time 2023-12-06 12:26:00, exit price 59680.0, pnl 4635170.0, type CE, pnl_sum 191622790.0, price 4700495, logs [], sharpie_ratio -2.573140272859479, drawdown 3590.0\n",
      "pos 0, signal time 2023-12-06 12:25:00, long_ema 4701490.80484908, short_ema 4701297.193549393, entry time 2023-12-06 12:26:00, strike 4700000, entry price 61425.0, exit time 2023-12-06 13:35:00, exit price 64850.0, pnl 4632075.0, type PE, pnl_sum 196254865.0, price 4696900, logs [], sharpie_ratio 2.574138344578107, drawdown 3135.0\n",
      "pos 0, signal time 2023-12-06 13:34:00, long_ema 4691420.432478242, short_ema 4691674.072156584, entry time 2023-12-06 13:35:00, strike 4690000, entry price 62860.0, exit time 2023-12-06 14:15:00, exit price 63500.0, pnl 4633180.0, type CE, pnl_sum 200888045.0, price 4693500, logs [], sharpie_ratio 0.6954989588265723, drawdown 3145.0\n",
      "pos 0, signal time 2023-12-06 14:14:00, long_ema 4697002.452900442, short_ema 4696983.667015695, entry time 2023-12-06 14:15:00, strike 4700000, entry price 62640.0, exit time 2023-12-06 14:22:00, exit price 62850.0, pnl 4634500.0, type PE, pnl_sum 205522545.0, price 4696040, logs [], sharpie_ratio 0.6980912819464881, drawdown 745.0\n",
      "pos 0, signal time 2023-12-06 14:21:00, long_ema 4696974.375240929, short_ema 4697115.5710769305, entry time 2023-12-06 14:22:00, strike 4700000, entry price 59475.0, exit time 2023-12-06 14:25:00, exit price 57640.0, pnl 4633945.0, type CE, pnl_sum 210156490.0, price 4697140, logs [], sharpie_ratio -2.685628743093145, drawdown 1835.0\n",
      "pos 0, signal time 2023-12-06 14:24:00, long_ema 4696868.521726338, short_ema 4696756.292391389, entry time 2023-12-06 14:25:00, strike 4690000, entry price 58425.0, exit time 2023-12-06 14:36:00, exit price 56745.0, pnl 4640440.0, type PE, pnl_sum 214796930.0, price 4693420, logs [], sharpie_ratio -0.10690561939366894, drawdown 58450.0\n",
      "pos 0, signal time 2023-12-06 14:35:00, long_ema 4696160.979488918, short_ema 4696215.0259004915, entry time 2023-12-06 14:36:00, strike 4700000, entry price 59020.0, exit time 2023-12-06 15:01:00, exit price 56805.0, pnl 4633480.0, type CE, pnl_sum 219430410.0, price 4698865, logs [], sharpie_ratio -1.9384887989260635, drawdown 5615.0\n",
      "pos 0, signal time 2023-12-06 15:00:00, long_ema 4699313.95056489, short_ema 4698885.855288407, entry time 2023-12-06 15:01:00, strike 4690000, entry price 57950.0, exit time 2023-12-07 09:40:00, exit price 66285.0, pnl 4618710.0, type PE, pnl_sum 224049120.0, price 4692500, logs [], sharpie_ratio 1.6023118375940721, drawdown 9925.0\n",
      "pos 0, signal time 2023-12-07 09:39:00, long_ema 4676246.481847964, short_ema 4676389.018372872, entry time 2023-12-07 09:40:00, strike 4680000, entry price 60000.0, exit time 2023-12-07 09:46:00, exit price 55500.0, pnl 4614500.0, type CE, pnl_sum 228663620.0, price 4676660, logs [], sharpie_ratio -2.7633403324320636, drawdown 4895.0\n",
      "pos 0, signal time 2023-12-07 09:45:00, long_ema 4676415.780602954, short_ema 4676329.978192339, entry time 2023-12-07 09:46:00, strike 4670000, entry price 56900.0, exit time 2023-12-07 09:54:00, exit price 53040.0, pnl 4625055.0, type PE, pnl_sum 233288675.0, price 4674500, logs [], sharpie_ratio -2.945394164080725, drawdown 3860.0\n",
      "pos 0, signal time 2023-12-07 09:53:00, long_ema 4676339.401355808, short_ema 4676627.353474083, entry time 2023-12-07 09:54:00, strike 4680000, entry price 57695.0, exit time 2023-12-07 10:04:00, exit price 55095.0, pnl 4617900.0, type CE, pnl_sum 237906575.0, price 4681955, logs [], sharpie_ratio -2.4311292436492153, drawdown 3325.0\n",
      "pos 0, signal time 2023-12-07 10:03:00, long_ema 4676916.805410156, short_ema 4676691.819616404, entry time 2023-12-07 10:04:00, strike 4680000, entry price 61120.0, exit time 2023-12-07 10:23:00, exit price 57900.0, pnl 4618780.0, type PE, pnl_sum 242525355.0, price 4675595, logs [], sharpie_ratio -3.1754965177198184, drawdown 4200.0\n",
      "pos 0, signal time 2023-12-07 10:22:00, long_ema 4675686.798315408, short_ema 4675932.82659008, entry time 2023-12-07 10:23:00, strike 4680000, entry price 55955.0, exit time 2023-12-07 11:30:00, exit price 65960.0, pnl 4640265.0, type CE, pnl_sum 247165620.0, price 4679900, logs [], sharpie_ratio 1.6790582959406832, drawdown 9000.0\n",
      "pos 0, signal time 2023-12-07 11:29:00, long_ema 4700779.456411831, short_ema 4700447.888195684, entry time 2023-12-07 11:30:00, strike 4700000, entry price 60780.0, exit time 2023-12-07 11:47:00, exit price 59790.0, pnl 4637340.0, type PE, pnl_sum 251802960.0, price 4696220, logs [], sharpie_ratio -1.3007847476407877, drawdown 2485.0\n",
      "pos 0, signal time 2023-12-07 11:46:00, long_ema 4699033.141775693, short_ema 4699050.995303266, entry time 2023-12-07 11:47:00, strike 4700000, entry price 57740.0, exit time 2023-12-07 11:48:00, exit price 57245.0, pnl 4641025.0, type CE, pnl_sum 256443985.0, price 4698120, logs [], sharpie_ratio -1.9919517102615694, drawdown 495.0\n",
      "pos 0, signal time 2023-12-07 11:47:00, long_ema 4698965.50164416, short_ema 4698864.796242612, entry time 2023-12-07 11:48:00, strike 4700000, entry price 59790.0, exit time 2023-12-07 11:52:00, exit price 59015.0, pnl 4640690.0, type PE, pnl_sum 261084675.0, price 4698765, logs [], sharpie_ratio -1.024890795835583, drawdown 2215.0\n",
      "pos 0, signal time 2023-12-07 11:51:00, long_ema 4699066.156129749, short_ema 4699286.156540974, entry time 2023-12-07 11:52:00, strike 4700000, entry price 59660.0, exit time 2023-12-07 12:21:00, exit price 58765.0, pnl 4641615.0, type CE, pnl_sum 265726290.0, price 4700480, logs [], sharpie_ratio -1.2476694305934095, drawdown 2440.0\n",
      "pos 0, signal time 2023-12-07 12:20:00, long_ema 4701180.2680650735, short_ema 4701150.00341986, entry time 2023-12-07 12:21:00, strike 4700000, entry price 58895.0, exit time 2023-12-07 12:39:00, exit price 56800.0, pnl 4644105.0, type PE, pnl_sum 270370395.0, price 4701275, logs [], sharpie_ratio -2.99988681117905, drawdown 2625.0\n",
      "pos 0, signal time 2023-12-07 12:38:00, long_ema 4700444.637471889, short_ema 4700569.348212982, entry time 2023-12-07 12:39:00, strike 4700000, entry price 59600.0, exit time 2023-12-07 13:06:00, exit price 58780.0, pnl 4642310.0, type CE, pnl_sum 275012705.0, price 4703000, logs [], sharpie_ratio -1.3247577939600932, drawdown 3160.0\n",
      "pos 0, signal time 2023-12-07 13:05:00, long_ema 4702134.778118432, short_ema 4702020.0539933285, entry time 2023-12-07 13:06:00, strike 4700000, entry price 58585.0, exit time 2023-12-07 13:13:00, exit price 56765.0, pnl 4645080.0, type PE, pnl_sum 279657785.0, price 4701910, logs [], sharpie_ratio -3.546631389444116, drawdown 1820.0\n",
      "pos 0, signal time 2023-12-07 13:12:00, long_ema 4702128.490816779, short_ema 4702166.373435223, entry time 2023-12-07 13:13:00, strike 4700000, entry price 59640.0, exit time 2023-12-07 13:21:00, exit price 59830.0, pnl 4643715.0, type CE, pnl_sum 284301500.0, price 4703665, logs [], sharpie_ratio 0.5580977211975798, drawdown 1035.0\n",
      "pos 0, signal time 2023-12-07 13:20:00, long_ema 4702192.482291561, short_ema 4702145.104472195, entry time 2023-12-07 13:21:00, strike 4700000, entry price 57570.0, exit time 2023-12-07 13:22:00, exit price 57310.0, pnl 4644520.0, type PE, pnl_sum 288946020.0, price 4703355, logs [], sharpie_ratio -1.984732824427481, drawdown 260.0\n",
      "pos 0, signal time 2023-12-07 13:21:00, long_ema 4702278.594714408, short_ema 4702387.083577756, entry time 2023-12-07 13:22:00, strike 4700000, entry price 59375.0, exit time 2023-12-07 13:52:00, exit price 60380.0, pnl 4644615.0, type CE, pnl_sum 293590635.0, price 4702090, logs [], sharpie_ratio 0.7374375779974377, drawdown 4865.0\n",
      "pos 0, signal time 2023-12-07 13:51:00, long_ema 4705413.663914335, short_ema 4705362.406841074, entry time 2023-12-07 13:52:00, strike 4700000, entry price 56700.0, exit time 2023-12-07 14:03:00, exit price 55500.0, pnl 4648775.0, type PE, pnl_sum 298239410.0, price 4703990, logs [], sharpie_ratio -2.5588522113047247, drawdown 1390.0\n",
      "pos 0, signal time 2023-12-07 14:02:00, long_ema 4705071.319779765, short_ema 4705145.414071873, entry time 2023-12-07 14:03:00, strike 4710000, entry price 56195.0, exit time 2023-12-07 14:13:00, exit price 52945.0, pnl 4643635.0, type CE, pnl_sum 302883045.0, price 4705475, logs [], sharpie_ratio -0.374401714437446, drawdown 33005.0\n",
      "pos 0, signal time 2023-12-07 14:12:00, long_ema 4705010.15635198, short_ema 4703990.823895638, entry time 2023-12-07 14:13:00, strike 4700000, entry price 58975.0, exit time 2023-12-07 14:29:00, exit price 55295.0, pnl 4646525.0, type PE, pnl_sum 307529570.0, price 4699830, logs [], sharpie_ratio -3.627033873507234, drawdown 3680.0\n",
      "pos 0, signal time 2023-12-07 14:28:00, long_ema 4703313.611931151, short_ema 4703403.643648502, entry time 2023-12-07 14:29:00, strike 4710000, entry price 55310.0, exit time 2023-12-07 14:48:00, exit price 54075.0, pnl 4646860.0, type CE, pnl_sum 312176430.0, price 4705500, logs [], sharpie_ratio -0.12051422960295437, drawdown 48675.0\n",
      "pos 0, signal time 2023-12-07 14:47:00, long_ema 4705157.002275538, short_ema 4704963.518284294, entry time 2023-12-07 14:48:00, strike 4700000, entry price 56605.0, exit time 2023-12-07 15:20:00, exit price 56400.0, pnl 4647895.0, type PE, pnl_sum 316824325.0, price 4702170, logs [], sharpie_ratio -0.3124394355459574, drawdown 2400.0\n",
      "pos 0, signal time 2023-12-07 15:19:00, long_ema 4702661.759242938, short_ema 4702782.969502484, entry time 2023-12-07 15:20:00, strike 4700000, entry price 59945.0, exit time 2023-12-08 09:21:00, exit price 58550.0, pnl 4642390.0, type CE, pnl_sum 321466715.0, price 4704500, logs [], sharpie_ratio -0.9466075568089238, drawdown 4670.0\n",
      "pos 0, signal time 2023-12-08 09:20:00, long_ema 4705134.504275508, short_ema 4705045.123331013, entry time 2023-12-08 09:21:00, strike 4700000, entry price 57750.0, exit time 2023-12-08 09:25:00, exit price 53060.0, pnl 4653110.0, type PE, pnl_sum 326119825.0, price 4702335, logs [], sharpie_ratio -2.451190296423704, drawdown 4690.0\n",
      "pos 0, signal time 2023-12-08 09:24:00, long_ema 4704952.7872945815, short_ema 4704968.946516383, entry time 2023-12-08 09:25:00, strike 4710000, entry price 56925.0, exit time 2023-12-08 10:24:00, exit price 61635.0, pnl 4662205.0, type CE, pnl_sum 330782030.0, price 4710860, logs [], sharpie_ratio 1.6010299012769953, drawdown 6720.0\n",
      "pos 0, signal time 2023-12-08 10:23:00, long_ema 4718922.067853539, short_ema 4718908.565829831, entry time 2023-12-08 10:24:00, strike 4720000, entry price 58605.0, exit time 2023-12-08 10:25:00, exit price 57935.0, pnl 4660215.0, type PE, pnl_sum 335442245.0, price 4719130, logs [], sharpie_ratio -1.994047619047619, drawdown 670.0\n",
      "pos 0, signal time 2023-12-08 10:24:00, long_ema 4718937.470234759, short_ema 4718952.852663865, entry time 2023-12-08 10:25:00, strike 4720000, entry price 56465.0, exit time 2023-12-08 10:26:00, exit price 55500.0, pnl 4660935.0, type CE, pnl_sum 340103180.0, price 4718820, logs [], sharpie_ratio -1.9958634953464323, drawdown 965.0\n",
      "pos 0, signal time 2023-12-08 10:25:00, long_ema 4718928.768735888, short_ema 4718926.282131093, entry time 2023-12-08 10:26:00, strike 4720000, entry price 57665.0, exit time 2023-12-08 10:30:00, exit price 53125.0, pnl 4670175.0, type PE, pnl_sum 344773355.0, price 4717400, logs [], sharpie_ratio -1.8684338419529942, drawdown 5675.0\n",
      "pos 0, signal time 2023-12-08 10:29:00, long_ema 4719437.383185445, short_ema 4720452.845160897, entry time 2023-12-08 10:30:00, strike 4730000, entry price 55460.0, exit time 2023-12-08 10:58:00, exit price 51940.0, pnl 4665755.0, type CE, pnl_sum 349439110.0, price 4727840, logs [], sharpie_ratio -3.3252940226521512, drawdown 3980.0\n",
      "pos 0, signal time 2023-12-08 10:57:00, long_ema 4723551.682753056, short_ema 4723321.883601501, entry time 2023-12-08 10:58:00, strike 4720000, entry price 55290.0, exit time 2023-12-08 11:17:00, exit price 53920.0, pnl 4668710.0, type PE, pnl_sum 354107820.0, price 4721215, logs [], sharpie_ratio -0.4086842450842547, drawdown 11295.0\n",
      "pos 0, signal time 2023-12-08 11:16:00, long_ema 4717253.967649426, short_ema 4718195.549594831, entry time 2023-12-08 11:17:00, strike 4720000, entry price 58080.0, exit time 2023-12-08 11:46:00, exit price 56400.0, pnl 4663145.0, type CE, pnl_sum 358770965.0, price 4724000, logs [], sharpie_ratio -2.5232018385862394, drawdown 2790.0\n",
      "pos 0, signal time 2023-12-08 11:45:00, long_ema 4722338.476461749, short_ema 4722336.254854169, entry time 2023-12-08 11:46:00, strike 4720000, entry price 54950.0, exit time 2023-12-08 13:19:00, exit price 60595.0, pnl 4654605.0, type PE, pnl_sum 363425570.0, price 4721225, logs [], sharpie_ratio 0.7250361685133291, drawdown 55305.0\n",
      "pos 0, signal time 2023-12-08 13:18:00, long_ema 4707346.396909284, short_ema 4707885.336742453, entry time 2023-12-08 13:19:00, strike 4710000, entry price 55350.0, exit time 2023-12-08 13:44:00, exit price 52180.0, pnl 4649150.0, type CE, pnl_sum 368074720.0, price 4709555, logs [], sharpie_ratio -2.3783273831847294, drawdown 5960.0\n",
      "pos 0, signal time 2023-12-08 13:43:00, long_ema 4709769.752317454, short_ema 4709687.3001497425, entry time 2023-12-08 13:44:00, strike 4700000, entry price 51200.0, exit time 2023-12-08 13:54:00, exit price 50460.0, pnl 4657405.0, type PE, pnl_sum 372732125.0, price 4704500, logs [], sharpie_ratio -0.9071760614168017, drawdown 2710.0\n",
      "pos 0, signal time 2023-12-08 13:53:00, long_ema 4708935.553276694, short_ema 4709030.421518522, entry time 2023-12-08 13:54:00, strike 4710000, entry price 54225.0, exit time 2023-12-08 13:56:00, exit price 54130.0, pnl 4654775.0, type CE, pnl_sum 377386900.0, price 4708605, logs [], sharpie_ratio -1.3097869646954576, drawdown 175.0\n",
      "pos 0, signal time 2023-12-08 13:55:00, long_ema 4708888.025785918, short_ema 4708876.269771854, entry time 2023-12-08 13:56:00, strike 4710000, entry price 55580.0, exit time 2023-12-08 13:57:00, exit price 56055.0, pnl 4652075.0, type PE, pnl_sum 382038975.0, price 4709000, logs [], sharpie_ratio 1.9916142557651992, drawdown 0.0\n",
      "pos 0, signal time 2023-12-08 13:56:00, long_ema 4708896.320172146, short_ema 4708901.015817484, entry time 2023-12-08 13:57:00, strike 4710000, entry price 54000.0, exit time 2023-12-08 13:58:00, exit price 54485.0, pnl 4655560.0, type CE, pnl_sum 386694535.0, price 4707655, logs [], sharpie_ratio 1.9917864476386038, drawdown 0.0\n",
      "pos 0, signal time 2023-12-08 13:57:00, long_ema 4708804.370529764, short_ema 4708651.812653988, entry time 2023-12-08 13:58:00, strike 4710000, entry price 55450.0, exit time 2023-12-08 14:01:00, exit price 54640.0, pnl 4655040.0, type PE, pnl_sum 391349575.0, price 4709560, logs [], sharpie_ratio -2.5863940763515476, drawdown 810.0\n",
      "pos 0, signal time 2023-12-08 14:00:00, long_ema 4708939.306484152, short_ema 4709065.408078842, entry time 2023-12-08 14:01:00, strike 4710000, entry price 54655.0, exit time 2023-12-11 09:29:00, exit price 73165.0, pnl 4687845.0, type CE, pnl_sum 396037420.0, price 4710490, logs [], sharpie_ratio 1.6994226077896686, drawdown 31135.0\n",
      "pos 0, signal time 2023-12-11 09:28:00, long_ema 4754490.111975638, short_ema 4753790.708943317, entry time 2023-12-11 09:29:00, strike 4740000, entry price 53120.0, exit time 2023-12-11 09:39:00, exit price 47290.0, pnl 4704245.0, type PE, pnl_sum 400741665.0, price 4742500, logs [], sharpie_ratio -1.973972926167797, drawdown 10110.0\n",
      "pos 0, signal time 2023-12-11 09:38:00, long_ema 4752304.274329836, short_ema 4752406.2441211855, entry time 2023-12-11 09:39:00, strike 4760000, entry price 52635.0, exit time 2023-12-11 09:46:00, exit price 50235.0, pnl 4699355.0, type CE, pnl_sum 405441020.0, price 4757365, logs [], sharpie_ratio -2.660541328544531, drawdown 2595.0\n",
      "pos 0, signal time 2023-12-11 09:45:00, long_ema 4752695.791040625, short_ema 4752607.907119124, entry time 2023-12-11 09:46:00, strike 4750000, entry price 54630.0, exit time 2023-12-11 09:49:00, exit price 53460.0, pnl 4698875.0, type PE, pnl_sum 410139895.0, price 4751990, logs [], sharpie_ratio -2.3714305607839443, drawdown 1205.0\n",
      "pos 0, signal time 2023-12-11 09:48:00, long_ema 4752757.728243141, short_ema 4752841.168444992, entry time 2023-12-11 09:49:00, strike 4750000, entry price 57075.0, exit time 2023-12-11 10:41:00, exit price 55805.0, pnl 4695035.0, type CE, pnl_sum 414834930.0, price 4753505, logs [], sharpie_ratio -0.26798441114614696, drawdown 14190.0\n",
      "pos 0, signal time 2023-12-11 10:40:00, long_ema 4767419.5843484765, short_ema 4766251.394207785, entry time 2023-12-11 10:41:00, strike 4750000, entry price 53000.0, exit time 2023-12-11 11:17:00, exit price 53500.0, pnl 4702275.0, type PE, pnl_sum 419537205.0, price 4752110, logs [], sharpie_ratio 0.342944159159526, drawdown 6680.0\n",
      "pos 0, signal time 2023-12-11 11:16:00, long_ema 4753423.090851261, short_ema 4753527.493401109, entry time 2023-12-11 11:17:00, strike 4760000, entry price 53550.0, exit time 2023-12-11 11:22:00, exit price 51880.0, pnl 4699450.0, type CE, pnl_sum 424236655.0, price 4755275, logs [], sharpie_ratio -1.5649312686407435, drawdown 2735.0\n",
      "pos 0, signal time 2023-12-11 11:21:00, long_ema 4753374.575856849, short_ema 4753105.745037676, entry time 2023-12-11 11:22:00, strike 4750000, entry price 54805.0, exit time 2023-12-11 11:25:00, exit price 54535.0, pnl 4697630.0, type PE, pnl_sum 428934285.0, price 4753000, logs [], sharpie_ratio -0.48161889133797714, drawdown 1485.0\n",
      "pos 0, signal time 2023-12-11 11:24:00, long_ema 4753452.521859638, short_ema 4753471.341459291, entry time 2023-12-11 11:25:00, strike 4750000, entry price 57835.0, exit time 2023-12-11 11:26:00, exit price 57500.0, pnl 4695665.0, type CE, pnl_sum 433629950.0, price 4752435, logs [], sharpie_ratio -1.9881305637982196, drawdown 335.0\n",
      "pos 0, signal time 2023-12-11 11:25:00, long_ema 4753377.149870036, short_ema 4753264.073167433, entry time 2023-12-11 11:26:00, strike 4750000, entry price 54875.0, exit time 2023-12-11 11:36:00, exit price 54320.0, pnl 4697880.0, type PE, pnl_sum 438327830.0, price 4753500, logs [], sharpie_ratio -1.1893625837418453, drawdown 1660.0\n",
      "pos 0, signal time 2023-12-11 11:35:00, long_ema 4753356.7941086665, short_ema 4753456.898947648, entry time 2023-12-11 11:36:00, strike 4750000, entry price 57585.0, exit time 2023-12-11 11:38:00, exit price 56460.0, pnl 4693935.0, type CE, pnl_sum 443021765.0, price 4752755, logs [], sharpie_ratio -2.1266989031112784, drawdown 1125.0\n",
      "pos 0, signal time 2023-12-11 11:37:00, long_ema 4753143.163673411, short_ema 4752859.215326495, entry time 2023-12-11 11:38:00, strike 4750000, entry price 55020.0, exit time 2023-12-11 11:47:00, exit price 53995.0, pnl 4698180.0, type PE, pnl_sum 447719945.0, price 4751520, logs [], sharpie_ratio -0.891316152522837, drawdown 3390.0\n",
      "pos 0, signal time 2023-12-11 11:46:00, long_ema 4752472.746134787, short_ema 4752527.451833626, entry time 2023-12-11 11:47:00, strike 4750000, entry price 57425.0, exit time 2023-12-11 11:50:00, exit price 56990.0, pnl 4695385.0, type CE, pnl_sum 452415330.0, price 4753200, logs [], sharpie_ratio -1.2001190619460094, drawdown 920.0\n",
      "pos 0, signal time 2023-12-11 11:49:00, long_ema 4752432.60012986, short_ema 4752372.655338817, entry time 2023-12-11 11:50:00, strike 4750000, entry price 54600.0, exit time 2023-12-11 12:00:00, exit price 53705.0, pnl 4700255.0, type PE, pnl_sum 457115585.0, price 4752810, logs [], sharpie_ratio -1.221990611775455, drawdown 2220.0\n",
      "pos 0, signal time 2023-12-11 11:59:00, long_ema 4752198.019636302, short_ema 4752406.84196706, entry time 2023-12-11 12:00:00, strike 4750000, entry price 57755.0, exit time 2023-12-11 12:18:00, exit price 56020.0, pnl 4693620.0, type CE, pnl_sum 461809205.0, price 4754855, logs [], sharpie_ratio -2.657561362271573, drawdown 2715.0\n",
      "pos 0, signal time 2023-12-11 12:17:00, long_ema 4753470.05208711, short_ema 4753376.050705786, entry time 2023-12-11 12:18:00, strike 4750000, entry price 54690.0, exit time 2023-12-11 12:43:00, exit price 54965.0, pnl 4696320.0, type PE, pnl_sum 466505525.0, price 4751375, logs [], sharpie_ratio 0.41241852766678117, drawdown 2560.0\n",
      "pos 0, signal time 2023-12-11 12:42:00, long_ema 4751648.812309319, short_ema 4751651.937602019, entry time 2023-12-11 12:43:00, strike 4750000, entry price 56380.0, exit time 2023-12-11 12:44:00, exit price 56990.0, pnl 4696125.0, type CE, pnl_sum 471201650.0, price 4751010, logs [], sharpie_ratio 1.9934640522875817, drawdown 0.0\n",
      "pos 0, signal time 2023-12-11 12:43:00, long_ema 4751601.492879, short_ema 4751523.550081615, entry time 2023-12-11 12:44:00, strike 4750000, entry price 54720.0, exit time 2023-12-11 12:45:00, exit price 54025.0, pnl 4697585.0, type PE, pnl_sum 475899235.0, price 4752505, logs [], sharpie_ratio -1.994261119081779, drawdown 695.0\n",
      "pos 0, signal time 2023-12-11 12:44:00, long_ema 4751668.419332407, short_ema 4751719.840065292, entry time 2023-12-11 12:45:00, strike 4750000, entry price 56990.0, exit time 2023-12-11 12:53:00, exit price 56400.0, pnl 4694510.0, type CE, pnl_sum 480593745.0, price 4752305, logs [], sharpie_ratio -1.109655378679114, drawdown 1780.0\n",
      "pos 0, signal time 2023-12-11 12:52:00, long_ema 4751781.900465228, short_ema 4751652.211029809, entry time 2023-12-11 12:53:00, strike 4750000, entry price 55100.0, exit time 2023-12-11 13:00:00, exit price 54155.0, pnl 4697930.0, type PE, pnl_sum 485291675.0, price 4751500, logs [], sharpie_ratio -1.695405808881276, drawdown 1430.0\n",
      "pos 0, signal time 2023-12-11 12:59:00, long_ema 4751840.763687681, short_ema 4752090.112326559, entry time 2023-12-11 13:00:00, strike 4750000, entry price 57900.0, exit time 2023-12-11 13:53:00, exit price 56525.0, pnl 4694805.0, type CE, pnl_sum 489986480.0, price 4753030, logs [], sharpie_ratio -1.4513758309765346, drawdown 3840.0\n",
      "pos 0, signal time 2023-12-11 13:52:00, long_ema 4756779.031690068, short_ema 4756501.636952297, entry time 2023-12-11 13:53:00, strike 4750000, entry price 53105.0, exit time 2023-12-11 14:08:00, exit price 50995.0, pnl 4704185.0, type PE, pnl_sum 494690665.0, price 4752705, logs [], sharpie_ratio -2.863896234091709, drawdown 2505.0\n",
      "pos 0, signal time 2023-12-11 14:07:00, long_ema 4755625.075864085, short_ema 4755775.82151706, entry time 2023-12-11 14:08:00, strike 4760000, entry price 53525.0, exit time 2023-12-11 14:29:00, exit price 52000.0, pnl 4700795.0, type CE, pnl_sum 499391460.0, price 4757290, logs [], sharpie_ratio -0.9974673757785871, drawdown 6080.0\n",
      "pos 0, signal time 2023-12-11 14:28:00, long_ema 4757035.670313858, short_ema 4756992.370614391, entry time 2023-12-11 14:29:00, strike 4750000, entry price 51590.0, exit time 2023-12-11 14:34:00, exit price 49765.0, pnl 4708910.0, type PE, pnl_sum 504100370.0, price 4754320, logs [], sharpie_ratio -3.03858125196154, drawdown 1825.0\n",
      "pos 0, signal time 2023-12-11 14:33:00, long_ema 4757019.524129523, short_ema 4757131.602402925, entry time 2023-12-11 14:34:00, strike 4760000, entry price 54150.0, exit time 2023-12-11 14:55:00, exit price 53040.0, pnl 4700750.0, type CE, pnl_sum 508801120.0, price 4760500, logs [], sharpie_ratio -0.9376832535489327, drawdown 5960.0\n",
      "pos 0, signal time 2023-12-11 14:54:00, long_ema 4758864.708805403, short_ema 4757813.56707435, entry time 2023-12-11 14:55:00, strike 4750000, entry price 54930.0, exit time 2023-12-12 09:19:00, exit price 53135.0, pnl 4699385.0, type PE, pnl_sum 513500505.0, price 4754900, logs [], sharpie_ratio -0.8070096885192474, drawdown 5730.0\n",
      "pos 0, signal time 2023-12-12 09:18:00, long_ema 4751146.049733283, short_ema 4751711.814357366, entry time 2023-12-12 09:19:00, strike 4750000, entry price 57495.0, exit time 2023-12-12 09:43:00, exit price 55200.0, pnl 4694330.0, type CE, pnl_sum 518194835.0, price 4754315, logs [], sharpie_ratio -2.938870719975209, drawdown 3515.0\n",
      "pos 0, signal time 2023-12-12 09:42:00, long_ema 4753987.971539717, short_ema 4753963.735317177, entry time 2023-12-12 09:43:00, strike 4750000, entry price 54120.0, exit time 2023-12-12 10:35:00, exit price 58055.0, pnl 4687920.0, type PE, pnl_sum 522882755.0, price 4751825, logs [], sharpie_ratio 1.1992763873895218, drawdown 7370.0\n",
      "pos 0, signal time 2023-12-12 10:34:00, long_ema 4741050.4423377635, short_ema 4741203.248446858, entry time 2023-12-12 10:35:00, strike 4740000, entry price 56080.0, exit time 2023-12-12 11:23:00, exit price 56580.0, pnl 4689920.0, type CE, pnl_sum 527572675.0, price 4742040, logs [], sharpie_ratio 0.4236165928783485, drawdown 3245.0\n",
      "pos 0, signal time 2023-12-12 11:22:00, long_ema 4748156.137071186, short_ema 4748034.044421806, entry time 2023-12-12 11:23:00, strike 4750000, entry price 55400.0, exit time 2023-12-12 12:01:00, exit price 56040.0, pnl 4690575.0, type PE, pnl_sum 532263250.0, price 4746000, logs [], sharpie_ratio 1.17182493220889, drawdown 2055.0\n",
      "pos 0, signal time 2023-12-12 12:00:00, long_ema 4744118.256796244, short_ema 4744241.649627319, entry time 2023-12-12 12:01:00, strike 4750000, entry price 50990.0, exit time 2023-12-12 12:20:00, exit price 50170.0, pnl 4692835.0, type CE, pnl_sum 536956085.0, price 4745975, logs [], sharpie_ratio -1.781852493247234, drawdown 2125.0\n",
      "pos 0, signal time 2023-12-12 12:19:00, long_ema 4745127.614303677, short_ema 4745064.063052858, entry time 2023-12-12 12:20:00, strike 4740000, entry price 52340.0, exit time 2023-12-12 12:29:00, exit price 51350.0, pnl 4692860.0, type PE, pnl_sum 541648945.0, price 4743825, logs [], sharpie_ratio -2.0938112001955096, drawdown 1305.0\n",
      "pos 0, signal time 2023-12-12 12:28:00, long_ema 4744925.951664605, short_ema 4744999.389744604, entry time 2023-12-12 12:29:00, strike 4750000, entry price 50775.0, exit time 2023-12-12 12:42:00, exit price 50000.0, pnl 4693645.0, type CE, pnl_sum 546342590.0, price 4745200, logs [], sharpie_ratio -2.0975018953885156, drawdown 1300.0\n",
      "pos 0, signal time 2023-12-12 12:41:00, long_ema 4745350.241626201, short_ema 4745308.457969627, entry time 2023-12-12 12:42:00, strike 4740000, entry price 52105.0, exit time 2023-12-12 13:25:00, exit price 53405.0, pnl 4689025.0, type PE, pnl_sum 551031615.0, price 4744420, logs [], sharpie_ratio 1.718824122305317, drawdown 2750.0\n",
      "pos 0, signal time 2023-12-12 13:24:00, long_ema 4739959.8329253355, short_ema 4739976.452435854, entry time 2023-12-12 13:25:00, strike 4740000, entry price 53795.0, exit time 2023-12-12 13:54:00, exit price 53435.0, pnl 4686405.0, type CE, pnl_sum 555718020.0, price 4741130, logs [], sharpie_ratio -0.6463709090369076, drawdown 1850.0\n",
      "pos 0, signal time 2023-12-12 13:53:00, long_ema 4741617.327069432, short_ema 4741590.708704396, entry time 2023-12-12 13:54:00, strike 4740000, entry price 53120.0, exit time 2023-12-12 14:33:00, exit price 54120.0, pnl 4684880.0, type PE, pnl_sum 560402900.0, price 4740200, logs [], sharpie_ratio 0.5489411766895137, drawdown 6460.0\n",
      "pos 0, signal time 2023-12-12 14:32:00, long_ema 4733553.169386681, short_ema 4733973.764553453, entry time 2023-12-12 14:33:00, strike 4740000, entry price 51570.0, exit time 2023-12-12 14:44:00, exit price 48070.0, pnl 4679550.0, type CE, pnl_sum 565082450.0, price 4738000, logs [], sharpie_ratio -3.8361440557480893, drawdown 3500.0\n",
      "pos 0, signal time 2023-12-12 14:43:00, long_ema 4734042.390887355, short_ema 4733918.9146349905, entry time 2023-12-12 14:44:00, strike 4730000, entry price 51635.0, exit time 2023-12-12 15:02:00, exit price 50025.0, pnl 4684305.0, type PE, pnl_sum 569766755.0, price 4731120, logs [], sharpie_ratio -1.2764655195615315, drawdown 4645.0\n",
      "pos 0, signal time 2023-12-12 15:01:00, long_ema 4731557.51037206, short_ema 4732051.236613981, entry time 2023-12-12 15:02:00, strike 4740000, entry price 50170.0, exit time 2023-12-12 15:13:00, exit price 47475.0, pnl 4679625.0, type CE, pnl_sum 574446380.0, price 4735940, logs [], sharpie_ratio -3.0696058664989327, drawdown 2895.0\n",
      "pos 0, signal time 2023-12-12 15:12:00, long_ema 4732355.039041381, short_ema 4732255.177679872, entry time 2023-12-12 15:13:00, strike 4730000, entry price 52410.0, exit time 2023-12-13 10:10:00, exit price 55135.0, pnl 4667380.0, type PE, pnl_sum 579113760.0, price 4729795, logs [], sharpie_ratio 1.5905056603141223, drawdown 4000.0\n",
      "pos 0, signal time 2023-12-13 10:09:00, long_ema 4717967.536611553, short_ema 4718266.897574927, entry time 2023-12-13 10:10:00, strike 4720000, entry price 48920.0, exit time 2023-12-13 10:24:00, exit price 47855.0, pnl 4667770.0, type CE, pnl_sum 583781530.0, price 4719790, logs [], sharpie_ratio -1.9481028858402958, drawdown 1630.0\n",
      "pos 0, signal time 2023-12-13 10:23:00, long_ema 4718870.016191345, short_ema 4718796.044447485, entry time 2023-12-13 10:24:00, strike 4720000, entry price 51070.0, exit time 2023-12-13 10:32:00, exit price 49730.0, pnl 4668270.0, type PE, pnl_sum 588449800.0, price 4716690, logs [], sharpie_ratio -2.4435717887534847, drawdown 1530.0\n",
      "pos 0, signal time 2023-12-13 10:31:00, long_ema 4718641.068481225, short_ema 4718753.752906012, entry time 2023-12-13 10:32:00, strike 4720000, entry price 49235.0, exit time 2023-12-13 10:35:00, exit price 48105.0, pnl 4667975.0, type CE, pnl_sum 593117775.0, price 4719340, logs [], sharpie_ratio -1.9770679041011294, drawdown 1445.0\n",
      "pos 0, signal time 2023-12-13 10:34:00, long_ema 4718535.837779767, short_ema 4718391.841487879, entry time 2023-12-13 10:35:00, strike 4720000, entry price 51025.0, exit time 2023-12-13 10:42:00, exit price 50080.0, pnl 4668475.0, type PE, pnl_sum 597786250.0, price 4717210, logs [], sharpie_ratio -2.870927626455196, drawdown 945.0\n",
      "pos 0, signal time 2023-12-13 10:41:00, long_ema 4718517.175326623, short_ema 4718541.746764, entry time 2023-12-13 10:42:00, strike 4720000, entry price 48780.0, exit time 2023-12-13 11:21:00, exit price 50140.0, pnl 4673720.0, type CE, pnl_sum 602459970.0, price 4719500, logs [], sharpie_ratio 0.1746031433361739, drawdown 48815.0\n",
      "pos 0, signal time 2023-12-13 11:20:00, long_ema 4724129.595479366, short_ema 4724033.0126749035, entry time 2023-12-13 11:21:00, strike 4720000, entry price 48990.0, exit time 2023-12-13 11:48:00, exit price 47600.0, pnl 4674490.0, type PE, pnl_sum 607134460.0, price 4722500, logs [], sharpie_ratio -2.9615816579409886, drawdown 1870.0\n",
      "pos 0, signal time 2023-12-13 11:47:00, long_ema 4722258.294810134, short_ema 4722401.189423896, entry time 2023-12-13 11:48:00, strike 4720000, entry price 50555.0, exit time 2023-12-13 11:56:00, exit price 50145.0, pnl 4671590.0, type CE, pnl_sum 611806050.0, price 4723480, logs [], sharpie_ratio -1.5122837366440118, drawdown 900.0\n",
      "pos 0, signal time 2023-12-13 11:55:00, long_ema 4722347.327117833, short_ema 4722296.6480514165, entry time 2023-12-13 11:56:00, strike 4720000, entry price 48085.0, exit time 2023-12-13 12:05:00, exit price 47565.0, pnl 4674995.0, type PE, pnl_sum 616481045.0, price 4722145, logs [], sharpie_ratio -1.7943751213426993, drawdown 965.0\n",
      "pos 0, signal time 2023-12-13 12:04:00, long_ema 4722296.886699667, short_ema 4722376.709300118, entry time 2023-12-13 12:05:00, strike 4720000, entry price 50000.0, exit time 2023-12-13 12:20:00, exit price 50075.0, pnl 4672285.0, type CE, pnl_sum 621153330.0, price 4723080, logs [], sharpie_ratio 0.22620137806871676, drawdown 1430.0\n",
      "pos 0, signal time 2023-12-13 12:19:00, long_ema 4722845.613668858, short_ema 4722724.306676563, entry time 2023-12-13 12:20:00, strike 4720000, entry price 48900.0, exit time 2023-12-13 12:39:00, exit price 47925.0, pnl 4673605.0, type PE, pnl_sum 625826935.0, price 4722285, logs [], sharpie_ratio -1.9341054383971814, drawdown 1745.0\n",
      "pos 0, signal time 2023-12-13 12:38:00, long_ema 4721930.976945519, short_ema 4722023.505691703, entry time 2023-12-13 12:39:00, strike 4720000, entry price 50130.0, exit time 2023-12-13 13:29:00, exit price 56065.0, pnl 4684530.0, type CE, pnl_sum 630511465.0, price 4722505, logs [], sharpie_ratio 1.6819236449465622, drawdown 6305.0\n",
      "pos 0, signal time 2023-12-13 13:28:00, long_ema 4736991.772770009, short_ema 4736827.641451027, entry time 2023-12-13 13:29:00, strike 4730000, entry price 47620.0, exit time 2023-12-13 13:40:00, exit price 44875.0, pnl 4691690.0, type PE, pnl_sum 635203155.0, price 4734660, logs [], sharpie_ratio -2.710580393575725, drawdown 3195.0\n",
      "pos 0, signal time 2023-12-13 13:39:00, long_ema 4736307.127293195, short_ema 4736576.6458164975, entry time 2023-12-13 13:40:00, strike 4740000, entry price 48070.0, exit time 2023-12-13 14:16:00, exit price 47030.0, pnl 4689880.0, type CE, pnl_sum 639893035.0, price 4739310, logs [], sharpie_ratio -1.3493945179617506, drawdown 2730.0\n",
      "pos 0, signal time 2023-12-13 14:15:00, long_ema 4738864.545111351, short_ema 4738853.541198583, entry time 2023-12-13 14:16:00, strike 4740000, entry price 49370.0, exit time 2023-12-13 14:58:00, exit price 50640.0, pnl 4685330.0, type PE, pnl_sum 644578365.0, price 4737950, logs [], sharpie_ratio 0.7486752254134097, drawdown 4335.0\n",
      "pos 0, signal time 2023-12-13 14:57:00, long_ema 4731262.0957687525, short_ema 4731503.257807176, entry time 2023-12-13 14:58:00, strike 4730000, entry price 49665.0, exit time 2023-12-14 10:19:00, exit price 90760.0, pnl 4750135.0, type CE, pnl_sum 649328500.0, price 4734700, logs [], sharpie_ratio 2.061740726325915, drawdown 16915.0\n",
      "pos 0, signal time 2023-12-14 10:18:00, long_ema 4807508.890190853, short_ema 4807062.820371386, entry time 2023-12-14 10:19:00, strike 4800000, entry price 46160.0, exit time 2023-12-14 10:53:00, exit price 46680.0, pnl 4753500.0, type PE, pnl_sum 654082000.0, price 4799800, logs [], sharpie_ratio 0.5854227386350024, drawdown 3025.0\n",
      "pos 0, signal time 2023-12-14 10:52:00, long_ema 4800841.309470467, short_ema 4800932.226709521, entry time 2023-12-14 10:53:00, strike 4800000, entry price 47480.0, exit time 2023-12-14 10:54:00, exit price 46195.0, pnl 4751490.0, type CE, pnl_sum 658833490.0, price 4799660, logs [], sharpie_ratio -1.996891996891997, drawdown 1285.0\n",
      "pos 0, signal time 2023-12-14 10:53:00, long_ema 4800753.805065247, short_ema 4800677.781367618, entry time 2023-12-14 10:54:00, strike 4800000, entry price 46470.0, exit time 2023-12-14 11:00:00, exit price 45610.0, pnl 4755120.0, type PE, pnl_sum 663588610.0, price 4798970, logs [], sharpie_ratio -1.3678722116529403, drawdown 1805.0\n",
      "pos 0, signal time 2023-12-14 10:59:00, long_ema 4800685.980044534, short_ema 4800788.542238834, entry time 2023-12-14 11:00:00, strike 4800000, entry price 47810.0, exit time 2023-12-14 11:21:00, exit price 45225.0, pnl 4750840.0, type CE, pnl_sum 668339450.0, price 4801590, logs [], sharpie_ratio -3.0790462178345344, drawdown 3765.0\n",
      "pos 0, signal time 2023-12-14 11:20:00, long_ema 4801837.845554615, short_ema 4801719.34398379, entry time 2023-12-14 11:21:00, strike 4800000, entry price 46255.0, exit time 2023-12-14 11:44:00, exit price 45755.0, pnl 4754245.0, type PE, pnl_sum 673093695.0, price 4798650, logs [], sharpie_ratio -0.6311179362028863, drawdown 3145.0\n",
      "pos 0, signal time 2023-12-14 11:43:00, long_ema 4798817.704491388, short_ema 4798935.222566351, entry time 2023-12-14 11:44:00, strike 4800000, entry price 46175.0, exit time 2023-12-14 11:51:00, exit price 44180.0, pnl 4749580.0, type CE, pnl_sum 677843275.0, price 4800500, logs [], sharpie_ratio -2.06700591679767, drawdown 2415.0\n",
      "pos 0, signal time 2023-12-14 11:50:00, long_ema 4798761.428832798, short_ema 4798274.611667547, entry time 2023-12-14 11:51:00, strike 4800000, entry price 47995.0, exit time 2023-12-14 12:00:00, exit price 45775.0, pnl 4753005.0, type PE, pnl_sum 682596280.0, price 4795755, logs [], sharpie_ratio -3.623764232971182, drawdown 2220.0\n",
      "pos 0, signal time 2023-12-14 11:59:00, long_ema 4798465.657090712, short_ema 4798554.339369461, entry time 2023-12-14 12:00:00, strike 4800000, entry price 46105.0, exit time 2023-12-14 12:12:00, exit price 45025.0, pnl 4751490.0, type CE, pnl_sum 687347770.0, price 4801000, logs [], sharpie_ratio -1.0890754830253113, drawdown 3280.0\n",
      "pos 0, signal time 2023-12-14 12:11:00, long_ema 4799292.220593753, short_ema 4799208.646060192, entry time 2023-12-14 12:12:00, strike 4800000, entry price 47130.0, exit time 2023-12-14 12:26:00, exit price 46000.0, pnl 4752730.0, type PE, pnl_sum 692100500.0, price 4797595, logs [], sharpie_ratio -1.5633036262246993, drawdown 2700.0\n",
      "pos 0, signal time 2023-12-14 12:25:00, long_ema 4798626.343693889, short_ema 4798706.1062567355, entry time 2023-12-14 12:26:00, strike 4800000, entry price 45475.0, exit time 2023-12-14 12:35:00, exit price 44955.0, pnl 4752185.0, type CE, pnl_sum 696852685.0, price 4799860, logs [], sharpie_ratio -1.1763521575480738, drawdown 1210.0\n",
      "pos 0, signal time 2023-12-14 12:34:00, long_ema 4798791.249946098, short_ema 4798656.065973027, entry time 2023-12-14 12:35:00, strike 4800000, entry price 46635.0, exit time 2023-12-14 12:50:00, exit price 45495.0, pnl 4753765.0, type PE, pnl_sum 701606450.0, price 4797660, logs [], sharpie_ratio -2.087024965607603, drawdown 1735.0\n",
      "pos 0, signal time 2023-12-14 12:49:00, long_ema 4798470.343509619, short_ema 4798688.382408023, entry time 2023-12-14 12:50:00, strike 4800000, entry price 45470.0, exit time 2023-12-14 13:48:00, exit price 48070.0, pnl 4758530.0, type CE, pnl_sum 706364980.0, price 4800400, logs [], sharpie_ratio 1.4722707793861265, drawdown 4785.0\n",
      "pos 0, signal time 2023-12-14 13:47:00, long_ema 4807666.949342148, short_ema 4807537.6180103505, entry time 2023-12-14 13:48:00, strike 4800000, entry price 43735.0, exit time 2023-12-14 14:45:00, exit price 43680.0, pnl 4760910.0, type PE, pnl_sum 711125890.0, price 4804000, logs [], sharpie_ratio -0.08001792093658217, drawdown 1920.0\n",
      "pos 0, signal time 2023-12-14 14:44:00, long_ema 4803401.90867699, short_ema 4803455.708407483, entry time 2023-12-14 14:45:00, strike 4800000, entry price 48775.0, exit time 2023-12-14 14:47:00, exit price 47370.0, pnl 4753425.0, type CE, pnl_sum 715879315.0, price 4804645, logs [], sharpie_ratio -1.8539014588617753, drawdown 1750.0\n",
      "pos 0, signal time 2023-12-14 14:46:00, long_ema 4803361.101403455, short_ema 4803294.85338079, entry time 2023-12-14 14:47:00, strike 4800000, entry price 45375.0, exit time 2023-12-14 15:18:00, exit price 45125.0, pnl 4757025.0, type PE, pnl_sum 720636340.0, price 4802200, logs [], sharpie_ratio -0.2788807032381477, drawdown 2905.0\n",
      "pos 0, signal time 2023-12-14 15:17:00, long_ema 4799394.680712516, short_ema 4799745.445483974, entry time 2023-12-14 15:18:00, strike 4800000, entry price 47605.0, exit time 2023-12-15 09:24:00, exit price 46990.0, pnl 4755420.0, type CE, pnl_sum 725391760.0, price 4802400, logs [], sharpie_ratio -0.46648064521688865, drawdown 4525.0\n",
      "pos 0, signal time 2023-12-15 09:23:00, long_ema 4803402.736087639, short_ema 4803387.015481609, entry time 2023-12-15 09:24:00, strike 4800000, entry price 44290.0, exit time 2023-12-15 10:01:00, exit price 46195.0, pnl 4753880.0, type PE, pnl_sum 730145640.0, price 4803025, logs [], sharpie_ratio 1.0875180408104608, drawdown 6415.0\n",
      "pos 0, signal time 2023-12-15 10:00:00, long_ema 4796539.7964908, short_ema 4796561.362817427, entry time 2023-12-15 10:01:00, strike 4800000, entry price 44715.0, exit time 2023-12-15 10:24:00, exit price 45880.0, pnl 4756400.0, type CE, pnl_sum 734902040.0, price 4798170, logs [], sharpie_ratio 1.4787862816527362, drawdown 2660.0\n",
      "pos 0, signal time 2023-12-15 10:23:00, long_ema 4798893.867866661, short_ema 4798842.494189612, entry time 2023-12-15 10:24:00, strike 4800000, entry price 45775.0, exit time 2023-12-15 10:25:00, exit price 44775.0, pnl 4754915.0, type PE, pnl_sum 739656955.0, price 4801115, logs [], sharpie_ratio -1.996007984031936, drawdown 1000.0\n",
      "pos 0, signal time 2023-12-15 10:24:00, long_ema 4799058.396172835, short_ema 4799296.99535169, entry time 2023-12-15 10:25:00, strike 4800000, entry price 45965.0, exit time 2023-12-15 10:42:00, exit price 42730.0, pnl 4749765.0, type CE, pnl_sum 744406720.0, price 4800690, logs [], sharpie_ratio -4.401752702144593, drawdown 3235.0\n",
      "pos 0, signal time 2023-12-15 10:41:00, long_ema 4799491.381500613, short_ema 4799414.919816983, entry time 2023-12-15 10:42:00, strike 4800000, entry price 46200.0, exit time 2023-12-15 11:18:00, exit price 48850.0, pnl 4744800.0, type PE, pnl_sum 749151520.0, price 4795730, logs [], sharpie_ratio 1.2145987084519594, drawdown 7615.0\n",
      "pos 0, signal time 2023-12-15 11:17:00, long_ema 4788267.683938586, short_ema 4788450.667713818, entry time 2023-12-15 11:18:00, strike 4790000, entry price 44860.0, exit time 2023-12-15 11:47:00, exit price 44085.0, pnl 4744140.0, type CE, pnl_sum 753895660.0, price 4791000, logs [], sharpie_ratio -1.0059442415450863, drawdown 3080.0\n",
      "pos 0, signal time 2023-12-15 11:46:00, long_ema 4790581.3577179685, short_ema 4790520.206331265, entry time 2023-12-15 11:47:00, strike 4790000, entry price 44840.0, exit time 2023-12-15 12:30:00, exit price 44745.0, pnl 4745595.0, type PE, pnl_sum 758641255.0, price 4789000, logs [], sharpie_ratio -0.1295507095518868, drawdown 2550.0\n",
      "pos 0, signal time 2023-12-15 12:29:00, long_ema 4788263.844497615, short_ema 4788457.339695077, entry time 2023-12-15 12:30:00, strike 4790000, entry price 44345.0, exit time 2023-12-15 13:11:00, exit price 43900.0, pnl 4746310.0, type CE, pnl_sum 763387565.0, price 4790435, logs [], sharpie_ratio -0.7848754733795074, drawdown 2165.0\n",
      "pos 0, signal time 2023-12-15 13:10:00, long_ema 4792225.022682171, short_ema 4792169.750004749, entry time 2023-12-15 13:11:00, strike 4790000, entry price 43340.0, exit time 2023-12-15 13:17:00, exit price 42520.0, pnl 4750160.0, type PE, pnl_sum 768137725.0, price 4790655, logs [], sharpie_ratio -1.6727983880675716, drawdown 1520.0\n",
      "pos 0, signal time 2023-12-15 13:16:00, long_ema 4792141.616730407, short_ema 4792240.705025246, entry time 2023-12-15 13:17:00, strike 4790000, entry price 45540.0, exit time 2023-12-15 15:23:00, exit price 63680.0, pnl 4776960.0, type CE, pnl_sum 772914685.0, price 4793500, logs [], sharpie_ratio 2.5807795074578492, drawdown 9195.0\n",
      "pos 0, signal time 2023-12-15 15:22:00, long_ema 4825719.54254782, short_ema 4825582.5463069305, entry time 2023-12-15 15:23:00, strike 4820000, entry price 44035.0, exit time 2023-12-18 10:05:00, exit price 53095.0, pnl 4759805.0, type PE, pnl_sum 777674490.0, price 4822500, logs [], sharpie_ratio 2.8307072720736217, drawdown 7095.0\n",
      "pos 0, signal time 2023-12-18 10:04:00, long_ema 4803370.815858536, short_ema 4803412.436840022, entry time 2023-12-18 10:05:00, strike 4800000, entry price 46355.0, exit time 2023-12-18 10:07:00, exit price 45200.0, pnl 4756660.0, type CE, pnl_sum 782431150.0, price 4803840, logs [], sharpie_ratio -1.9587983304897258, drawdown 1325.0\n",
      "pos 0, signal time 2023-12-18 10:06:00, long_ema 4803327.750221654, short_ema 4803269.359577614, entry time 2023-12-18 10:07:00, strike 4800000, entry price 43145.0, exit time 2023-12-18 10:23:00, exit price 40700.0, pnl 4765725.0, type PE, pnl_sum 787196875.0, price 4803015, logs [], sharpie_ratio -2.4563761002432574, drawdown 4945.0\n",
      "pos 0, signal time 2023-12-18 10:22:00, long_ema 4802516.7622724725, short_ema 4802581.127162909, entry time 2023-12-18 10:23:00, strike 4810000, entry price 41200.0, exit time 2023-12-18 10:41:00, exit price 41830.0, pnl 4763725.0, type CE, pnl_sum 791960600.0, price 4808870, logs [], sharpie_ratio 0.21753847251242955, drawdown 8505.0\n",
      "pos 0, signal time 2023-12-18 10:40:00, long_ema 4809076.0209349375, short_ema 4808794.804449157, entry time 2023-12-18 10:41:00, strike 4800000, entry price 42100.0, exit time 2023-12-18 10:55:00, exit price 40550.0, pnl 4766900.0, type PE, pnl_sum 796727500.0, price 4804925, logs [], sharpie_ratio -1.8191101430947902, drawdown 2640.0\n",
      "pos 0, signal time 2023-12-18 10:54:00, long_ema 4807509.615449904, short_ema 4807646.546666347, entry time 2023-12-18 10:55:00, strike 4810000, entry price 44725.0, exit time 2023-12-18 11:24:00, exit price 41640.0, pnl 4761275.0, type CE, pnl_sum 801488775.0, price 4809000, logs [], sharpie_ratio -3.4636419951655455, drawdown 3770.0\n",
      "pos 0, signal time 2023-12-18 11:23:00, long_ema 4808794.746058525, short_ema 4808382.167303945, entry time 2023-12-18 11:24:00, strike 4810000, entry price 46680.0, exit time 2023-12-18 11:31:00, exit price 45410.0, pnl 4762705.0, type PE, pnl_sum 806251480.0, price 4806000, logs [], sharpie_ratio -1.898354460575089, drawdown 1985.0\n",
      "pos 0, signal time 2023-12-18 11:30:00, long_ema 4808693.049203565, short_ema 4808829.93189258, entry time 2023-12-18 11:31:00, strike 4810000, entry price 43675.0, exit time 2023-12-18 11:49:00, exit price 42800.0, pnl 4764030.0, type CE, pnl_sum 811015510.0, price 4809385, logs [], sharpie_ratio -1.617817089438503, drawdown 1890.0\n",
      "pos 0, signal time 2023-12-18 11:48:00, long_ema 4809342.27239782, short_ema 4809163.018675613, entry time 2023-12-18 11:49:00, strike 4810000, entry price 45490.0, exit time 2023-12-18 12:46:00, exit price 46635.0, pnl 4761180.0, type PE, pnl_sum 815776690.0, price 4807705, logs [], sharpie_ratio 0.3841907389248097, drawdown 20625.0\n",
      "pos 0, signal time 2023-12-18 12:45:00, long_ema 4804627.94619312, short_ema 4804702.3639463475, entry time 2023-12-18 12:46:00, strike 4810000, entry price 42100.0, exit time 2023-12-18 13:02:00, exit price 40935.0, pnl 4761400.0, type CE, pnl_sum 820538090.0, price 4806670, logs [], sharpie_ratio -2.5768681096685344, drawdown 1530.0\n",
      "pos 0, signal time 2023-12-18 13:01:00, long_ema 4804950.846678473, short_ema 4804769.887187061, entry time 2023-12-18 13:02:00, strike 4800000, entry price 42750.0, exit time 2023-12-18 13:25:00, exit price 42810.0, pnl 4760595.0, type PE, pnl_sum 825298685.0, price 4803500, logs [], sharpie_ratio 0.0760319286770056, drawdown 2790.0\n",
      "pos 0, signal time 2023-12-18 13:24:00, long_ema 4801929.075664375, short_ema 4801976.417994651, entry time 2023-12-18 13:25:00, strike 4800000, entry price 45235.0, exit time 2023-12-18 13:36:00, exit price 44295.0, pnl 4755490.0, type CE, pnl_sum 830054175.0, price 4803345, logs [], sharpie_ratio -0.8332943599604072, drawdown 3415.0\n",
      "pos 0, signal time 2023-12-18 13:35:00, long_ema 4802866.900647398, short_ema 4802751.738718119, entry time 2023-12-18 13:36:00, strike 4800000, entry price 43510.0, exit time 2023-12-18 13:59:00, exit price 43930.0, pnl 4757540.0, type PE, pnl_sum 834811715.0, price 4800725, logs [], sharpie_ratio 0.9820051793388753, drawdown 1355.0\n",
      "pos 0, signal time 2023-12-18 13:58:00, long_ema 4801178.033506872, short_ema 4801241.366419294, entry time 2023-12-18 13:59:00, strike 4800000, entry price 44665.0, exit time 2023-12-18 14:42:00, exit price 44525.0, pnl 4757935.0, type CE, pnl_sum 839569650.0, price 4801050, logs [], sharpie_ratio -0.14115646243631944, drawdown 3775.0\n",
      "pos 0, signal time 2023-12-18 14:41:00, long_ema 4805200.438023988, short_ema 4805174.593725819, entry time 2023-12-18 14:42:00, strike 4800000, entry price 42470.0, exit time 2023-12-19 10:19:00, exit price 48810.0, pnl 4741095.0, type PE, pnl_sum 844310745.0, price 4802600, logs [], sharpie_ratio 2.5121674684611572, drawdown 3300.0\n",
      "pos 0, signal time 2023-12-19 10:18:00, long_ema 4782128.06480711, short_ema 4782130.559118616, entry time 2023-12-19 10:19:00, strike 4780000, entry price 42725.0, exit time 2023-12-19 10:33:00, exit price 42055.0, pnl 4740775.0, type CE, pnl_sum 849051520.0, price 4783565, logs [], sharpie_ratio -1.5897386201419756, drawdown 1510.0\n",
      "pos 0, signal time 2023-12-19 10:32:00, long_ema 4782615.739031447, short_ema 4782477.167261537, entry time 2023-12-19 10:33:00, strike 4780000, entry price 39945.0, exit time 2023-12-19 10:34:00, exit price 35945.0, pnl 4749295.0, type PE, pnl_sum 853800815.0, price 4783500, logs [], sharpie_ratio -1.999000499750125, drawdown 4000.0\n",
      "pos 0, signal time 2023-12-19 10:33:00, long_ema 4782681.239843933, short_ema 4782681.73380923, entry time 2023-12-19 10:34:00, strike 4790000, entry price 36780.0, exit time 2023-12-19 11:20:00, exit price 37780.0, pnl 4750145.0, type CE, pnl_sum 858550960.0, price 4789240, logs [], sharpie_ratio 1.7624336527435707, drawdown 2155.0\n",
      "pos 0, signal time 2023-12-19 11:19:00, long_ema 4787275.861857014, short_ema 4787164.430546102, entry time 2023-12-19 11:20:00, strike 4790000, entry price 41760.0, exit time 2023-12-19 11:28:00, exit price 40565.0, pnl 4746240.0, type PE, pnl_sum 863297200.0, price 4786925, logs [], sharpie_ratio -2.5378415222374144, drawdown 1270.0\n",
      "pos 0, signal time 2023-12-19 11:27:00, long_ema 4787156.2184816785, short_ema 4787193.79864389, entry time 2023-12-19 11:28:00, strike 4790000, entry price 38170.0, exit time 2023-12-19 13:08:00, exit price 48065.0, pnl 4767925.0, type CE, pnl_sum 868065125.0, price 4788000, logs [], sharpie_ratio 2.775392322806811, drawdown 6625.0\n",
      "pos 0, signal time 2023-12-19 13:07:00, long_ema 4808431.753802439, short_ema 4808354.201322751, entry time 2023-12-19 13:08:00, strike 4810000, entry price 41520.0, exit time 2023-12-19 13:35:00, exit price 40625.0, pnl 4767805.0, type PE, pnl_sum 872832930.0, price 4806095, logs [], sharpie_ratio -1.5923532927076478, drawdown 2515.0\n",
      "pos 0, signal time 2023-12-19 13:34:00, long_ema 4806887.097955069, short_ema 4807207.679874255, entry time 2023-12-19 13:35:00, strike 4810000, entry price 39315.0, exit time 2023-12-19 14:24:00, exit price 41600.0, pnl 4775295.0, type CE, pnl_sum 877608225.0, price 4809325, logs [], sharpie_ratio 1.0523540760994825, drawdown 4095.0\n",
      "pos 0, signal time 2023-12-19 14:23:00, long_ema 4817477.193950988, short_ema 4817142.691272158, entry time 2023-12-19 14:24:00, strike 4810000, entry price 37540.0, exit time 2023-12-19 14:31:00, exit price 35840.0, pnl 4781460.0, type PE, pnl_sum 882389685.0, price 4814610, logs [], sharpie_ratio -3.3472650972637337, drawdown 1700.0\n",
      "pos 0, signal time 2023-12-19 14:30:00, long_ema 4817400.1171523025, short_ema 4817486.63985668, entry time 2023-12-19 14:31:00, strike 4820000, entry price 38610.0, exit time 2023-12-19 14:44:00, exit price 37905.0, pnl 4779010.0, type CE, pnl_sum 887168695.0, price 4819000, logs [], sharpie_ratio -1.4005930169052678, drawdown 1865.0\n",
      "pos 0, signal time 2023-12-19 14:43:00, long_ema 4817663.629440371, short_ema 4817361.968630547, entry time 2023-12-19 14:44:00, strike 4820000, entry price 42000.0, exit time 2023-12-20 09:16:00, exit price 36760.0, pnl 4779995.0, type PE, pnl_sum 891948690.0, price 4817620, logs [], sharpie_ratio -1.747430347113516, drawdown 13660.0\n",
      "pos 0, signal time 2023-12-20 09:15:00, long_ema 4803483.068419101, short_ema 4804321.734296055, entry time 2023-12-20 09:16:00, strike 4820000, entry price 37660.0, exit time 2023-12-20 09:48:00, exit price 35155.0, pnl 4779340.0, type CE, pnl_sum 896728030.0, price 4821995, logs [], sharpie_ratio -2.283287385060222, drawdown 5020.0\n",
      "pos 0, signal time 2023-12-20 09:47:00, long_ema 4818975.616082868, short_ema 4818913.951499676, entry time 2023-12-20 09:48:00, strike 4820000, entry price 38400.0, exit time 2023-12-20 10:42:00, exit price 39655.0, pnl 4776885.0, type PE, pnl_sum 901504915.0, price 4817000, logs [], sharpie_ratio 0.9058638894679792, drawdown 4245.0\n",
      "pos 0, signal time 2023-12-20 10:41:00, long_ema 4811702.729822582, short_ema 4811812.001157825, entry time 2023-12-20 10:42:00, strike 4820000, entry price 33750.0, exit time 2023-12-20 11:15:00, exit price 31445.0, pnl 4776410.0, type CE, pnl_sum 906281325.0, price 4815285, logs [], sharpie_ratio -3.6056278805123347, drawdown 3210.0\n",
      "pos 0, signal time 2023-12-20 11:14:00, long_ema 4814092.8621398555, short_ema 4813830.551359027, entry time 2023-12-20 11:15:00, strike 4810000, entry price 36180.0, exit time 2023-12-20 12:00:00, exit price 36100.0, pnl 4774325.0, type PE, pnl_sum 911055650.0, price 4810160, logs [], sharpie_ratio -0.10880274721657829, drawdown 3180.0\n",
      "pos 0, signal time 2023-12-20 11:59:00, long_ema 4808215.2305919845, short_ema 4808322.263804787, entry time 2023-12-20 12:00:00, strike 4810000, entry price 36110.0, exit time 2023-12-20 12:17:00, exit price 35280.0, pnl 4771230.0, type CE, pnl_sum 915826880.0, price 4810505, logs [], sharpie_ratio -1.6309093184231418, drawdown 1955.0\n",
      "pos 0, signal time 2023-12-20 12:16:00, long_ema 4809191.840553388, short_ema 4809092.728136475, entry time 2023-12-20 12:17:00, strike 4810000, entry price 37855.0, exit time 2023-12-20 12:26:00, exit price 37010.0, pnl 4771765.0, type PE, pnl_sum 920598645.0, price 4807340, logs [], sharpie_ratio -1.6282423132435058, drawdown 1505.0\n",
      "pos 0, signal time 2023-12-20 12:25:00, long_ema 4808787.538542515, short_ema 4808793.29607148, entry time 2023-12-20 12:26:00, strike 4810000, entry price 36265.0, exit time 2023-12-20 12:29:00, exit price 35710.0, pnl 4771735.0, type CE, pnl_sum 925370380.0, price 4809620, logs [], sharpie_ratio -2.5839607220689573, drawdown 555.0\n",
      "pos 0, signal time 2023-12-20 12:28:00, long_ema 4808802.676915449, short_ema 4808786.927588599, entry time 2023-12-20 12:29:00, strike 4810000, entry price 37480.0, exit time 2023-12-20 12:35:00, exit price 36155.0, pnl 4773380.0, type PE, pnl_sum 930143760.0, price 4808000, logs [], sharpie_ratio -2.3383551510450076, drawdown 1530.0\n",
      "pos 0, signal time 2023-12-20 12:34:00, long_ema 4808817.879382215, short_ema 4808959.611545786, entry time 2023-12-20 12:35:00, strike 4810000, entry price 36590.0, exit time 2023-12-20 13:03:00, exit price 36975.0, pnl 4775725.0, type CE, pnl_sum 934919485.0, price 4810860, logs [], sharpie_ratio 0.4429273313216428, drawdown 3105.0\n",
      "pos 0, signal time 2023-12-20 13:02:00, long_ema 4813310.279964279, short_ema 4813284.357555279, entry time 2023-12-20 13:03:00, strike 4810000, entry price 34975.0, exit time 2023-12-21 09:47:00, exit price 101740.0, pnl 4684225.0, type PE, pnl_sum 939603710.0, price 4812315, logs [], sharpie_ratio 2.98569806249803, drawdown 21870.0\n",
      "pos 0, signal time 2023-12-21 09:46:00, long_ema 4716806.772153317, short_ema 4717205.128388791, entry time 2023-12-21 09:47:00, strike 4720000, entry price 40715.0, exit time 2023-12-21 09:50:00, exit price 38135.0, pnl 4676255.0, type CE, pnl_sum 944279965.0, price 4719200, logs [], sharpie_ratio -1.6336596145798241, drawdown 3915.0\n",
      "pos 0, signal time 2023-12-21 09:49:00, long_ema 4716683.703952425, short_ema 4716613.625735062, entry time 2023-12-21 09:50:00, strike 4720000, entry price 42725.0, exit time 2023-12-21 09:52:00, exit price 41255.0, pnl 4675340.0, type PE, pnl_sum 948955305.0, price 4716970, logs [], sharpie_ratio -1.7629284486077414, drawdown 1960.0\n",
      "pos 0, signal time 2023-12-21 09:51:00, long_ema 4716814.917654686, short_ema 4716985.92047044, entry time 2023-12-21 09:52:00, strike 4720000, entry price 38845.0, exit time 2023-12-21 09:57:00, exit price 33670.0, pnl 4671655.0, type CE, pnl_sum 953626960.0, price 4718065, logs [], sharpie_ratio -2.85581106625036, drawdown 5175.0\n",
      "pos 0, signal time 2023-12-21 09:56:00, long_ema 4716508.066056288, short_ema 4715984.807219754, entry time 2023-12-21 09:57:00, strike 4710000, entry price 38185.0, exit time 2023-12-21 10:04:00, exit price 35240.0, pnl 4680670.0, type PE, pnl_sum 958307630.0, price 4710500, logs [], sharpie_ratio -1.757509279896595, drawdown 4740.0\n",
      "pos 0, signal time 2023-12-21 10:03:00, long_ema 4716354.896429751, short_ema 4716800.501523053, entry time 2023-12-21 10:04:00, strike 4720000, entry price 38420.0, exit time 2023-12-21 10:34:00, exit price 40310.0, pnl 4687850.0, type CE, pnl_sum 962995480.0, price 4718855, logs [], sharpie_ratio 0.555853034535841, drawdown 11690.0\n",
      "pos 0, signal time 2023-12-21 10:33:00, long_ema 4730178.487801225, short_ema 4729474.934795035, entry time 2023-12-21 10:34:00, strike 4730000, entry price 40865.0, exit time 2023-12-21 10:44:00, exit price 34130.0, pnl 4695585.0, type PE, pnl_sum 967691065.0, price 4726270, logs [], sharpie_ratio -3.2578408472014133, drawdown 6735.0\n",
      "pos 0, signal time 2023-12-21 10:43:00, long_ema 4729637.291714903, short_ema 4730264.445996303, entry time 2023-12-21 10:44:00, strike 4740000, entry price 34430.0, exit time 2023-12-21 11:22:00, exit price 38500.0, pnl 4709775.0, type CE, pnl_sum 972400840.0, price 4736450, logs [], sharpie_ratio 1.0464733197120848, drawdown 11420.0\n",
      "pos 0, signal time 2023-12-21 11:21:00, long_ema 4745910.638370686, short_ema 4745838.10113449, entry time 2023-12-21 11:22:00, strike 4740000, entry price 34520.0, exit time 2023-12-21 11:25:00, exit price 33965.0, pnl 4712080.0, type PE, pnl_sum 977112920.0, price 4744205, logs [], sharpie_ratio -0.7493381165716447, drawdown 1935.0\n",
      "pos 0, signal time 2023-12-21 11:24:00, long_ema 4746005.479070364, short_ema 4746220.347780859, entry time 2023-12-21 11:25:00, strike 4750000, entry price 35995.0, exit time 2023-12-21 11:28:00, exit price 32510.0, pnl 4705505.0, type CE, pnl_sum 981818425.0, price 4746600, logs [], sharpie_ratio -2.715645547611552, drawdown 3485.0\n",
      "pos 0, signal time 2023-12-21 11:27:00, long_ema 4745856.074809451, short_ema 4745720.0180638, entry time 2023-12-21 11:28:00, strike 4740000, entry price 35225.0, exit time 2023-12-21 11:41:00, exit price 33500.0, pnl 4712560.0, type PE, pnl_sum 986530985.0, price 4741500, logs [], sharpie_ratio -2.1338500353231318, drawdown 2980.0\n",
      "pos 0, signal time 2023-12-21 11:40:00, long_ema 4744959.898345064, short_ema 4745215.998301243, entry time 2023-12-21 11:41:00, strike 4750000, entry price 35220.0, exit time 2023-12-21 11:49:00, exit price 33170.0, pnl 4707980.0, type CE, pnl_sum 991238965.0, price 4747785, logs [], sharpie_ratio -1.9568476615009305, drawdown 3430.0\n",
      "pos 0, signal time 2023-12-21 11:48:00, long_ema 4745117.110478933, short_ema 4745027.827403957, entry time 2023-12-21 11:49:00, strike 4740000, entry price 35960.0, exit time 2023-12-21 11:53:00, exit price 33470.0, pnl 4712090.0, type PE, pnl_sum 995951055.0, price 4743200, logs [], sharpie_ratio -2.7169454453268274, drawdown 2490.0\n",
      "pos 0, signal time 2023-12-21 11:52:00, long_ema 4745146.965572535, short_ema 4745263.878104662, entry time 2023-12-21 11:53:00, strike 4750000, entry price 35355.0, exit time 2023-12-21 12:15:00, exit price 34205.0, pnl 4710165.0, type CE, pnl_sum 1000661220.0, price 4748050, logs [], sharpie_ratio -0.7000782454925198, drawdown 6080.0\n",
      "pos 0, signal time 2023-12-21 12:14:00, long_ema 4748390.52979518, short_ema 4748086.910538592, entry time 2023-12-21 12:15:00, strike 4750000, entry price 39550.0, exit time 2023-12-21 12:25:00, exit price 37140.0, pnl 4711255.0, type PE, pnl_sum 1005372475.0, price 4745520, logs [], sharpie_ratio -2.5098281404791107, drawdown 3015.0\n",
      "pos 0, signal time 2023-12-21 12:24:00, long_ema 4747912.139205324, short_ema 4747997.238403576, entry time 2023-12-21 12:25:00, strike 4750000, entry price 36880.0, exit time 2023-12-21 13:07:00, exit price 45980.0, pnl 4727740.0, type CE, pnl_sum 1010100215.0, price 4750805, logs [], sharpie_ratio 1.9265468789200246, drawdown 8245.0\n",
      "pos 0, signal time 2023-12-21 13:06:00, long_ema 4767011.354325442, short_ema 4766982.486719997, entry time 2023-12-21 13:07:00, strike 4760000, entry price 35565.0, exit time 2023-12-21 13:16:00, exit price 34655.0, pnl 4731515.0, type PE, pnl_sum 1014831730.0, price 4764620, logs [], sharpie_ratio -0.8493530796336138, drawdown 3700.0\n",
      "pos 0, signal time 2023-12-21 13:15:00, long_ema 4766254.627416198, short_ema 4766331.188963189, entry time 2023-12-21 13:16:00, strike 4770000, entry price 36065.0, exit time 2023-12-21 13:19:00, exit price 33760.0, pnl 4727835.0, type CE, pnl_sum 1019559565.0, price 4767080, logs [], sharpie_ratio -2.6860560180387134, drawdown 2305.0\n",
      "pos 0, signal time 2023-12-21 13:18:00, long_ema 4766138.2082699835, short_ema 4765964.008749153, entry time 2023-12-21 13:19:00, strike 4760000, entry price 35565.0, exit time 2023-12-21 13:32:00, exit price 33730.0, pnl 4733395.0, type PE, pnl_sum 1024292960.0, price 4763900, logs [], sharpie_ratio -1.5345249989725351, drawdown 3900.0\n",
      "pos 0, signal time 2023-12-21 13:31:00, long_ema 4765109.208066588, short_ema 4765368.972263335, entry time 2023-12-21 13:32:00, strike 4770000, entry price 36850.0, exit time 2023-12-21 13:37:00, exit price 30705.0, pnl 4720240.0, type CE, pnl_sum 1029013200.0, price 4768960, logs [], sharpie_ratio -3.159734394085869, drawdown 6145.0\n",
      "pos 0, signal time 2023-12-21 13:36:00, long_ema 4765243.447473406, short_ema 4765195.04403125, entry time 2023-12-21 13:37:00, strike 4760000, entry price 36540.0, exit time 2023-12-21 14:18:00, exit price 38445.0, pnl 4719440.0, type PE, pnl_sum 1033732640.0, price 4757090, logs [], sharpie_ratio 0.9598058949005833, drawdown 7305.0\n",
      "pos 0, signal time 2023-12-21 14:17:00, long_ema 4754447.051401618, short_ema 4754533.147340947, entry time 2023-12-21 14:18:00, strike 4760000, entry price 34195.0, exit time 2023-12-21 15:26:00, exit price 66595.0, pnl 4772305.0, type CE, pnl_sum 1038504945.0, price 4755980, logs [], sharpie_ratio 2.574830214912726, drawdown 12915.0\n",
      "pos 0, signal time 2023-12-21 15:25:00, long_ema 4807479.214195823, short_ema 4807205.414581552, entry time 2023-12-21 15:26:00, strike 4810000, entry price 38620.0, exit time 2023-12-21 15:29:00, exit price 35750.0, pnl 4772170.0, type PE, pnl_sum 1043277115.0, price 4806500, logs [], sharpie_ratio -2.2103174089563775, drawdown 3005.0\n",
      "pos 0, signal time 2023-12-21 15:28:00, long_ema 4807563.477204173, short_ema 4807621.172265756, entry time 2023-12-21 15:29:00, strike 4810000, entry price 36125.0, exit time 2023-12-22 09:16:00, exit price 29055.0, pnl 4762730.0, type CE, pnl_sum 1048039845.0, price 4810790, logs [], sharpie_ratio -1.9924281375905675, drawdown 7910.0\n",
      "pos 0, signal time 2023-12-22 09:15:00, long_ema 4806931.184159957, short_ema 4805811.9502500845, entry time 2023-12-22 09:16:00, strike 4800000, entry price 36525.0, exit time 2023-12-22 09:48:00, exit price 33885.0, pnl 4765270.0, type PE, pnl_sum 1052805115.0, price 4798855, logs [], sharpie_ratio -1.1399356481673628, drawdown 9680.0\n",
      "pos 0, signal time 2023-12-22 09:47:00, long_ema 4792340.380706636, short_ema 4792753.757008329, entry time 2023-12-22 09:48:00, strike 4800000, entry price 33760.0, exit time 2023-12-22 11:23:00, exit price 46430.0, pnl 4784660.0, type CE, pnl_sum 1057589775.0, price 4801795, logs [], sharpie_ratio 2.3945248639883334, drawdown 9455.0\n",
      "pos 0, signal time 2023-12-22 11:22:00, long_ema 4817655.203795699, short_ema 4817594.159644761, entry time 2023-12-22 11:23:00, strike 4820000, entry price 36140.0, exit time 2023-12-22 11:24:00, exit price 34795.0, pnl 4783610.0, type PE, pnl_sum 1062373385.0, price 4818420, logs [], sharpie_ratio -1.9970304380103934, drawdown 1345.0\n",
      "pos 0, signal time 2023-12-22 11:23:00, long_ema 4817711.855366388, short_ema 4817759.327715809, entry time 2023-12-22 11:24:00, strike 4820000, entry price 35010.0, exit time 2023-12-22 11:28:00, exit price 33625.0, pnl 4781590.0, type CE, pnl_sum 1067154975.0, price 4819750, logs [], sharpie_ratio -2.1706194138511226, drawdown 1500.0\n",
      "pos 0, signal time 2023-12-22 11:27:00, long_ema 4817707.33037627, short_ema 4817579.740632396, entry time 2023-12-22 11:28:00, strike 4820000, entry price 36250.0, exit time 2023-12-22 12:03:00, exit price 38265.0, pnl 4777250.0, type PE, pnl_sum 1071932225.0, price 4816600, logs [], sharpie_ratio 1.1545142385149612, drawdown 6140.0\n",
      "pos 0, signal time 2023-12-22 12:02:00, long_ema 4810189.825444778, short_ema 4810621.251107763, entry time 2023-12-22 12:03:00, strike 4810000, entry price 38460.0, exit time 2023-12-22 12:10:00, exit price 35230.0, pnl 4771105.0, type CE, pnl_sum 1076703330.0, price 4813500, logs [], sharpie_ratio -2.5705354659320316, drawdown 4075.0\n",
      "pos 0, signal time 2023-12-22 12:09:00, long_ema 4810559.178578765, short_ema 4810558.641320315, entry time 2023-12-22 12:10:00, strike 4810000, entry price 36480.0, exit time 2023-12-22 12:49:00, exit price 38175.0, pnl 4764520.0, type PE, pnl_sum 1081467850.0, price 4809565, logs [], sharpie_ratio 0.43436772415884883, drawdown 10980.0\n",
      "pos 0, signal time 2023-12-22 12:48:00, long_ema 4796405.726743021, short_ema 4796917.514616089, entry time 2023-12-22 12:49:00, strike 4800000, entry price 35615.0, exit time 2023-12-22 13:10:00, exit price 32265.0, pnl 4760885.0, type CE, pnl_sum 1086228735.0, price 4801000, logs [], sharpie_ratio -2.8251767600419115, drawdown 4430.0\n",
      "pos 0, signal time 2023-12-22 13:09:00, long_ema 4798833.794597152, short_ema 4798364.939442768, entry time 2023-12-22 13:10:00, strike 4800000, entry price 36375.0, exit time 2023-12-22 14:10:00, exit price 44995.0, pnl 4742525.0, type PE, pnl_sum 1090971260.0, price 4796500, logs [], sharpie_ratio 0.9507981093284944, drawdown 17850.0\n",
      "pos 0, signal time 2023-12-22 14:09:00, long_ema 4768479.465672916, short_ema 4769064.689549382, entry time 2023-12-22 14:10:00, strike 4780000, entry price 32910.0, exit time 2023-12-22 14:35:00, exit price 30050.0, pnl 4739050.0, type CE, pnl_sum 1095710310.0, price 4778900, logs [], sharpie_ratio -1.8370201233407906, drawdown 6450.0\n",
      "pos 0, signal time 2023-12-22 14:34:00, long_ema 4773141.411743073, short_ema 4772388.751647967, entry time 2023-12-22 14:35:00, strike 4770000, entry price 36180.0, exit time 2023-12-22 14:39:00, exit price 31325.0, pnl 4738970.0, type PE, pnl_sum 1100449280.0, price 4771960, logs [], sharpie_ratio -2.2960696361931006, drawdown 6355.0\n",
      "pos 0, signal time 2023-12-22 14:38:00, long_ema 4773621.074215459, short_ema 4774149.576675008, entry time 2023-12-22 14:39:00, strike 4780000, entry price 32700.0, exit time 2023-12-22 15:01:00, exit price 27690.0, pnl 4735465.0, type CE, pnl_sum 1105184745.0, price 4775150, logs [], sharpie_ratio -1.6977725240599042, drawdown 13160.0\n",
      "pos 0, signal time 2023-12-22 15:00:00, long_ema 4779928.48730476, short_ema 4778990.534348544, entry time 2023-12-22 15:01:00, strike 4770000, entry price 33700.0, exit time 2023-12-26 10:00:00, exit price 30400.0, pnl 4730685.0, type PE, pnl_sum 1109915430.0, price 4768165, logs [], sharpie_ratio -1.506948459700439, drawdown 11250.0\n",
      "pos 0, signal time 2023-12-26 09:59:00, long_ema 4755817.02039771, short_ema 4756715.651389575, entry time 2023-12-26 10:00:00, strike 4760000, entry price 29145.0, exit time 2023-12-26 11:02:00, exit price 37090.0, pnl 4749015.0, type CE, pnl_sum 1114664445.0, price 4764385, logs [], sharpie_ratio 1.3670470615945727, drawdown 9525.0\n",
      "pos 0, signal time 2023-12-26 11:01:00, long_ema 4781945.085201088, short_ema 4781516.2856388325, entry time 2023-12-26 11:02:00, strike 4780000, entry price 28465.0, exit time 2023-12-26 11:28:00, exit price 26880.0, pnl 4750610.0, type PE, pnl_sum 1119415055.0, price 4778160, logs [], sharpie_ratio -2.426678999413921, drawdown 2965.0\n",
      "pos 0, signal time 2023-12-26 11:27:00, long_ema 4778849.716820876, short_ema 4778909.187481915, entry time 2023-12-26 11:28:00, strike 4780000, entry price 27515.0, exit time 2023-12-26 11:32:00, exit price 26295.0, pnl 4751820.0, type CE, pnl_sum 1124166875.0, price 4779075, logs [], sharpie_ratio -1.9261220808226696, drawdown 1855.0\n",
      "pos 0, signal time 2023-12-26 11:31:00, long_ema 4778780.20270012, short_ema 4778678.483192592, entry time 2023-12-26 11:32:00, strike 4780000, entry price 27660.0, exit time 2023-12-26 11:34:00, exit price 26550.0, pnl 4753030.0, type PE, pnl_sum 1128919905.0, price 4779335, logs [], sharpie_ratio -2.365580038811566, drawdown 1110.0\n",
      "pos 0, signal time 2023-12-26 11:33:00, long_ema 4778909.721107786, short_ema 4779050.8292432595, entry time 2023-12-26 11:34:00, strike 4780000, entry price 26790.0, exit time 2023-12-26 11:47:00, exit price 26590.0, pnl 4752710.0, type CE, pnl_sum 1133672615.0, price 4780690, logs [], sharpie_ratio -0.229158870425697, drawdown 2820.0\n",
      "pos 0, signal time 2023-12-26 11:46:00, long_ema 4779643.079001061, short_ema 4779540.724462686, entry time 2023-12-26 11:47:00, strike 4780000, entry price 27865.0, exit time 2023-12-26 11:59:00, exit price 26505.0, pnl 4752660.0, type PE, pnl_sum 1138425275.0, price 4779500, logs [], sharpie_ratio -2.5770388993613547, drawdown 1585.0\n",
      "pos 0, signal time 2023-12-26 11:58:00, long_ema 4779394.372301104, short_ema 4779576.999713514, entry time 2023-12-26 11:59:00, strike 4780000, entry price 27060.0, exit time 2023-12-26 12:07:00, exit price 25970.0, pnl 4751100.0, type CE, pnl_sum 1143176375.0, price 4780525, logs [], sharpie_ratio -1.1500261103047298, drawdown 3030.0\n",
      "pos 0, signal time 2023-12-26 12:06:00, long_ema 4779722.228046136, short_ema 4779660.081544256, entry time 2023-12-26 12:07:00, strike 4780000, entry price 28200.0, exit time 2023-12-26 12:22:00, exit price 25550.0, pnl 4753800.0, type PE, pnl_sum 1147930175.0, price 4778160, logs [], sharpie_ratio -3.630511700970931, drawdown 2735.0\n",
      "pos 0, signal time 2023-12-26 12:21:00, long_ema 4779149.362180258, short_ema 4779163.297858777, entry time 2023-12-26 12:22:00, strike 4780000, entry price 27045.0, exit time 2023-12-26 12:45:00, exit price 26040.0, pnl 4751735.0, type CE, pnl_sum 1152681910.0, price 4782000, logs [], sharpie_ratio -0.4848350076528451, drawdown 8130.0\n",
      "pos 0, signal time 2023-12-26 12:44:00, long_ema 4784178.084475204, short_ema 4783865.252917218, entry time 2023-12-26 12:45:00, strike 4780000, entry price 25640.0, exit time 2023-12-26 13:26:00, exit price 26605.0, pnl 4750760.0, type PE, pnl_sum 1157432670.0, price 4778780, logs [], sharpie_ratio 0.6733313912470842, drawdown 6835.0\n",
      "pos 0, signal time 2023-12-26 13:25:00, long_ema 4776663.256806812, short_ema 4776777.043329126, entry time 2023-12-26 13:26:00, strike 4780000, entry price 25070.0, exit time 2023-12-26 14:07:00, exit price 23450.0, pnl 4753180.0, type CE, pnl_sum 1162185850.0, price 4776400, logs [], sharpie_ratio -1.5920791382633106, drawdown 3935.0\n",
      "pos 0, signal time 2023-12-26 14:06:00, long_ema 4781991.095961397, short_ema 4781948.053381395, entry time 2023-12-26 14:07:00, strike 4780000, entry price 24510.0, exit time 2023-12-26 14:18:00, exit price 20835.0, pnl 4763040.0, type PE, pnl_sum 1166948890.0, price 4778250, logs [], sharpie_ratio -2.6183739622841435, drawdown 4935.0\n",
      "pos 0, signal time 2023-12-26 14:17:00, long_ema 4781099.15187699, short_ema 4781176.303884592, entry time 2023-12-26 14:18:00, strike 4790000, entry price 21170.0, exit time 2023-12-26 14:43:00, exit price 20175.0, pnl 4761330.0, type CE, pnl_sum 1171710220.0, price 4787550, logs [], sharpie_ratio -0.450766515064522, drawdown 7495.0\n",
      "pos 0, signal time 2023-12-26 14:42:00, long_ema 4787707.190276855, short_ema 4787390.335545561, entry time 2023-12-26 14:43:00, strike 4780000, entry price 21745.0, exit time 2023-12-26 15:20:00, exit price 21175.0, pnl 4760255.0, type PE, pnl_sum 1176470475.0, price 4782500, logs [], sharpie_ratio -0.4350828566274688, drawdown 5585.0\n",
      "pos 0, signal time 2023-12-26 15:19:00, long_ema 4780705.134545153, short_ema 4780993.4204302365, entry time 2023-12-26 15:20:00, strike 4780000, entry price 24665.0, exit time 2023-12-27 10:57:00, exit price 40090.0, pnl 4786020.0, type CE, pnl_sum 1181256495.0, price 4782000, logs [], sharpie_ratio 2.696407589863609, drawdown 6445.0\n",
      "pos 0, signal time 2023-12-27 10:56:00, long_ema 4810465.698622977, short_ema 4810443.7604576675, entry time 2023-12-27 10:57:00, strike 4810000, entry price 21815.0, exit time 2023-12-27 10:58:00, exit price 20735.0, pnl 4788285.0, type PE, pnl_sum 1186044780.0, price 4810685, logs [], sharpie_ratio -1.9963031423290203, drawdown 1080.0\n",
      "pos 0, signal time 2023-12-27 10:57:00, long_ema 4810481.943169423, short_ema 4810492.008366134, entry time 2023-12-27 10:58:00, strike 4810000, entry price 20690.0, exit time 2023-12-27 10:59:00, exit price 19895.0, pnl 4787610.0, type CE, pnl_sum 1190832390.0, price 4810100, logs [], sharpie_ratio -1.9949811794228356, drawdown 795.0\n",
      "pos 0, signal time 2023-12-27 10:58:00, long_ema 4810453.6510828, short_ema 4810413.606692907, entry time 2023-12-27 10:59:00, strike 4810000, entry price 20655.0, exit time 2023-12-27 11:18:00, exit price 19455.0, pnl 4791395.0, type PE, pnl_sum 1195623785.0, price 4808300, logs [], sharpie_ratio -1.5034058269272481, drawdown 2945.0\n",
      "pos 0, signal time 2023-12-27 11:17:00, long_ema 4808961.019316674, short_ema 4809139.080830507, entry time 2023-12-27 11:18:00, strike 4810000, entry price 20980.0, exit time 2023-12-27 11:48:00, exit price 20210.0, pnl 4788990.0, type CE, pnl_sum 1200412775.0, price 4812050, logs [], sharpie_ratio -0.9061878474197933, drawdown 2725.0\n",
      "pos 0, signal time 2023-12-27 11:47:00, long_ema 4811935.014227678, short_ema 4811755.6171383625, entry time 2023-12-27 11:48:00, strike 4810000, entry price 19960.0, exit time 2023-12-27 11:55:00, exit price 18170.0, pnl 4793570.0, type PE, pnl_sum 1205206345.0, price 4809970, logs [], sharpie_ratio -2.040561215851272, drawdown 2290.0\n",
      "pos 0, signal time 2023-12-27 11:54:00, long_ema 4811801.099438429, short_ema 4812029.7619352965, entry time 2023-12-27 11:55:00, strike 4810000, entry price 22085.0, exit time 2023-12-27 12:24:00, exit price 20255.0, pnl 4787915.0, type CE, pnl_sum 1209994260.0, price 4813530, logs [], sharpie_ratio -0.576696228957382, drawdown 13205.0\n",
      "pos 0, signal time 2023-12-27 12:23:00, long_ema 4822759.325672174, short_ema 4821758.8695786325, entry time 2023-12-27 12:24:00, strike 4810000, entry price 19060.0, exit time 2023-12-27 13:00:00, exit price 20485.0, pnl 4789100.0, type PE, pnl_sum 1214783360.0, price 4810000, logs [], sharpie_ratio 1.227048262329185, drawdown 5500.0\n",
      "pos 0, signal time 2023-12-27 12:59:00, long_ema 4810906.238678108, short_ema 4810938.984072073, entry time 2023-12-27 13:00:00, strike 4810000, entry price 19985.0, exit time 2023-12-27 13:01:00, exit price 17455.0, pnl 4787015.0, type CE, pnl_sum 1219570375.0, price 4808160, logs [], sharpie_ratio -1.9984202211690363, drawdown 2530.0\n",
      "pos 0, signal time 2023-12-27 13:00:00, long_ema 4810702.81359084, short_ema 4810383.187257659, entry time 2023-12-27 13:01:00, strike 4810000, entry price 20550.0, exit time 2023-12-27 13:50:00, exit price 18510.0, pnl 4786815.0, type PE, pnl_sum 1224357190.0, price 4807000, logs [], sharpie_ratio -1.014230529720298, drawdown 9970.0\n",
      "pos 0, signal time 2023-12-27 13:49:00, long_ema 4800132.399794575, short_ema 4800229.523647747, entry time 2023-12-27 13:50:00, strike 4810000, entry price 15825.0, exit time 2023-12-27 14:33:00, exit price 14725.0, pnl 4790180.0, type CE, pnl_sum 1229147370.0, price 4807365, logs [], sharpie_ratio -1.1417209199012968, drawdown 5130.0\n",
      "pos 0, signal time 2023-12-27 14:32:00, long_ema 4807824.823612703, short_ema 4807195.574917304, entry time 2023-12-27 14:33:00, strike 4810000, entry price 20250.0, exit time 2023-12-27 14:37:00, exit price 15825.0, pnl 4791815.0, type PE, pnl_sum 1233939185.0, price 4806005, logs [], sharpie_ratio -2.417734838488824, drawdown 5390.0\n",
      "pos 0, signal time 2023-12-27 14:36:00, long_ema 4808145.2436934905, short_ema 4808522.139486128, entry time 2023-12-27 14:37:00, strike 4810000, entry price 18295.0, exit time 2023-12-28 10:02:00, exit price 45750.0, pnl 4834290.0, type CE, pnl_sum 1238773475.0, price 4812065, logs [], sharpie_ratio 2.4886751956220112, drawdown 12410.0\n",
      "pos 0, signal time 2023-12-28 10:01:00, long_ema 4855523.350969387, short_ema 4855398.755031144, entry time 2023-12-28 10:02:00, strike 4850000, entry price 14330.0, exit time 2023-12-28 10:47:00, exit price 10865.0, pnl 4836645.0, type PE, pnl_sum 1243610120.0, price 4852585, logs [], sharpie_ratio -1.3426672188151514, drawdown 11655.0\n",
      "pos 0, signal time 2023-12-28 10:46:00, long_ema 4844612.778145443, short_ema 4845007.405712437, entry time 2023-12-28 10:47:00, strike 4850000, entry price 10490.0, exit time 2023-12-28 10:55:00, exit price 6870.0, pnl 4829855.0, type CE, pnl_sum 1248439975.0, price 4850975, logs [], sharpie_ratio -2.202583157314285, drawdown 4875.0\n",
      "pos 0, signal time 2023-12-28 10:54:00, long_ema 4845589.353341777, short_ema 4845570.877288372, entry time 2023-12-28 10:55:00, strike 4840000, entry price 11130.0, exit time 2023-12-28 11:07:00, exit price 6305.0, pnl 4837870.0, type PE, pnl_sum 1253277845.0, price 4840345, logs [], sharpie_ratio -3.955186031863268, drawdown 4825.0\n",
      "pos 0, signal time 2023-12-28 11:06:00, long_ema 4844855.597010753, short_ema 4845004.935110069, entry time 2023-12-28 11:07:00, strike 4850000, entry price 7915.0, exit time 2023-12-28 11:56:00, exit price 10650.0, pnl 4845680.0, type CE, pnl_sum 1258123525.0, price 4849000, logs [], sharpie_ratio 2.4713352696685704, drawdown 5530.0\n",
      "pos 0, signal time 2023-12-28 11:55:00, long_ema 4852847.950956908, short_ema 4852664.641455848, entry time 2023-12-28 11:56:00, strike 4850000, entry price 8990.0, exit time 2023-12-28 11:59:00, exit price 7120.0, pnl 4845390.0, type PE, pnl_sum 1262968915.0, price 4853595, logs [], sharpie_ratio -2.6257336975817394, drawdown 1870.0\n",
      "pos 0, signal time 2023-12-28 11:58:00, long_ema 4852979.787314012, short_ema 4853077.656425395, entry time 2023-12-28 11:59:00, strike 4850000, entry price 10910.0, exit time 2023-12-28 12:12:00, exit price 10420.0, pnl 4842065.0, type CE, pnl_sum 1267810980.0, price 4854380, logs [], sharpie_ratio -1.0623646741655746, drawdown 1860.0\n",
      "pos 0, signal time 2023-12-28 12:11:00, long_ema 4853319.276601479, short_ema 4853170.803064031, entry time 2023-12-28 12:12:00, strike 4850000, entry price 7800.0, exit time 2023-12-28 12:22:00, exit price 6875.0, pnl 4846200.0, type PE, pnl_sum 1272657180.0, price 4852975, logs [], sharpie_ratio -1.6843318791680886, drawdown 1680.0\n",
      "pos 0, signal time 2023-12-28 12:21:00, long_ema 4853162.632486015, short_ema 4853314.824856953, entry time 2023-12-28 12:22:00, strike 4850000, entry price 11255.0, exit time 2023-12-28 12:57:00, exit price 12355.0, pnl 4847245.0, type CE, pnl_sum 1277504425.0, price 4854000, logs [], sharpie_ratio 1.138643939546218, drawdown 3760.0\n",
      "pos 0, signal time 2023-12-28 12:56:00, long_ema 4857391.910773159, short_ema 4857351.126787883, entry time 2023-12-28 12:57:00, strike 4860000, entry price 9880.0, exit time 2023-12-28 12:58:00, exit price 9455.0, pnl 4847485.0, type PE, pnl_sum 1282351910.0, price 4858500, logs [], sharpie_ratio -1.990632318501171, drawdown 425.0\n",
      "pos 0, signal time 2023-12-28 12:57:00, long_ema 4857473.991456629, short_ema 4857580.901430307, entry time 2023-12-28 12:58:00, strike 4860000, entry price 6715.0, exit time 2023-12-28 13:00:00, exit price 5850.0, pnl 4849285.0, type CE, pnl_sum 1287201195.0, price 4857365, logs [], sharpie_ratio -1.9856178490893057, drawdown 970.0\n",
      "pos 0, signal time 2023-12-28 12:59:00, long_ema 4857339.553717961, short_ema 4857182.176915397, entry time 2023-12-28 13:00:00, strike 4860000, entry price 10275.0, exit time 2023-12-28 13:09:00, exit price 7785.0, pnl 4849970.0, type PE, pnl_sum 1292051165.0, price 4856000, logs [], sharpie_ratio -3.1339005502442667, drawdown 2790.0\n",
      "pos 0, signal time 2023-12-28 13:08:00, long_ema 4857379.4993940005, short_ema 4857714.91629328, entry time 2023-12-28 13:09:00, strike 4860000, entry price 7765.0, exit time 2023-12-28 13:24:00, exit price 6010.0, pnl 4850235.0, type CE, pnl_sum 1296901400.0, price 4860245, logs [], sharpie_ratio -2.327970069082243, drawdown 2095.0\n",
      "pos 0, signal time 2023-12-28 13:23:00, long_ema 4858344.963883014, short_ema 4858286.666222162, entry time 2023-12-28 13:24:00, strike 4860000, entry price 8490.0, exit time 2023-12-28 13:26:00, exit price 9680.0, pnl 4846415.0, type PE, pnl_sum 1301747815.0, price 4858000, logs [], sharpie_ratio 1.6285683493002934, drawdown 560.0\n",
      "pos 0, signal time 2023-12-28 13:25:00, long_ema 4858371.676854435, short_ema 4858388.466382184, entry time 2023-12-28 13:26:00, strike 4850000, entry price 12855.0, exit time 2023-12-28 13:27:00, exit price 9230.0, pnl 4840930.0, type CE, pnl_sum 1306588745.0, price 4854905, logs [], sharpie_ratio -1.9988971601874828, drawdown 3625.0\n",
      "pos 0, signal time 2023-12-28 13:26:00, long_ema 4858114.8859763285, short_ema 4857691.773105747, entry time 2023-12-28 13:27:00, strike 4850000, entry price 4965.0, exit time 2023-12-28 14:04:00, exit price 2410.0, pnl 4853425.0, type PE, pnl_sum 1311442170.0, price 4853785, logs [], sharpie_ratio -3.384357120513224, drawdown 3270.0\n",
      "pos 0, signal time 2023-12-28 14:03:00, long_ema 4855181.663528205, short_ema 4855646.622562995, entry time 2023-12-28 14:04:00, strike 4860000, entry price 5245.0, exit time 2023-12-28 14:15:00, exit price 2370.0, pnl 4846860.0, type CE, pnl_sum 1316289030.0, price 4858390, logs [], sharpie_ratio -2.7197515740234377, drawdown 3175.0\n",
      "pos 0, signal time 2023-12-28 14:14:00, long_ema 4855741.89605888, short_ema 4855209.458739046, entry time 2023-12-28 14:15:00, strike 4850000, entry price 5630.0, exit time 2023-12-28 14:58:00, exit price 1840.0, pnl 4846060.0, type PE, pnl_sum 1321135090.0, price 4852105, logs [], sharpie_ratio -3.0949887572848636, drawdown 5315.0\n",
      "pos 0, signal time 2023-12-28 14:57:00, long_ema 4849376.837734091, short_ema 4849438.93349066, entry time 2023-12-28 14:58:00, strike 4850000, entry price 3910.0, exit time 2023-12-28 15:29:00, exit price 910.0, pnl -3000.0, type CE, pnl_sum 1321132090.0, price 4851690, logs [], sharpie_ratio -3.5313890135957124, drawdown 3275.0\n"
     ]
    }
   ],
   "source": [
    "columns_to_print = {\n",
    "    'pos': 1, 'signal_time': 1, 'long_ema': 1, 'short_ema': 1, 'entry_time': 1,\n",
    "    'strike': 1, 'entry_price': 1, 'exit_time': 1, 'exit_price': 1, 'pnl': 1,\n",
    "    'type': 1, 'pnl_sum': 1, 'price': 1, 'logs': 1, 'movment': 0, 'sharpie_ratio': 1, 'drawdown': 1\n",
    "}\n",
    "fn.print_trades(trades, columns_to_print)"
   ]
  },
  {
   "cell_type": "code",
   "execution_count": 171,
   "metadata": {},
   "outputs": [],
   "source": [
    "# fig = fn.grpah(x=[i for i in range(len(trades))] , y=[i['pnl'] for i in trades])\n"
   ]
  },
  {
   "cell_type": "code",
   "execution_count": 172,
   "metadata": {},
   "outputs": [],
   "source": [
    "# fig = fn.grpah(x=[i for i in range(len(trades))] , y=[i['pnl_sum'] for i in trades])"
   ]
  },
  {
   "cell_type": "code",
   "execution_count": null,
   "metadata": {},
   "outputs": [
    {
     "name": "stdout",
     "output_type": "stream",
     "text": [
      "173600.0\n"
     ]
    }
   ],
   "source": [
    "drawdownval = fn.drawdown(trades)\n",
    "print(drawdownval)"
   ]
  },
  {
   "cell_type": "code",
   "execution_count": null,
   "metadata": {},
   "outputs": [
    {
     "name": "stdout",
     "output_type": "stream",
     "text": [
      "sharpie ratio = 0.11523192994542368\n"
     ]
    }
   ],
   "source": [
    "print(f\"sharpie ratio = {fn.sharpie(trades)}\")"
   ]
  }
 ],
 "metadata": {
  "accelerator": "GPU",
  "colab": {
   "collapsed_sections": [],
   "name": "Final Phase",
   "provenance": []
  },
  "kernelspec": {
   "display_name": "Python 3 (ipykernel)",
   "language": "python",
   "name": "python3"
  },
  "language_info": {
   "codemirror_mode": {
    "name": "ipython",
    "version": 3
   },
   "file_extension": ".py",
   "mimetype": "text/x-python",
   "name": "python",
   "nbconvert_exporter": "python",
   "pygments_lexer": "ipython3",
   "version": "3.12.1"
  }
 },
 "nbformat": 4,
 "nbformat_minor": 4
}
