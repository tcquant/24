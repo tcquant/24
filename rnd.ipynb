{
 "cells": [
  {
   "cell_type": "code",
   "execution_count": 1,
   "metadata": {},
   "outputs": [],
   "source": [
    "import plotly.graph_objects as go\n",
    "import pandas as pd\n",
    "import numpy as np\n"
   ]
  },
  {
   "cell_type": "code",
   "execution_count": 61,
   "metadata": {},
   "outputs": [
    {
     "name": "stdout",
     "output_type": "stream",
     "text": [
      "Chart saved as multi_yaxis_plot.html. Open it in a browser.\n"
     ]
    }
   ],
   "source": [
    "import plotly.graph_objects as go\n",
    "import pandas as pd\n",
    "\n",
    "# ✅ Read CSV file containing futures data\n",
    "df = pd.read_csv('NIFTY/options/options_NIFTY_2025-03-21.csv')\n",
    "df = df[(df['strike']==22100) & (df['opt_type']==\"CE\")]\n",
    "timestamps = pd.to_datetime(df['date_timestamp']).dt.strftime(\"%Y-%m-%d %H:%M\").tolist()\n",
    "\n",
    "# ✅ Define multiple plots dynamically\n",
    "custom_plots = {\n",
    "    \"Close Price\": {\"y\": df['close'], \"color\": \"#00ccff\", \"yaxis\": \"y\"},\n",
    "    \"Open Price\": {\"y\": df['open'], \"color\": \"#ff6699\", \"yaxis\": \"y2\"},\n",
    "    \"High Price\": {\"y\": df['high'], \"color\": \"#99ff66\", \"yaxis\": \"y3\"},\n",
    "    \"Low Price\": {\"y\": df['low'], \"color\": \"#ffcc00\", \"yaxis\": \"y4\"}\n",
    "}\n",
    "\n",
    "traces = []\n",
    "\n",
    "traces.append(go.Scatter(x=timestamps,\n",
    "        y=df['close'],\n",
    "        mode=\"lines+markers\",line=dict(color='red', width=2),marker=dict(size=6, color='red'),\n",
    "        yaxis=\"y\"\n",
    "    ))\n",
    "\n",
    "# traces.append(go.Scatter(x=timestamps,\n",
    "#         y=df['open'],\n",
    "#         mode=\"lines+markers\",line=dict(color='blue', width=2),marker=dict(size=6, color='blue'),\n",
    "#         yaxis=\"y1\"\n",
    "#     ))\n",
    "\n",
    "# ✅ Dynamic Y-Axis Assignment\n",
    "layout = go.Layout(\n",
    "    title=\"Multi Y-Axis Interactive Chart\",\n",
    "    xaxis=dict(title=\"Time\", domain=[0.1, 0.9]),\n",
    "    yaxis=dict(title=\"Close Price\", side=\"left\", showgrid=False, color=\"#00ccff\", anchor=\"x\"),\n",
    "    yaxis2=dict(title=\"Open Price\", overlaying=\"y\", side=\"right\", showgrid=False, color=\"#ff6699\"),\n",
    "    yaxis3=dict(title=\"High Price\", overlaying=\"y\", side=\"left\", position=0.05, showgrid=False, color=\"#99ff66\"),\n",
    "    yaxis4=dict(title=\"Low Price\", overlaying=\"y\", side=\"right\", position=0.95, showgrid=False, color=\"#ffcc00\"),\n",
    "    hovermode=\"x unified\",\n",
    "    dragmode=\"pan\",\n",
    "    autosize=True,\n",
    "    height=900,  # Increase height to fill more of the page\n",
    "    width=1600,  # Increase width for more view area\n",
    "    margin=dict(l=0, r=50, t=50, b=50)  # Reduce extra margins\n",
    ")\n",
    "\n",
    "# ✅ Create Figure\n",
    "fig = go.Figure(data=traces, layout=layout)\n",
    "\n",
    "# ✅ Enable Zoom & Save HTML\n",
    "fig.write_html(\"multi_yaxis_plot.html\", config={\"scrollZoom\": True, \"displayModeBar\": True}, include_plotlyjs=\"cdn\")\n",
    "\n",
    "print(\"Chart saved as multi_yaxis_plot.html. Open it in a browser.\")\n"
   ]
  }
 ],
 "metadata": {
  "kernelspec": {
   "display_name": "Python 3",
   "language": "python",
   "name": "python3"
  },
  "language_info": {
   "codemirror_mode": {
    "name": "ipython",
    "version": 3
   },
   "file_extension": ".py",
   "mimetype": "text/x-python",
   "name": "python",
   "nbconvert_exporter": "python",
   "pygments_lexer": "ipython3",
   "version": "3.11.9"
  }
 },
 "nbformat": 4,
 "nbformat_minor": 2
}
